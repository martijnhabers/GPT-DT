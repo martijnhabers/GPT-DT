{
 "cells": [
  {
   "cell_type": "code",
   "execution_count": 2,
   "metadata": {},
   "outputs": [
    {
     "name": "stderr",
     "output_type": "stream",
     "text": [
      "CUDA not available - defaulting to CPU. Note: This module is much faster with a GPU.\n",
      "c:\\Users\\Martijn\\miniconda3\\envs\\BEP\\lib\\site-packages\\tqdm\\auto.py:21: TqdmWarning: IProgress not found. Please update jupyter and ipywidgets. See https://ipywidgets.readthedocs.io/en/stable/user_install.html\n",
      "  from .autonotebook import tqdm as notebook_tqdm\n"
     ]
    }
   ],
   "source": [
    "from main import *\n",
    "import pandas as pd\n",
    "import sklearn as sk"
   ]
  },
  {
   "cell_type": "code",
   "execution_count": 3,
   "metadata": {},
   "outputs": [],
   "source": [
    "# image = \"vraag 14.jpg\"\n",
    "# prompt, response = run_program(image)"
   ]
  },
  {
   "cell_type": "code",
   "execution_count": 4,
   "metadata": {},
   "outputs": [],
   "source": [
    "truth = pd.read_csv(\"ground-truth.csv\")\n",
    "results = truth.copy(deep = True)\n",
    "results[\"Answer(word)\"] = None\n",
    "results[\"Answer(letter)\"] = None\n",
    "results[\"Speed\"] = None"
   ]
  },
  {
   "cell_type": "code",
   "execution_count": 5,
   "metadata": {},
   "outputs": [
    {
     "data": {
      "text/html": [
       "<div>\n",
       "<style scoped>\n",
       "    .dataframe tbody tr th:only-of-type {\n",
       "        vertical-align: middle;\n",
       "    }\n",
       "\n",
       "    .dataframe tbody tr th {\n",
       "        vertical-align: top;\n",
       "    }\n",
       "\n",
       "    .dataframe thead th {\n",
       "        text-align: right;\n",
       "    }\n",
       "</style>\n",
       "<table border=\"1\" class=\"dataframe\">\n",
       "  <thead>\n",
       "    <tr style=\"text-align: right;\">\n",
       "      <th></th>\n",
       "      <th>Filename</th>\n",
       "      <th>Answer(letter)</th>\n",
       "      <th>Answer(word)</th>\n",
       "      <th>Speed</th>\n",
       "    </tr>\n",
       "  </thead>\n",
       "  <tbody>\n",
       "    <tr>\n",
       "      <th>0</th>\n",
       "      <td>vraag 1.jpg</td>\n",
       "      <td>A</td>\n",
       "      <td>Brake</td>\n",
       "      <td>40</td>\n",
       "    </tr>\n",
       "    <tr>\n",
       "      <th>1</th>\n",
       "      <td>vraag 2.jpg</td>\n",
       "      <td>A</td>\n",
       "      <td>Brake</td>\n",
       "      <td>80</td>\n",
       "    </tr>\n",
       "    <tr>\n",
       "      <th>2</th>\n",
       "      <td>vraag 3.jpg</td>\n",
       "      <td>B</td>\n",
       "      <td>Release Accelerator</td>\n",
       "      <td>25</td>\n",
       "    </tr>\n",
       "    <tr>\n",
       "      <th>3</th>\n",
       "      <td>vraag 4.jpg</td>\n",
       "      <td>A</td>\n",
       "      <td>Brake</td>\n",
       "      <td>40</td>\n",
       "    </tr>\n",
       "    <tr>\n",
       "      <th>4</th>\n",
       "      <td>vraag 5.jpg</td>\n",
       "      <td>C</td>\n",
       "      <td>Nothing</td>\n",
       "      <td>30</td>\n",
       "    </tr>\n",
       "  </tbody>\n",
       "</table>\n",
       "</div>"
      ],
      "text/plain": [
       "      Filename Answer(letter)         Answer(word)  Speed\n",
       "0  vraag 1.jpg              A                Brake     40\n",
       "1  vraag 2.jpg              A                Brake     80\n",
       "2  vraag 3.jpg              B  Release Accelerator     25\n",
       "3  vraag 4.jpg              A                Brake     40\n",
       "4  vraag 5.jpg              C              Nothing     30"
      ]
     },
     "execution_count": 5,
     "metadata": {},
     "output_type": "execute_result"
    }
   ],
   "source": [
    "truth.head(5)"
   ]
  },
  {
   "cell_type": "code",
   "execution_count": 6,
   "metadata": {},
   "outputs": [
    {
     "name": "stderr",
     "output_type": "stream",
     "text": [
      "\n",
      "image 1/1 C:\\Users\\Martijn\\Desktop\\coding-projects\\BEP\\GPT-DT\\images\\vraag 1.jpg: 384x640 1 outside-view, 1 rear-view, 1 speed, 160.8ms\n",
      "Speed: 5.0ms preprocess, 160.8ms inference, 1.2ms postprocess per image at shape (1, 3, 640, 640)\n",
      "Results saved to \u001b[1mtri-crop\\predict\u001b[0m\n",
      "YOLOv5  2023-5-10 Python-3.9.16 torch-2.0.0 CPU\n",
      "\n"
     ]
    },
    {
     "name": "stdout",
     "output_type": "stream",
     "text": [
      "'utf-8' codec can't decode byte 0xff in position 0: invalid start byte\n"
     ]
    },
    {
     "name": "stderr",
     "output_type": "stream",
     "text": [
      "Fusing layers... \n",
      "Model summary: 476 layers, 76226352 parameters, 0 gradients, 110.1 GFLOPs\n",
      "Adding AutoShape... \n"
     ]
    },
    {
     "name": "stdout",
     "output_type": "stream",
     "text": [
      "1/1 [==============================] - 1s 716ms/step\n",
      "braking\n",
      "1/1 [==============================] - 0s 264ms/step\n",
      "braking\n",
      "1/1 [==============================] - 0s 209ms/step\n",
      "not braking\n",
      "1/1 [==============================] - 0s 244ms/step\n",
      "not braking\n"
     ]
    },
    {
     "name": "stderr",
     "output_type": "stream",
     "text": [
      "Using cache found in C:\\Users\\Martijn/.cache\\torch\\hub\\isl-org_ZoeDepth_main\n"
     ]
    },
    {
     "name": "stdout",
     "output_type": "stream",
     "text": [
      "img_size [384, 512]\n"
     ]
    },
    {
     "name": "stderr",
     "output_type": "stream",
     "text": [
      "Using cache found in C:\\Users\\Martijn/.cache\\torch\\hub\\intel-isl_MiDaS_master\n"
     ]
    },
    {
     "name": "stdout",
     "output_type": "stream",
     "text": [
      "Params passed to Resize transform:\n",
      "\twidth:  512\n",
      "\theight:  384\n",
      "\tresize_target:  True\n",
      "\tkeep_aspect_ratio:  True\n",
      "\tensure_multiple_of:  32\n",
      "\tresize_method:  minimal\n",
      "Using pretrained resource url::https://github.com/isl-org/ZoeDepth/releases/download/v1.0/ZoeD_M12_NK.pt\n",
      "Loaded successfully\n"
     ]
    },
    {
     "name": "stderr",
     "output_type": "stream",
     "text": [
      "\n"
     ]
    },
    {
     "name": "stdout",
     "output_type": "stream",
     "text": [
      "Assume you are driving in The Netherlands. You are driving in a urban road at 40 km/h. The weather condition is sunny weather. This is your front view; You see the following cars: A car approaching from 17.0 meters infront of you and to your left, A car 21.0 meters infront of you and to your left, A car approaching from 32.0 meters directly infront of you, A car approaching from 24.0 meters infront of you and to your left, A car approaching from 29.0 meters infront of you and to your left, A car approaching from 32.0 meters directly infront of you, A car approaching from 59.0 meters directly infront of you. You see the following traffic signs: There are no traffic signs in sight. You see the following traffic lights: There are no traffic lights in sight. You see the following pedestrians: A person 14.0 meters infront of you and to your left. You see the following bicyclist: A bicyclist 13.0 meters infront of you and to your right. Additionally, you see: there are no more objects than the ones mentioned above. This is your rear view: You see the following: There are no significant objects behind you. Given the described situation above, what would you do: 'A) Brake', 'B) Let go of the gas pedal' or 'C) Do nothing'. Choose one of the 3 options I gave you. Show me just your answer.Consider the following:\n",
      "            \n",
      "A) Brake (drastically reducing speed for urgent danger)\n",
      "When you’re driving the maximum allowed speed, you usually should brake if you encounter:\n",
      "Weaker road users, like children or pedestrians\n",
      "There is oncoming traffic on narrow roads\n",
      "You’re driving past road work or other obstacles\n",
      "You’re on a chaotic or dangerous intersection\n",
      "You’re in a busy residential area, or near a school\n",
      "You’re nearing a sharp or dangerous turn\n",
      "Large speed differences between you and other road users\n",
      "For yellow and red traffic lights\n",
      "\n",
      "B) Let go of the gas pedal (reducing some speed)\n",
      "When you don’t have a full overview of the situation\n",
      "When there is no danger\n",
      "If the speed limit changes\n",
      "\n",
      "C) Do Nothing (continue driving your current speed)\n",
      "If there is no direct danger\n",
      "If there is a proper amount of distance between you and other road users\n",
      "\n",
      "When the speed limit doesn’t change\n",
      "\n",
      "Given the described situation above, the best option would be B) Let go of the gas pedal (reducing some speed).\n"
     ]
    },
    {
     "name": "stderr",
     "output_type": "stream",
     "text": [
      "image 1/1 C:\\Users\\Martijn\\Desktop\\coding-projects\\BEP\\GPT-DT\\images\\vraag 2.jpg: 384x640 1 outside-view, 1 rear-view, 1 speed, 153.8ms\n",
      "Speed: 0.0ms preprocess, 153.8ms inference, 17.3ms postprocess per image at shape (1, 3, 640, 640)\n",
      "Results saved to \u001b[1mtri-crop\\predict\u001b[0m\n",
      "YOLOv5  2023-5-10 Python-3.9.16 torch-2.0.0 CPU\n",
      "\n"
     ]
    },
    {
     "name": "stdout",
     "output_type": "stream",
     "text": [
      "'utf-8' codec can't decode byte 0xff in position 0: invalid start byte\n"
     ]
    },
    {
     "name": "stderr",
     "output_type": "stream",
     "text": [
      "Fusing layers... \n",
      "Model summary: 476 layers, 76226352 parameters, 0 gradients, 110.1 GFLOPs\n",
      "Adding AutoShape... \n"
     ]
    },
    {
     "name": "stdout",
     "output_type": "stream",
     "text": [
      "WARNING:tensorflow:5 out of the last 5 calls to <function Model.make_predict_function.<locals>.predict_function at 0x00000230D32B68B0> triggered tf.function retracing. Tracing is expensive and the excessive number of tracings could be due to (1) creating @tf.function repeatedly in a loop, (2) passing tensors with different shapes, (3) passing Python objects instead of tensors. For (1), please define your @tf.function outside of the loop. For (2), @tf.function has reduce_retracing=True option that can avoid unnecessary retracing. For (3), please refer to https://www.tensorflow.org/guide/function#controlling_retracing and https://www.tensorflow.org/api_docs/python/tf/function for  more details.\n",
      "1/1 [==============================] - 1s 508ms/step\n",
      "not braking\n",
      "WARNING:tensorflow:6 out of the last 6 calls to <function Model.make_predict_function.<locals>.predict_function at 0x00000230D3FE5940> triggered tf.function retracing. Tracing is expensive and the excessive number of tracings could be due to (1) creating @tf.function repeatedly in a loop, (2) passing tensors with different shapes, (3) passing Python objects instead of tensors. For (1), please define your @tf.function outside of the loop. For (2), @tf.function has reduce_retracing=True option that can avoid unnecessary retracing. For (3), please refer to https://www.tensorflow.org/guide/function#controlling_retracing and https://www.tensorflow.org/api_docs/python/tf/function for  more details.\n",
      "1/1 [==============================] - 0s 252ms/step\n",
      "not braking\n"
     ]
    },
    {
     "name": "stderr",
     "output_type": "stream",
     "text": [
      "Using cache found in C:\\Users\\Martijn/.cache\\torch\\hub\\isl-org_ZoeDepth_main\n",
      "Using cache found in C:\\Users\\Martijn/.cache\\torch\\hub\\intel-isl_MiDaS_master\n"
     ]
    },
    {
     "name": "stdout",
     "output_type": "stream",
     "text": [
      "img_size [384, 512]\n",
      "Params passed to Resize transform:\n",
      "\twidth:  512\n",
      "\theight:  384\n",
      "\tresize_target:  True\n",
      "\tkeep_aspect_ratio:  True\n",
      "\tensure_multiple_of:  32\n",
      "\tresize_method:  minimal\n",
      "Using pretrained resource url::https://github.com/isl-org/ZoeDepth/releases/download/v1.0/ZoeD_M12_NK.pt\n",
      "Loaded successfully\n"
     ]
    },
    {
     "name": "stderr",
     "output_type": "stream",
     "text": [
      "\n"
     ]
    },
    {
     "name": "stdout",
     "output_type": "stream",
     "text": [
      "Assume you are driving in The Netherlands. You are driving in a highway at 80 km/h. The weather condition is sunny weather. This is your front view; You see the following cars: A car 17.0 meters infront of you and to your left, A car 18.0 meters infront of you and to your left. You see the following traffic signs: There are no traffic signs in sight. You see the following traffic lights: There are no traffic lights in sight. You see the following pedestrians: There are no pedestrians in sight. You see the following bicyclist: There are no bicycles in sight. Additionally, you see: there are no more objects than the ones mentioned above. This is your rear view: You see the following: A car closely behind you. Given the described situation above, what would you do: 'A) Brake', 'B) Let go of the gas pedal' or 'C) Do nothing'. Choose one of the 3 options I gave you. Show me just your answer.Consider the following:\n",
      "            \n",
      "A) Brake (drastically reducing speed for urgent danger)\n",
      "When you’re driving the maximum allowed speed, you usually should brake if you encounter:\n",
      "Weaker road users, like children or pedestrians\n",
      "There is oncoming traffic on narrow roads\n",
      "You’re driving past road work or other obstacles\n",
      "You’re on a chaotic or dangerous intersection\n",
      "You’re in a busy residential area, or near a school\n",
      "You’re nearing a sharp or dangerous turn\n",
      "Large speed differences between you and other road users\n",
      "For yellow and red traffic lights\n",
      "\n",
      "B) Let go of the gas pedal (reducing some speed)\n",
      "When you don’t have a full overview of the situation\n",
      "When there is no danger\n",
      "If the speed limit changes\n",
      "\n",
      "C) Do Nothing (continue driving your current speed)\n",
      "If there is no direct danger\n",
      "If there is a proper amount of distance between you and other road users\n",
      "\n",
      "If you have a full overview of the situation\n"
     ]
    },
    {
     "name": "stderr",
     "output_type": "stream",
     "text": [
      "image 1/1 C:\\Users\\Martijn\\Desktop\\coding-projects\\BEP\\GPT-DT\\images\\vraag 3.jpg: 384x640 1 outside-view, 1 rear-view, 1 speed, 132.2ms\n",
      "Speed: 0.0ms preprocess, 132.2ms inference, 2.1ms postprocess per image at shape (1, 3, 640, 640)\n",
      "Results saved to \u001b[1mtri-crop\\predict\u001b[0m\n",
      "YOLOv5  2023-5-10 Python-3.9.16 torch-2.0.0 CPU\n",
      "\n"
     ]
    },
    {
     "name": "stdout",
     "output_type": "stream",
     "text": [
      "'utf-8' codec can't decode byte 0xff in position 0: invalid start byte\n"
     ]
    },
    {
     "name": "stderr",
     "output_type": "stream",
     "text": [
      "Fusing layers... \n",
      "Model summary: 476 layers, 76226352 parameters, 0 gradients, 110.1 GFLOPs\n",
      "Adding AutoShape... \n",
      "Using cache found in C:\\Users\\Martijn/.cache\\torch\\hub\\isl-org_ZoeDepth_main\n"
     ]
    },
    {
     "name": "stdout",
     "output_type": "stream",
     "text": [
      "img_size [384, 512]\n"
     ]
    },
    {
     "name": "stderr",
     "output_type": "stream",
     "text": [
      "Using cache found in C:\\Users\\Martijn/.cache\\torch\\hub\\intel-isl_MiDaS_master\n"
     ]
    },
    {
     "name": "stdout",
     "output_type": "stream",
     "text": [
      "Params passed to Resize transform:\n",
      "\twidth:  512\n",
      "\theight:  384\n",
      "\tresize_target:  True\n",
      "\tkeep_aspect_ratio:  True\n",
      "\tensure_multiple_of:  32\n",
      "\tresize_method:  minimal\n",
      "Using pretrained resource url::https://github.com/isl-org/ZoeDepth/releases/download/v1.0/ZoeD_M12_NK.pt\n",
      "Loaded successfully\n",
      "Assume you are driving in The Netherlands. You are driving in a provincial road at 25 km/h. The weather condition is snowy weather. This is your front view; You see the following cars: There are no cars in sight. You see the following traffic signs: There are no traffic signs in sight. You see the following traffic lights: There are no traffic lights in sight. You see the following pedestrians: There are no pedestrians in sight. You see the following bicyclist: There are no bicycles in sight. Additionally, you see: there are no more objects than the ones mentioned above. This is your rear view: You see the following: There are no significant objects behind you. Given the described situation above, what would you do: 'A) Brake', 'B) Let go of the gas pedal' or 'C) Do nothing'. Choose one of the 3 options I gave you. Show me just your answer.Consider the following:\n",
      "            \n",
      "A) Brake (drastically reducing speed for urgent danger)\n",
      "When you’re driving the maximum allowed speed, you usually should brake if you encounter:\n",
      "Weaker road users, like children or pedestrians\n",
      "There is oncoming traffic on narrow roads\n",
      "You’re driving past road work or other obstacles\n",
      "You’re on a chaotic or dangerous intersection\n",
      "You’re in a busy residential area, or near a school\n",
      "You’re nearing a sharp or dangerous turn\n",
      "Large speed differences between you and other road users\n",
      "For yellow and red traffic lights\n",
      "\n",
      "B) Let go of the gas pedal (reducing some speed)\n",
      "When you don’t have a full overview of the situation\n",
      "When there is no danger\n",
      "If the speed limit changes\n",
      "\n",
      "C) Do Nothing (continue driving your current speed)\n",
      "If there is no direct danger\n",
      "If there is a proper amount of distance between you and other road users\n",
      "\n",
      "If you’re driving on a straight road with no traffic lights, signs, or pedestrians\n"
     ]
    }
   ],
   "source": [
    "# len(truth.index)\n",
    "\n",
    "for row in range(0, 3):\n",
    "    tru_row = truth.loc[row]\n",
    "    res_row = results.loc[row]\n",
    "\n",
    "    image = tru_row[\"Filename\"]\n",
    "    prompt, response, car_speed = run_program(image)\n",
    "    resp_char = response[0]\n",
    "\n",
    "    if resp_char == 'A':\n",
    "        resp_word = \"Brake\"\n",
    "    elif resp_char == 'B':\n",
    "        resp_word = \"Release Accelerator\"\n",
    "    elif resp_char == 'C':\n",
    "        resp_word = \"Nothing\"\n",
    "    else:\n",
    "        resp_word = \"unknown\"\n",
    "\n",
    "    res_row[\"Answer(letter)\"] = resp_char\n",
    "    res_row[\"Speed\"] = car_speed\n",
    "    res_row[\"Answer(word)\"] = resp_word\n",
    "\n",
    "\n"
   ]
  },
  {
   "cell_type": "code",
   "execution_count": 7,
   "metadata": {},
   "outputs": [
    {
     "data": {
      "text/html": [
       "<div>\n",
       "<style scoped>\n",
       "    .dataframe tbody tr th:only-of-type {\n",
       "        vertical-align: middle;\n",
       "    }\n",
       "\n",
       "    .dataframe tbody tr th {\n",
       "        vertical-align: top;\n",
       "    }\n",
       "\n",
       "    .dataframe thead th {\n",
       "        text-align: right;\n",
       "    }\n",
       "</style>\n",
       "<table border=\"1\" class=\"dataframe\">\n",
       "  <thead>\n",
       "    <tr style=\"text-align: right;\">\n",
       "      <th></th>\n",
       "      <th>Filename</th>\n",
       "      <th>Answer(letter)</th>\n",
       "      <th>Answer(word)</th>\n",
       "      <th>Speed</th>\n",
       "    </tr>\n",
       "  </thead>\n",
       "  <tbody>\n",
       "    <tr>\n",
       "      <th>0</th>\n",
       "      <td>vraag 1.jpg</td>\n",
       "      <td>W</td>\n",
       "      <td>unknown</td>\n",
       "      <td>40</td>\n",
       "    </tr>\n",
       "    <tr>\n",
       "      <th>1</th>\n",
       "      <td>vraag 2.jpg</td>\n",
       "      <td>I</td>\n",
       "      <td>unknown</td>\n",
       "      <td>80</td>\n",
       "    </tr>\n",
       "    <tr>\n",
       "      <th>2</th>\n",
       "      <td>vraag 3.jpg</td>\n",
       "      <td>I</td>\n",
       "      <td>unknown</td>\n",
       "      <td>25</td>\n",
       "    </tr>\n",
       "    <tr>\n",
       "      <th>3</th>\n",
       "      <td>vraag 4.jpg</td>\n",
       "      <td>None</td>\n",
       "      <td>None</td>\n",
       "      <td>None</td>\n",
       "    </tr>\n",
       "    <tr>\n",
       "      <th>4</th>\n",
       "      <td>vraag 5.jpg</td>\n",
       "      <td>None</td>\n",
       "      <td>None</td>\n",
       "      <td>None</td>\n",
       "    </tr>\n",
       "  </tbody>\n",
       "</table>\n",
       "</div>"
      ],
      "text/plain": [
       "      Filename Answer(letter) Answer(word) Speed\n",
       "0  vraag 1.jpg              W      unknown    40\n",
       "1  vraag 2.jpg              I      unknown    80\n",
       "2  vraag 3.jpg              I      unknown    25\n",
       "3  vraag 4.jpg           None         None  None\n",
       "4  vraag 5.jpg           None         None  None"
      ]
     },
     "execution_count": 7,
     "metadata": {},
     "output_type": "execute_result"
    }
   ],
   "source": [
    "results.head(5)"
   ]
  }
 ],
 "metadata": {
  "kernelspec": {
   "display_name": "BEP",
   "language": "python",
   "name": "python3"
  },
  "language_info": {
   "codemirror_mode": {
    "name": "ipython",
    "version": 3
   },
   "file_extension": ".py",
   "mimetype": "text/x-python",
   "name": "python",
   "nbconvert_exporter": "python",
   "pygments_lexer": "ipython3",
   "version": "3.9.16"
  },
  "orig_nbformat": 4
 },
 "nbformat": 4,
 "nbformat_minor": 2
}
