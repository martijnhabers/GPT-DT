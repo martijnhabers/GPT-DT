{
 "cells": [
  {
   "cell_type": "code",
   "execution_count": 1,
   "metadata": {},
   "outputs": [
    {
     "name": "stderr",
     "output_type": "stream",
     "text": [
      "CUDA not available - defaulting to CPU. Note: This module is much faster with a GPU.\n",
      "c:\\Users\\Martijn\\miniconda3\\envs\\BEP\\lib\\site-packages\\tqdm\\auto.py:21: TqdmWarning: IProgress not found. Please update jupyter and ipywidgets. See https://ipywidgets.readthedocs.io/en/stable/user_install.html\n",
      "  from .autonotebook import tqdm as notebook_tqdm\n"
     ]
    }
   ],
   "source": [
    "from main import *\n",
    "import pandas as pd\n",
    "import sklearn as sk"
   ]
  },
  {
   "cell_type": "code",
   "execution_count": 2,
   "metadata": {},
   "outputs": [
    {
     "name": "stderr",
     "output_type": "stream",
     "text": [
      "\n",
      "image 1/1 C:\\Users\\Martijn\\Desktop\\coding-projects\\BEP\\GPT-DT\\images\\vraag 17.jpg: 384x640 1 outside-view, 2 rear-views, 1 speed, 191.2ms\n",
      "Speed: 2.1ms preprocess, 191.2ms inference, 2.0ms postprocess per image at shape (1, 3, 640, 640)\n",
      "Results saved to \u001b[1mtri-crop\\predict\u001b[0m\n",
      "YOLOv5  2023-5-10 Python-3.9.16 torch-2.0.0 CPU\n",
      "\n"
     ]
    },
    {
     "name": "stdout",
     "output_type": "stream",
     "text": [
      "'utf-8' codec can't decode byte 0xff in position 0: invalid start byte\n"
     ]
    },
    {
     "name": "stderr",
     "output_type": "stream",
     "text": [
      "Fusing layers... \n",
      "Model summary: 476 layers, 76226352 parameters, 0 gradients, 110.1 GFLOPs\n",
      "Adding AutoShape... \n"
     ]
    },
    {
     "name": "stdout",
     "output_type": "stream",
     "text": [
      "1/1 [==============================] - 0s 319ms/step\n",
      "not braking\n",
      "1/1 [==============================] - 0s 134ms/step\n",
      "braking\n",
      "1/1 [==============================] - 0s 243ms/step\n",
      "not braking\n",
      "Choose to A) Brake B) Let go of the accelerator or C) Do Nothing based on the given context.\n",
      "\n",
      "        \"\"\"\n",
      "        Context: \n",
      "        Assume you are driving in The Netherlands. You are driving in a highway at 90 km/h. The weather condition is rainy weather.\n",
      "        This is your front view; You see the following cars: A car 27.0 meters directly infront of you, A car 28.0 meters directly infront of you, A car 9.0 meters infront of you and to your right. You see the following traffic signs: There are no traffic signs in sight. You see the following traffic lights: There are no traffic lights in sight. You see the following pedestrians: There are no pedestrians in sight. You see the following bicyclist: There are no bicycles in sight. Additionally, you see: A bus 9.0 meters infront of you and to your right .\n",
      "        This is your rear view: You see the following: There are no significant objects behind you.\n",
      "        \"\"\"\n",
      "        Give your answer in one letter, after which you should provide thorough reasoning.\n",
      "        \n",
      "        Letter:\n",
      " B\n",
      "Reasoning: Since there are no traffic signs, traffic lights, pedestrians, or bicycles in sight, it is safe to let go of the accelerator and slow down to a safe speed. Additionally, the rainy weather conditions may make it difficult to brake quickly, so it is best to slow down gradually.\n"
     ]
    }
   ],
   "source": [
    "image = \"vraag 17.jpg\"\n",
    "prompt, response, car_speed = run_program(image)"
   ]
  },
  {
   "cell_type": "code",
   "execution_count": 15,
   "metadata": {},
   "outputs": [
    {
     "data": {
      "text/plain": [
       "'B'"
      ]
     },
     "execution_count": 15,
     "metadata": {},
     "output_type": "execute_result"
    }
   ],
   "source": []
  },
  {
   "cell_type": "code",
   "execution_count": 2,
   "metadata": {},
   "outputs": [],
   "source": [
    "truth = pd.read_csv(\"ground-truth.csv\")\n",
    "results = truth.copy(deep = True)\n",
    "results[\"Answer(word)\"] = None\n",
    "results[\"Answer(letter)\"] = None\n",
    "results[\"Speed\"] = None"
   ]
  },
  {
   "cell_type": "code",
   "execution_count": 3,
   "metadata": {},
   "outputs": [
    {
     "data": {
      "text/html": [
       "<div>\n",
       "<style scoped>\n",
       "    .dataframe tbody tr th:only-of-type {\n",
       "        vertical-align: middle;\n",
       "    }\n",
       "\n",
       "    .dataframe tbody tr th {\n",
       "        vertical-align: top;\n",
       "    }\n",
       "\n",
       "    .dataframe thead th {\n",
       "        text-align: right;\n",
       "    }\n",
       "</style>\n",
       "<table border=\"1\" class=\"dataframe\">\n",
       "  <thead>\n",
       "    <tr style=\"text-align: right;\">\n",
       "      <th></th>\n",
       "      <th>Filename</th>\n",
       "      <th>Answer(letter)</th>\n",
       "      <th>Answer(word)</th>\n",
       "      <th>Speed</th>\n",
       "    </tr>\n",
       "  </thead>\n",
       "  <tbody>\n",
       "    <tr>\n",
       "      <th>0</th>\n",
       "      <td>vraag 1.jpg</td>\n",
       "      <td>A</td>\n",
       "      <td>Brake</td>\n",
       "      <td>40</td>\n",
       "    </tr>\n",
       "    <tr>\n",
       "      <th>1</th>\n",
       "      <td>vraag 2.jpg</td>\n",
       "      <td>A</td>\n",
       "      <td>Brake</td>\n",
       "      <td>80</td>\n",
       "    </tr>\n",
       "    <tr>\n",
       "      <th>2</th>\n",
       "      <td>vraag 3.jpg</td>\n",
       "      <td>B</td>\n",
       "      <td>Release Accelerator</td>\n",
       "      <td>25</td>\n",
       "    </tr>\n",
       "    <tr>\n",
       "      <th>3</th>\n",
       "      <td>vraag 4.jpg</td>\n",
       "      <td>A</td>\n",
       "      <td>Brake</td>\n",
       "      <td>40</td>\n",
       "    </tr>\n",
       "    <tr>\n",
       "      <th>4</th>\n",
       "      <td>vraag 5.jpg</td>\n",
       "      <td>C</td>\n",
       "      <td>Nothing</td>\n",
       "      <td>30</td>\n",
       "    </tr>\n",
       "  </tbody>\n",
       "</table>\n",
       "</div>"
      ],
      "text/plain": [
       "      Filename Answer(letter)         Answer(word)  Speed\n",
       "0  vraag 1.jpg              A                Brake     40\n",
       "1  vraag 2.jpg              A                Brake     80\n",
       "2  vraag 3.jpg              B  Release Accelerator     25\n",
       "3  vraag 4.jpg              A                Brake     40\n",
       "4  vraag 5.jpg              C              Nothing     30"
      ]
     },
     "execution_count": 3,
     "metadata": {},
     "output_type": "execute_result"
    }
   ],
   "source": [
    "truth.head()"
   ]
  },
  {
   "cell_type": "code",
   "execution_count": 4,
   "metadata": {},
   "outputs": [
    {
     "name": "stderr",
     "output_type": "stream",
     "text": [
      "\n",
      "image 1/1 C:\\Users\\Martijn\\Desktop\\coding-projects\\BEP\\GPT-DT\\images\\vraag 1.jpg: 384x640 1 outside-view, 1 rear-view, 1 speed, 141.7ms\n",
      "Speed: 2.0ms preprocess, 141.7ms inference, 4.0ms postprocess per image at shape (1, 3, 640, 640)\n",
      "Results saved to \u001b[1mtri-crop\\predict\u001b[0m\n",
      "YOLOv5  2023-5-10 Python-3.9.16 torch-2.0.0 CPU\n",
      "\n"
     ]
    },
    {
     "name": "stdout",
     "output_type": "stream",
     "text": [
      "'utf-8' codec can't decode byte 0xff in position 0: invalid start byte\n"
     ]
    },
    {
     "name": "stderr",
     "output_type": "stream",
     "text": [
      "Fusing layers... \n",
      "Model summary: 476 layers, 76226352 parameters, 0 gradients, 110.1 GFLOPs\n",
      "Adding AutoShape... \n"
     ]
    },
    {
     "name": "stdout",
     "output_type": "stream",
     "text": [
      "1/1 [==============================] - 0s 389ms/step\n",
      "braking\n",
      "1/1 [==============================] - 0s 136ms/step\n",
      "braking\n",
      "1/1 [==============================] - 0s 168ms/step\n",
      "not braking\n",
      "1/1 [==============================] - 0s 348ms/step\n",
      "not braking\n"
     ]
    },
    {
     "name": "stderr",
     "output_type": "stream",
     "text": [
      "\n"
     ]
    },
    {
     "name": "stdout",
     "output_type": "stream",
     "text": [
      "Choose to A) Brake B) Let go of the accelerator or C) Do Nothing based on the given context.\n",
      "\n",
      "        \"\"\"\n",
      "        Context: \n",
      "        Assume you are driving in The Netherlands. You are driving in a urban road at 40 km/h. The weather condition is sunny weather.\n",
      "        This is your front view; You see the following cars: A car approaching from 17.0 meters infront of you and to your left, A car 21.0 meters infront of you and to your left, A car approaching from 32.0 meters directly infront of you, A car approaching from 24.0 meters infront of you and to your left, A car approaching from 29.0 meters infront of you and to your left, A car approaching from 32.0 meters directly infront of you, A car approaching from 59.0 meters directly infront of you. You see the following traffic signs: There are no traffic signs in sight. You see the following traffic lights: There are no traffic lights in sight. You see the following pedestrians: A person 14.0 meters infront of you and to your left. You see the following bicyclist: A bicyclist 13.0 meters infront of you and to your right. Additionally, you see: A parked bicycle 14.0 meters infront of you and to your left .\n",
      "        This is your rear view: You see the following: There are no significant objects behind you.\n",
      "        \"\"\"\n",
      "        Give your answer in one letter, after which you should provide thorough reasoning.\n",
      "        \n",
      "        Letter:\n",
      " A\n",
      "        Reasoning: Braking is the safest option in this situation, as there are multiple cars and a pedestrian in front of you. Braking will allow you to slow down and maintain a safe distance from the other vehicles and pedestrians. Additionally, there are no traffic signs or lights in sight, so braking is the best option to ensure that you are following the rules of the road.\n"
     ]
    },
    {
     "name": "stderr",
     "output_type": "stream",
     "text": [
      "image 1/1 C:\\Users\\Martijn\\Desktop\\coding-projects\\BEP\\GPT-DT\\images\\vraag 2.jpg: 384x640 1 outside-view, 1 rear-view, 1 speed, 171.0ms\n",
      "Speed: 33.6ms preprocess, 171.0ms inference, 21.0ms postprocess per image at shape (1, 3, 640, 640)\n",
      "Results saved to \u001b[1mtri-crop\\predict\u001b[0m\n",
      "YOLOv5  2023-5-10 Python-3.9.16 torch-2.0.0 CPU\n",
      "\n"
     ]
    },
    {
     "name": "stdout",
     "output_type": "stream",
     "text": [
      "'utf-8' codec can't decode byte 0xff in position 0: invalid start byte\n"
     ]
    },
    {
     "name": "stderr",
     "output_type": "stream",
     "text": [
      "Fusing layers... \n",
      "Model summary: 476 layers, 76226352 parameters, 0 gradients, 110.1 GFLOPs\n",
      "Adding AutoShape... \n"
     ]
    },
    {
     "name": "stdout",
     "output_type": "stream",
     "text": [
      "WARNING:tensorflow:5 out of the last 5 calls to <function Model.make_predict_function.<locals>.predict_function at 0x0000020C6A4C8160> triggered tf.function retracing. Tracing is expensive and the excessive number of tracings could be due to (1) creating @tf.function repeatedly in a loop, (2) passing tensors with different shapes, (3) passing Python objects instead of tensors. For (1), please define your @tf.function outside of the loop. For (2), @tf.function has reduce_retracing=True option that can avoid unnecessary retracing. For (3), please refer to https://www.tensorflow.org/guide/function#controlling_retracing and https://www.tensorflow.org/api_docs/python/tf/function for  more details.\n",
      "1/1 [==============================] - 0s 152ms/step\n",
      "not braking\n",
      "WARNING:tensorflow:6 out of the last 6 calls to <function Model.make_predict_function.<locals>.predict_function at 0x0000020C6EE9B430> triggered tf.function retracing. Tracing is expensive and the excessive number of tracings could be due to (1) creating @tf.function repeatedly in a loop, (2) passing tensors with different shapes, (3) passing Python objects instead of tensors. For (1), please define your @tf.function outside of the loop. For (2), @tf.function has reduce_retracing=True option that can avoid unnecessary retracing. For (3), please refer to https://www.tensorflow.org/guide/function#controlling_retracing and https://www.tensorflow.org/api_docs/python/tf/function for  more details.\n",
      "1/1 [==============================] - 0s 152ms/step\n",
      "not braking\n"
     ]
    },
    {
     "name": "stderr",
     "output_type": "stream",
     "text": [
      "\n",
      "image 1/1 C:\\Users\\Martijn\\Desktop\\coding-projects\\BEP\\GPT-DT\\images\\vraag 3.jpg: 384x640 1 outside-view, 1 rear-view, 1 speed, 140.1ms\n"
     ]
    },
    {
     "name": "stdout",
     "output_type": "stream",
     "text": [
      "Choose to A) Brake B) Let go of the accelerator or C) Do Nothing based on the given context.\n",
      "\n",
      "        \"\"\"\n",
      "        Context: \n",
      "        Assume you are driving in The Netherlands. You are driving in a highway at 80 km/h. The weather condition is sunny weather.\n",
      "        This is your front view; You see the following cars: A car 17.0 meters infront of you and to your left, A car 18.0 meters infront of you and to your left. You see the following traffic signs: There are no traffic signs in sight. You see the following traffic lights: There are no traffic lights in sight. You see the following pedestrians: There are no pedestrians in sight. You see the following bicyclist: There are no bicycles in sight. Additionally, you see: A truck 33.0 meters infront of you and to your left , A truck 14.0 meters infront of you and to your right .\n",
      "        This is your rear view: You see the following: A car closely behind you.\n",
      "        \"\"\"\n",
      "        Give your answer in one letter, after which you should provide thorough reasoning.\n",
      "        \n",
      "        Letter:\n",
      " B\n",
      "Reasoning: Since there are no traffic signs, traffic lights, pedestrians, or bicycles in sight, it is safe to assume that the road is clear and that it is safe to continue driving. Therefore, the best option is to let go of the accelerator and maintain the speed of 80 km/h.\n"
     ]
    },
    {
     "name": "stderr",
     "output_type": "stream",
     "text": [
      "Speed: 0.0ms preprocess, 140.1ms inference, 0.0ms postprocess per image at shape (1, 3, 640, 640)\n",
      "Results saved to \u001b[1mtri-crop\\predict\u001b[0m\n",
      "YOLOv5  2023-5-10 Python-3.9.16 torch-2.0.0 CPU\n",
      "\n"
     ]
    },
    {
     "name": "stdout",
     "output_type": "stream",
     "text": [
      "'utf-8' codec can't decode byte 0xff in position 0: invalid start byte\n"
     ]
    },
    {
     "name": "stderr",
     "output_type": "stream",
     "text": [
      "Fusing layers... \n",
      "Model summary: 476 layers, 76226352 parameters, 0 gradients, 110.1 GFLOPs\n",
      "Adding AutoShape... \n",
      "\n",
      "image 1/1 C:\\Users\\Martijn\\Desktop\\coding-projects\\BEP\\GPT-DT\\images\\vraag 4.jpg: 384x640 1 outside-view, 1 rear-view, 1 speed, 128.8ms\n"
     ]
    },
    {
     "name": "stdout",
     "output_type": "stream",
     "text": [
      "Choose to A) Brake B) Let go of the accelerator or C) Do Nothing based on the given context.\n",
      "\n",
      "        \"\"\"\n",
      "        Context: \n",
      "        Assume you are driving in The Netherlands. You are driving in a provincial road at 25 km/h. The weather condition is snowy weather.\n",
      "        This is your front view; You see the following cars: There are no cars in sight. You see the following traffic signs: There are no traffic signs in sight. You see the following traffic lights: There are no traffic lights in sight. You see the following pedestrians: There are no pedestrians in sight. You see the following bicyclist: There are no bicycles in sight. Additionally, you see: A truck 17.0 meters directly infront of you .\n",
      "        This is your rear view: You see the following: There are no significant objects behind you.\n",
      "        \"\"\"\n",
      "        Give your answer in one letter, after which you should provide thorough reasoning.\n",
      "        \n",
      "        Letter:\n",
      " B\n",
      "Reasoning: Since there are no cars, traffic signs, traffic lights, pedestrians, or bicycles in sight, and there is a truck 17.0 meters directly in front of you, the safest option is to let go of the accelerator and slow down. Braking in snowy weather can be dangerous, and doing nothing would not be safe as the truck is so close.\n"
     ]
    },
    {
     "name": "stderr",
     "output_type": "stream",
     "text": [
      "Speed: 0.0ms preprocess, 128.8ms inference, 0.0ms postprocess per image at shape (1, 3, 640, 640)\n",
      "Results saved to \u001b[1mtri-crop\\predict\u001b[0m\n",
      "YOLOv5  2023-5-10 Python-3.9.16 torch-2.0.0 CPU\n",
      "\n"
     ]
    },
    {
     "name": "stdout",
     "output_type": "stream",
     "text": [
      "'utf-8' codec can't decode byte 0xff in position 0: invalid start byte\n"
     ]
    },
    {
     "name": "stderr",
     "output_type": "stream",
     "text": [
      "Fusing layers... \n",
      "Model summary: 476 layers, 76226352 parameters, 0 gradients, 110.1 GFLOPs\n",
      "Adding AutoShape... \n"
     ]
    },
    {
     "name": "stdout",
     "output_type": "stream",
     "text": [
      "1/1 [==============================] - 0s 486ms/step\n",
      "not braking\n",
      "1/1 [==============================] - 0s 262ms/step\n",
      "not braking\n",
      "1/1 [==============================] - 0s 439ms/step\n",
      "braking\n",
      "1/1 [==============================] - 0s 423ms/step\n",
      "not braking\n",
      "1/1 [==============================] - 0s 315ms/step\n",
      "not braking\n",
      "1/1 [==============================] - 0s 426ms/step\n",
      "not braking\n",
      "1/1 [==============================] - 0s 161ms/step\n",
      "not braking\n",
      "1/1 [==============================] - 0s 158ms/step\n",
      "not braking\n",
      "1/1 [==============================] - 0s 167ms/step\n",
      "not braking\n"
     ]
    },
    {
     "name": "stderr",
     "output_type": "stream",
     "text": [
      "\n"
     ]
    },
    {
     "name": "stdout",
     "output_type": "stream",
     "text": [
      "Choose to A) Brake B) Let go of the accelerator or C) Do Nothing based on the given context.\n",
      "\n",
      "        \"\"\"\n",
      "        Context: \n",
      "        Assume you are driving in The Netherlands. You are driving in a urban road at 40 km/h. The weather condition is rainy weather.\n",
      "        This is your front view; You see the following cars: A car approaching from 20.0 meters infront of you and to your left, A car 41.0 meters directly infront of you, A car 32.0 meters directly infront of you, A car 15.0 meters infront of you and to your right, A car 24.0 meters directly infront of you, A car 6.0 meters infront of you and to your right, A car 61.0 meters directly infront of you, A car 19.0 meters directly infront of you, A car 49.0 meters directly infront of you, A car approaching from 20.0 meters infront of you and to your left. You see the following traffic signs: There are no traffic signs in sight. You see the following traffic lights: There are no traffic lights in sight. You see the following pedestrians: There are no pedestrians in sight. You see the following bicyclist: There are no bicycles in sight. Additionally, you see: A truck 69.0 meters directly infront of you , A truck 22.0 meters infront of you and to your left , A bus 22.0 meters infront of you and to your left .\n",
      "        This is your rear view: You see the following: There are no significant objects behind you.\n",
      "        \"\"\"\n",
      "        Give your answer in one letter, after which you should provide thorough reasoning.\n",
      "        \n",
      "        Letter:\n",
      " B\n",
      "        Reasoning: Since there are no traffic signs, traffic lights, pedestrians, or bicycles in sight, it is safe to assume that the road is clear. However, there are several cars and large vehicles in front of you, so it is important to slow down in order to maintain a safe distance. Letting go of the accelerator is the best option in this situation, as it will allow you to slow down gradually and maintain a safe distance from the vehicles in front of you.\n"
     ]
    },
    {
     "name": "stderr",
     "output_type": "stream",
     "text": [
      "image 1/1 C:\\Users\\Martijn\\Desktop\\coding-projects\\BEP\\GPT-DT\\images\\vraag 5.jpg: 384x640 1 outside-view, 1 rear-view, 1 speed, 261.8ms\n",
      "Speed: 31.5ms preprocess, 261.8ms inference, 21.4ms postprocess per image at shape (1, 3, 640, 640)\n",
      "Results saved to \u001b[1mtri-crop\\predict\u001b[0m\n",
      "YOLOv5  2023-5-10 Python-3.9.16 torch-2.0.0 CPU\n",
      "\n"
     ]
    },
    {
     "name": "stdout",
     "output_type": "stream",
     "text": [
      "'utf-8' codec can't decode byte 0xff in position 0: invalid start byte\n"
     ]
    },
    {
     "name": "stderr",
     "output_type": "stream",
     "text": [
      "Fusing layers... \n",
      "Model summary: 476 layers, 76226352 parameters, 0 gradients, 110.1 GFLOPs\n",
      "Adding AutoShape... \n"
     ]
    },
    {
     "name": "stdout",
     "output_type": "stream",
     "text": [
      "1/1 [==============================] - 0s 210ms/step\n",
      "not braking\n",
      "1/1 [==============================] - 0s 173ms/step\n",
      "not braking\n",
      "1/1 [==============================] - 0s 161ms/step\n",
      "not braking\n",
      "1/1 [==============================] - 0s 140ms/step\n",
      "not braking\n",
      "1/1 [==============================] - 0s 153ms/step\n",
      "not braking\n",
      "1/1 [==============================] - 0s 138ms/step\n",
      "not braking\n",
      "1/1 [==============================] - 0s 141ms/step\n",
      "Priority road\n"
     ]
    },
    {
     "name": "stderr",
     "output_type": "stream",
     "text": [
      "\n"
     ]
    },
    {
     "name": "stdout",
     "output_type": "stream",
     "text": [
      "Choose to A) Brake B) Let go of the accelerator or C) Do Nothing based on the given context.\n",
      "\n",
      "        \"\"\"\n",
      "        Context: \n",
      "        Assume you are driving in The Netherlands. You are driving in a urban road at 30 km/h. The weather condition is rainy weather.\n",
      "        This is your front view; You see the following cars: A car 32.0 meters infront of you and to your left, A car approaching from 34.0 meters infront of you and to your left, A car approaching from 27.0 meters infront of you and to your left, A car approaching from 31.0 meters infront of you and to your left, A car 56.0 meters infront of you and to your left, A car approaching from 41.0 meters infront of you and to your left, A car 58.0 meters infront of you and to your left, A car approaching from 38.0 meters infront of you and to your left. You see the following traffic signs: A \"Priority road\" traffic sign. You see the following traffic lights: There are no traffic lights in sight. You see the following pedestrians: There are no pedestrians in sight. You see the following bicyclist: A bicyclist 16.0 meters directly infront of you. Additionally, you see: A digital traffic sign 62.0 meters infront of you and to your left .\n",
      "        This is your rear view: You see the following: There are no significant objects behind you.\n",
      "        \"\"\"\n",
      "        Give your answer in one letter, after which you should provide thorough reasoning.\n",
      "        \n",
      "        Letter:\n",
      " B\n",
      "Reasoning: In this situation, it is important to be aware of the bicyclist 16.0 meters directly in front of you. Since the weather is rainy, it is important to be cautious and let go of the accelerator to slow down and give the bicyclist enough space to pass safely.\n"
     ]
    },
    {
     "name": "stderr",
     "output_type": "stream",
     "text": [
      "image 1/1 C:\\Users\\Martijn\\Desktop\\coding-projects\\BEP\\GPT-DT\\images\\vraag 6.jpg: 384x640 1 outside-view, 1 rear-view, 1 speed, 160.2ms\n",
      "Speed: 1.0ms preprocess, 160.2ms inference, 6.0ms postprocess per image at shape (1, 3, 640, 640)\n",
      "Results saved to \u001b[1mtri-crop\\predict\u001b[0m\n",
      "YOLOv5  2023-5-10 Python-3.9.16 torch-2.0.0 CPU\n",
      "\n"
     ]
    },
    {
     "name": "stdout",
     "output_type": "stream",
     "text": [
      "'utf-8' codec can't decode byte 0xff in position 0: invalid start byte\n"
     ]
    },
    {
     "name": "stderr",
     "output_type": "stream",
     "text": [
      "Fusing layers... \n",
      "Model summary: 476 layers, 76226352 parameters, 0 gradients, 110.1 GFLOPs\n",
      "Adding AutoShape... \n"
     ]
    },
    {
     "name": "stdout",
     "output_type": "stream",
     "text": [
      "1/1 [==============================] - 0s 220ms/step\n",
      "not braking\n"
     ]
    },
    {
     "name": "stderr",
     "output_type": "stream",
     "text": [
      "\n",
      "image 1/1 C:\\Users\\Martijn\\Desktop\\coding-projects\\BEP\\GPT-DT\\images\\vraag 7.jpg: 384x640 1 outside-view, 1 speed, 143.1ms\n"
     ]
    },
    {
     "name": "stdout",
     "output_type": "stream",
     "text": [
      "Choose to A) Brake B) Let go of the accelerator or C) Do Nothing based on the given context.\n",
      "\n",
      "        \"\"\"\n",
      "        Context: \n",
      "        Assume you are driving in The Netherlands. You are driving in a residential road at 40 km/h. The weather condition is overcast weather.\n",
      "        This is your front view; You see the following cars: A car 16.0 meters infront of you and to your right. You see the following traffic signs: There are no traffic signs in sight. You see the following traffic lights: There are no traffic lights in sight. You see the following pedestrians: There are no pedestrians in sight. You see the following bicyclist: There are no bicycles in sight. Additionally, you see: A truck 40.0 meters directly infront of you .\n",
      "        This is your rear view: You see the following: There are no significant objects behind you.\n",
      "        \"\"\"\n",
      "        Give your answer in one letter, after which you should provide thorough reasoning.\n",
      "        \n",
      "        Letter:\n",
      " A\n",
      "Reasoning: Since there are no traffic signs, traffic lights, pedestrians, or bicycles in sight, it is safe to assume that the speed limit is 40 km/h. Since the truck is 40.0 meters directly in front of you, it is important to brake in order to maintain a safe distance and avoid a collision.\n"
     ]
    },
    {
     "name": "stderr",
     "output_type": "stream",
     "text": [
      "Speed: 1.0ms preprocess, 143.1ms inference, 2.0ms postprocess per image at shape (1, 3, 640, 640)\n",
      "Results saved to \u001b[1mtri-crop\\predict\u001b[0m\n",
      "YOLOv5  2023-5-10 Python-3.9.16 torch-2.0.0 CPU\n",
      "\n"
     ]
    },
    {
     "name": "stdout",
     "output_type": "stream",
     "text": [
      "'utf-8' codec can't decode byte 0xff in position 0: invalid start byte\n"
     ]
    },
    {
     "name": "stderr",
     "output_type": "stream",
     "text": [
      "Fusing layers... \n",
      "Model summary: 476 layers, 76226352 parameters, 0 gradients, 110.1 GFLOPs\n",
      "Adding AutoShape... \n"
     ]
    },
    {
     "name": "stdout",
     "output_type": "stream",
     "text": [
      "1/1 [==============================] - 0s 256ms/step\n",
      "not braking\n"
     ]
    },
    {
     "name": "stderr",
     "output_type": "stream",
     "text": [
      "\n"
     ]
    },
    {
     "name": "stdout",
     "output_type": "stream",
     "text": [
      "Choose to A) Brake B) Let go of the accelerator or C) Do Nothing based on the given context.\n",
      "\n",
      "        \"\"\"\n",
      "        Context: \n",
      "        Assume you are driving in The Netherlands. You are driving in a highway at 100 km/h. The weather condition is rainy weather.\n",
      "        This is your front view; You see the following cars: A car 52.0 meters directly infront of you. You see the following traffic signs: There are no traffic signs in sight. You see the following traffic lights: There are no traffic lights in sight. You see the following pedestrians: There are no pedestrians in sight. You see the following bicyclist: There are no bicycles in sight. Additionally, you see: there are no more objects than the ones mentioned above.\n",
      "        This is your rear view: You see the following: There are no significant objects behind you.\n",
      "        \"\"\"\n",
      "        Give your answer in one letter, after which you should provide thorough reasoning.\n",
      "        \n",
      "        Letter:\n",
      " A\n",
      "Reasoning: Since there are no traffic signs, traffic lights, pedestrians, or bicycles in sight, it is safe to assume that the road is clear. However, since the weather is rainy, it is important to be extra cautious and reduce speed. Braking is the best option in this situation to ensure the safety of the driver and other road users.\n"
     ]
    },
    {
     "name": "stderr",
     "output_type": "stream",
     "text": [
      "image 1/1 C:\\Users\\Martijn\\Desktop\\coding-projects\\BEP\\GPT-DT\\images\\vraag 8.jpg: 384x640 1 outside-view, 1 rear-view, 1 speed, 247.0ms\n",
      "Speed: 1.0ms preprocess, 247.0ms inference, 6.0ms postprocess per image at shape (1, 3, 640, 640)\n",
      "Results saved to \u001b[1mtri-crop\\predict\u001b[0m\n",
      "YOLOv5  2023-5-10 Python-3.9.16 torch-2.0.0 CPU\n",
      "\n"
     ]
    },
    {
     "name": "stdout",
     "output_type": "stream",
     "text": [
      "'utf-8' codec can't decode byte 0xff in position 0: invalid start byte\n"
     ]
    },
    {
     "name": "stderr",
     "output_type": "stream",
     "text": [
      "Fusing layers... \n",
      "Model summary: 476 layers, 76226352 parameters, 0 gradients, 110.1 GFLOPs\n",
      "Adding AutoShape... \n"
     ]
    },
    {
     "name": "stdout",
     "output_type": "stream",
     "text": [
      "1/1 [==============================] - 0s 386ms/step\n",
      "not braking\n"
     ]
    },
    {
     "name": "stderr",
     "output_type": "stream",
     "text": [
      "\n"
     ]
    },
    {
     "name": "stdout",
     "output_type": "stream",
     "text": [
      "Choose to A) Brake B) Let go of the accelerator or C) Do Nothing based on the given context.\n",
      "\n",
      "        \"\"\"\n",
      "        Context: \n",
      "        Assume you are driving in The Netherlands. You are driving in a urban road at 30 km/h. The weather condition is sunny weather.\n",
      "        This is your front view; You see the following cars: A car 28.0 meters infront of you and to your left, A car approaching from 23.0 meters infront of you and to your left, A car 27.0 meters infront of you and to your left, A car 30.0 meters infront of you and to your left, A car approaching from 41.0 meters infront of you and to your left, A car 24.0 meters infront of you and to your left, A car approaching from 30.0 meters infront of you and to your left, A car 29.0 meters directly infront of you. You see the following traffic signs: There are no traffic signs in sight. You see the following traffic lights: There are no traffic lights in sight. You see the following pedestrians: A person 24.0 meters directly infront of you, A person 16.0 meters infront of you and to your right. You see the following bicyclist: A bicyclist 18.0 meters infront of you and to your right. Additionally, you see: there are no more objects than the ones mentioned above.\n",
      "        This is your rear view: You see the following: There are no significant objects behind you.\n",
      "        \"\"\"\n",
      "        Give your answer in one letter, after which you should provide thorough reasoning.\n",
      "        \n",
      "        Letter:\n",
      " B\n",
      "        Reasoning: Since there are no traffic signs or lights in sight, and the cars and pedestrians in front of you are far enough away that you can safely stop, it is best to let go of the accelerator and slow down. This will help you maintain a safe speed and distance from the other vehicles and pedestrians.\n"
     ]
    },
    {
     "name": "stderr",
     "output_type": "stream",
     "text": [
      "image 1/1 C:\\Users\\Martijn\\Desktop\\coding-projects\\BEP\\GPT-DT\\images\\vraag 9.jpg: 384x640 1 outside-view, 1 rear-view, 1 speed, 191.9ms\n",
      "Speed: 1.0ms preprocess, 191.9ms inference, 2.1ms postprocess per image at shape (1, 3, 640, 640)\n",
      "Results saved to \u001b[1mtri-crop\\predict\u001b[0m\n",
      "YOLOv5  2023-5-10 Python-3.9.16 torch-2.0.0 CPU\n",
      "\n"
     ]
    },
    {
     "name": "stdout",
     "output_type": "stream",
     "text": [
      "'utf-8' codec can't decode byte 0xff in position 0: invalid start byte\n"
     ]
    },
    {
     "name": "stderr",
     "output_type": "stream",
     "text": [
      "Fusing layers... \n",
      "Model summary: 476 layers, 76226352 parameters, 0 gradients, 110.1 GFLOPs\n",
      "Adding AutoShape... \n"
     ]
    },
    {
     "name": "stdout",
     "output_type": "stream",
     "text": [
      "1/1 [==============================] - 0s 230ms/step\n",
      "not braking\n",
      "1/1 [==============================] - 0s 175ms/step\n",
      "not braking\n"
     ]
    },
    {
     "name": "stderr",
     "output_type": "stream",
     "text": [
      "\n"
     ]
    },
    {
     "name": "stdout",
     "output_type": "stream",
     "text": [
      "Choose to A) Brake B) Let go of the accelerator or C) Do Nothing based on the given context.\n",
      "\n",
      "        \"\"\"\n",
      "        Context: \n",
      "        Assume you are driving in The Netherlands. You are driving in a highway at 100 km/h. The weather condition is rainy weather.\n",
      "        This is your front view; You see the following cars: A car 10.0 meters infront of you and to your left, A car 46.0 meters directly infront of you. You see the following traffic signs: There are no traffic signs in sight. You see the following traffic lights: There are no traffic lights in sight. You see the following pedestrians: There are no pedestrians in sight. You see the following bicyclist: There are no bicycles in sight. Additionally, you see: A truck 27.0 meters directly infront of you , A bus 18.0 meters infront of you and to your left , A truck 10.0 meters infront of you and to your left .\n",
      "        This is your rear view: You see the following: There are no significant objects behind you.\n",
      "        \"\"\"\n",
      "        Give your answer in one letter, after which you should provide thorough reasoning.\n",
      "        \n",
      "        Letter:\n",
      " B\n",
      "        Reasoning: Since there are no traffic signs, traffic lights, pedestrians, or bicycles in sight, it is safe to assume that the road is clear. Therefore, it is best to let go of the accelerator in order to slow down and maintain a safe distance from the vehicles in front of you.\n"
     ]
    },
    {
     "name": "stderr",
     "output_type": "stream",
     "text": [
      "image 1/1 C:\\Users\\Martijn\\Desktop\\coding-projects\\BEP\\GPT-DT\\images\\vraag 10.jpg: 384x640 1 outside-view, 1 rear-view, 1 speed, 202.4ms\n",
      "Speed: 1.0ms preprocess, 202.4ms inference, 1.5ms postprocess per image at shape (1, 3, 640, 640)\n",
      "Results saved to \u001b[1mtri-crop\\predict\u001b[0m\n",
      "YOLOv5  2023-5-10 Python-3.9.16 torch-2.0.0 CPU\n",
      "\n"
     ]
    },
    {
     "name": "stdout",
     "output_type": "stream",
     "text": [
      "'utf-8' codec can't decode byte 0xff in position 0: invalid start byte\n"
     ]
    },
    {
     "name": "stderr",
     "output_type": "stream",
     "text": [
      "Fusing layers... \n",
      "Model summary: 476 layers, 76226352 parameters, 0 gradients, 110.1 GFLOPs\n",
      "Adding AutoShape... \n",
      "\n"
     ]
    },
    {
     "name": "stdout",
     "output_type": "stream",
     "text": [
      "Choose to A) Brake B) Let go of the accelerator or C) Do Nothing based on the given context.\n",
      "\n",
      "        \"\"\"\n",
      "        Context: \n",
      "        Assume you are driving in The Netherlands. You are driving in a residential road at 30 km/h. The weather condition is sunny weather.\n",
      "        This is your front view; You see the following cars: There are no cars in sight. You see the following traffic signs: There are no traffic signs in sight. You see the following traffic lights: There are no traffic lights in sight. You see the following pedestrians: A person 17.0 meters infront of you and to your left. You see the following bicyclist: There are no bicycles in sight. Additionally, you see: A motorcycle 17.0 meters infront of you and to your left .\n",
      "        This is your rear view: You see the following: There are no significant objects behind you.\n",
      "        \"\"\"\n",
      "        Give your answer in one letter, after which you should provide thorough reasoning.\n",
      "        \n",
      "        Letter:\n",
      " A\n",
      "Reasoning: Since there are no cars, traffic signs, or traffic lights in sight, it is important to be aware of the pedestrians and bicyclists in the area. In this case, there is a motorcycle 17.0 meters in front of you and to your left. To ensure the safety of the motorcycle, it is important to brake in order to maintain a safe distance.\n"
     ]
    },
    {
     "name": "stderr",
     "output_type": "stream",
     "text": [
      "image 1/1 C:\\Users\\Martijn\\Desktop\\coding-projects\\BEP\\GPT-DT\\images\\vraag 11.jpg: 384x640 1 outside-view, 1 rear-view, 1 speed, 142.2ms\n",
      "Speed: 1.0ms preprocess, 142.2ms inference, 0.0ms postprocess per image at shape (1, 3, 640, 640)\n",
      "Results saved to \u001b[1mtri-crop\\predict\u001b[0m\n",
      "YOLOv5  2023-5-10 Python-3.9.16 torch-2.0.0 CPU\n",
      "\n"
     ]
    },
    {
     "name": "stdout",
     "output_type": "stream",
     "text": [
      "'utf-8' codec can't decode byte 0xff in position 0: invalid start byte\n"
     ]
    },
    {
     "name": "stderr",
     "output_type": "stream",
     "text": [
      "Fusing layers... \n",
      "Model summary: 476 layers, 76226352 parameters, 0 gradients, 110.1 GFLOPs\n",
      "Adding AutoShape... \n",
      "Using cache found in C:\\Users\\Martijn/.cache\\torch\\hub\\isl-org_ZoeDepth_main\n"
     ]
    },
    {
     "name": "stdout",
     "output_type": "stream",
     "text": [
      "img_size [384, 512]\n"
     ]
    },
    {
     "name": "stderr",
     "output_type": "stream",
     "text": [
      "Using cache found in C:\\Users\\Martijn/.cache\\torch\\hub\\intel-isl_MiDaS_master\n"
     ]
    },
    {
     "name": "stdout",
     "output_type": "stream",
     "text": [
      "Params passed to Resize transform:\n",
      "\twidth:  512\n",
      "\theight:  384\n",
      "\tresize_target:  True\n",
      "\tkeep_aspect_ratio:  True\n",
      "\tensure_multiple_of:  32\n",
      "\tresize_method:  minimal\n",
      "Using pretrained resource url::https://github.com/isl-org/ZoeDepth/releases/download/v1.0/ZoeD_M12_NK.pt\n",
      "Loaded successfully\n"
     ]
    },
    {
     "name": "stderr",
     "output_type": "stream",
     "text": [
      "\n"
     ]
    },
    {
     "name": "stdout",
     "output_type": "stream",
     "text": [
      "Choose to A) Brake B) Let go of the accelerator or C) Do Nothing based on the given context.\n",
      "\n",
      "        \"\"\"\n",
      "        Context: \n",
      "        Assume you are driving in The Netherlands. You are driving in a highway at 60 km/h. The weather condition is overcast weather.\n",
      "        This is your front view; You see the following cars: A car approaching from 20.0 meters infront of you and to your left. You see the following traffic signs: There are no traffic signs in sight. You see the following traffic lights: There are no traffic lights in sight. You see the following pedestrians: There are no pedestrians in sight. You see the following bicyclist: There are no bicycles in sight. Additionally, you see: there are no more objects than the ones mentioned above.\n",
      "        This is your rear view: You see the following: There are no significant objects behind you.\n",
      "        \"\"\"\n",
      "        Give your answer in one letter, after which you should provide thorough reasoning.\n",
      "        \n",
      "        Letter:\n",
      " A\n",
      "Reasoning: Since there are no traffic signs, traffic lights, pedestrians, or bicycles in sight, it is safe to assume that the road is clear. However, since there is a car approaching from 20.0 meters in front of you and to your left, it is best to brake in order to maintain a safe distance between you and the other car.\n"
     ]
    },
    {
     "name": "stderr",
     "output_type": "stream",
     "text": [
      "image 1/1 C:\\Users\\Martijn\\Desktop\\coding-projects\\BEP\\GPT-DT\\images\\vraag 12.jpg: 384x640 1 outside-view, 1 rear-view, 1 speed, 163.1ms\n",
      "Speed: 3.0ms preprocess, 163.1ms inference, 15.9ms postprocess per image at shape (1, 3, 640, 640)\n",
      "Results saved to \u001b[1mtri-crop\\predict\u001b[0m\n",
      "YOLOv5  2023-5-10 Python-3.9.16 torch-2.0.0 CPU\n",
      "\n"
     ]
    },
    {
     "name": "stdout",
     "output_type": "stream",
     "text": [
      "'utf-8' codec can't decode byte 0xff in position 0: invalid start byte\n"
     ]
    },
    {
     "name": "stderr",
     "output_type": "stream",
     "text": [
      "Fusing layers... \n",
      "Model summary: 476 layers, 76226352 parameters, 0 gradients, 110.1 GFLOPs\n",
      "Adding AutoShape... \n"
     ]
    },
    {
     "name": "stdout",
     "output_type": "stream",
     "text": [
      "1/1 [==============================] - 1s 514ms/step\n",
      "not braking\n",
      "1/1 [==============================] - 0s 196ms/step\n",
      "not braking\n"
     ]
    },
    {
     "name": "stderr",
     "output_type": "stream",
     "text": [
      "Using cache found in C:\\Users\\Martijn/.cache\\torch\\hub\\isl-org_ZoeDepth_main\n"
     ]
    },
    {
     "name": "stdout",
     "output_type": "stream",
     "text": [
      "img_size [384, 512]\n"
     ]
    },
    {
     "name": "stderr",
     "output_type": "stream",
     "text": [
      "Using cache found in C:\\Users\\Martijn/.cache\\torch\\hub\\intel-isl_MiDaS_master\n"
     ]
    },
    {
     "name": "stdout",
     "output_type": "stream",
     "text": [
      "Params passed to Resize transform:\n",
      "\twidth:  512\n",
      "\theight:  384\n",
      "\tresize_target:  True\n",
      "\tkeep_aspect_ratio:  True\n",
      "\tensure_multiple_of:  32\n",
      "\tresize_method:  minimal\n",
      "Using pretrained resource url::https://github.com/isl-org/ZoeDepth/releases/download/v1.0/ZoeD_M12_NK.pt\n",
      "Loaded successfully\n"
     ]
    },
    {
     "name": "stderr",
     "output_type": "stream",
     "text": [
      "\n",
      "image 1/1 C:\\Users\\Martijn\\Desktop\\coding-projects\\BEP\\GPT-DT\\images\\vraag 13.jpg: 384x640 1 outside-view, 1 rear-view, 1 speed, 133.0ms\n"
     ]
    },
    {
     "name": "stdout",
     "output_type": "stream",
     "text": [
      "Choose to A) Brake B) Let go of the accelerator or C) Do Nothing based on the given context.\n",
      "\n",
      "        \"\"\"\n",
      "        Context: \n",
      "        Assume you are driving in The Netherlands. You are driving in a highway at 80 km/h. The weather condition is sunny weather.\n",
      "        This is your front view; You see the following cars: A car 44.0 meters directly infront of you, A car 55.0 meters infront of you and to your left, A car approaching from 27.0 meters infront of you and to your left, A car approaching from 40.0 meters infront of you and to your left, A car approaching from 50.0 meters infront of you and to your left. You see the following traffic signs: There are no traffic signs in sight. You see the following traffic lights: There are no traffic lights in sight. You see the following pedestrians: There are no pedestrians in sight. You see the following bicyclist: There are no bicycles in sight. Additionally, you see: A truck 23.0 meters directly infront of you , A truck 40.0 meters infront of you and to your left .\n",
      "        This is your rear view: You see the following: There are no significant objects behind you.\n",
      "        \"\"\"\n",
      "        Give your answer in one letter, after which you should provide thorough reasoning.\n",
      "        \n",
      "        Letter:\n",
      " A\n",
      "        Reasoning: Braking is the safest option in this situation, as there are multiple cars in front of you and the truck directly in front of you. Braking will help to reduce the speed of your car and create more distance between you and the other vehicles, reducing the risk of a collision.\n"
     ]
    },
    {
     "name": "stderr",
     "output_type": "stream",
     "text": [
      "Speed: 1.0ms preprocess, 133.0ms inference, 2.0ms postprocess per image at shape (1, 3, 640, 640)\n",
      "Results saved to \u001b[1mtri-crop\\predict\u001b[0m\n",
      "YOLOv5  2023-5-10 Python-3.9.16 torch-2.0.0 CPU\n",
      "\n"
     ]
    },
    {
     "name": "stdout",
     "output_type": "stream",
     "text": [
      "'utf-8' codec can't decode byte 0xff in position 0: invalid start byte\n"
     ]
    },
    {
     "name": "stderr",
     "output_type": "stream",
     "text": [
      "Fusing layers... \n",
      "Model summary: 476 layers, 76226352 parameters, 0 gradients, 110.1 GFLOPs\n",
      "Adding AutoShape... \n"
     ]
    },
    {
     "name": "stdout",
     "output_type": "stream",
     "text": [
      "1/1 [==============================] - 0s 194ms/step\n",
      "not braking\n"
     ]
    },
    {
     "name": "stderr",
     "output_type": "stream",
     "text": [
      "\n",
      "image 1/1 C:\\Users\\Martijn\\Desktop\\coding-projects\\BEP\\GPT-DT\\images\\vraag 14.jpg: 384x640 1 outside-view, 1 rear-view, 1 speed, 125.9ms\n"
     ]
    },
    {
     "name": "stdout",
     "output_type": "stream",
     "text": [
      "Choose to A) Brake B) Let go of the accelerator or C) Do Nothing based on the given context.\n",
      "\n",
      "        \"\"\"\n",
      "        Context: \n",
      "        Assume you are driving in The Netherlands. You are driving in a highway at unknown km/h. The weather condition is overcast weather.\n",
      "        This is your front view; You see the following cars: A car 22.0 meters directly infront of you. You see the following traffic signs: There are no traffic signs in sight. You see the following traffic lights: There are no traffic lights in sight. You see the following pedestrians: There are no pedestrians in sight. You see the following bicyclist: There are no bicycles in sight. Additionally, you see: A truck 18.0 meters infront of you and to your left , A truck 26.0 meters directly infront of you , A truck 50.0 meters infront of you and to your left , A digital traffic sign 22.0 meters infront of you and to your left .\n",
      "        This is your rear view: You see the following: There are no significant objects behind you.\n",
      "        \"\"\"\n",
      "        Give your answer in one letter, after which you should provide thorough reasoning.\n",
      "        \n",
      "        Letter:\n",
      " B\n",
      "Reasoning: Since there are no traffic signs, traffic lights, pedestrians, or bicycles in sight, it is safe to assume that the speed limit is unknown. Therefore, it is best to let go of the accelerator and slow down gradually in order to avoid any potential collisions with the trucks in front of you.\n"
     ]
    },
    {
     "name": "stderr",
     "output_type": "stream",
     "text": [
      "Speed: 1.0ms preprocess, 125.9ms inference, 2.0ms postprocess per image at shape (1, 3, 640, 640)\n",
      "Results saved to \u001b[1mtri-crop\\predict\u001b[0m\n",
      "YOLOv5  2023-5-10 Python-3.9.16 torch-2.0.0 CPU\n",
      "\n"
     ]
    },
    {
     "name": "stdout",
     "output_type": "stream",
     "text": [
      "'utf-8' codec can't decode byte 0xff in position 0: invalid start byte\n"
     ]
    },
    {
     "name": "stderr",
     "output_type": "stream",
     "text": [
      "Fusing layers... \n",
      "Model summary: 476 layers, 76226352 parameters, 0 gradients, 110.1 GFLOPs\n",
      "Adding AutoShape... \n",
      "\n",
      "image 1/1 C:\\Users\\Martijn\\Desktop\\coding-projects\\BEP\\GPT-DT\\images\\vraag 15.jpg: 384x640 1 outside-view, 1 rear-view, 1 speed, 128.8ms\n"
     ]
    },
    {
     "name": "stdout",
     "output_type": "stream",
     "text": [
      "Choose to A) Brake B) Let go of the accelerator or C) Do Nothing based on the given context.\n",
      "\n",
      "        \"\"\"\n",
      "        Context: \n",
      "        Assume you are driving in The Netherlands. You are driving in a residential road at 30 km/h. The weather condition is sunny weather.\n",
      "        This is your front view; You see the following cars: There are no cars in sight. You see the following traffic signs: There are no traffic signs in sight. You see the following traffic lights: There are no traffic lights in sight. You see the following pedestrians: There are no pedestrians in sight. You see the following bicyclist: There are no bicycles in sight. Additionally, you see: there are no more objects than the ones mentioned above.\n",
      "        This is your rear view: You see the following: There are no significant objects behind you.\n",
      "        \"\"\"\n",
      "        Give your answer in one letter, after which you should provide thorough reasoning.\n",
      "        \n",
      "        Letter:\n",
      " B\n",
      "Reasoning: Since there are no cars, traffic signs, traffic lights, pedestrians, or bicycles in sight, and no other objects, it is safe to let go of the accelerator and continue driving at the same speed.\n"
     ]
    },
    {
     "name": "stderr",
     "output_type": "stream",
     "text": [
      "Speed: 1.0ms preprocess, 128.8ms inference, 2.0ms postprocess per image at shape (1, 3, 640, 640)\n",
      "Results saved to \u001b[1mtri-crop\\predict\u001b[0m\n",
      "YOLOv5  2023-5-10 Python-3.9.16 torch-2.0.0 CPU\n",
      "\n"
     ]
    },
    {
     "name": "stdout",
     "output_type": "stream",
     "text": [
      "'utf-8' codec can't decode byte 0xff in position 0: invalid start byte\n"
     ]
    },
    {
     "name": "stderr",
     "output_type": "stream",
     "text": [
      "Fusing layers... \n",
      "Model summary: 476 layers, 76226352 parameters, 0 gradients, 110.1 GFLOPs\n",
      "Adding AutoShape... \n",
      "\n"
     ]
    },
    {
     "name": "stdout",
     "output_type": "stream",
     "text": [
      "Choose to A) Brake B) Let go of the accelerator or C) Do Nothing based on the given context.\n",
      "\n",
      "        \"\"\"\n",
      "        Context: \n",
      "        Assume you are driving in The Netherlands. You are driving in a residential road at 40 km/h. The weather condition is rainy weather.\n",
      "        This is your front view; You see the following cars: There are no cars in sight. You see the following traffic signs: There are no traffic signs in sight. You see the following traffic lights: There are no traffic lights in sight. You see the following pedestrians: There are no pedestrians in sight. You see the following bicyclist: There are no bicycles in sight. Additionally, you see: there are no more objects than the ones mentioned above.\n",
      "        This is your rear view: You see the following: There are no significant objects behind you.\n",
      "        \"\"\"\n",
      "        Give your answer in one letter, after which you should provide thorough reasoning.\n",
      "        \n",
      "        Letter:\n",
      " B\n",
      "Reasoning: Since there are no cars, traffic signs, traffic lights, pedestrians, or bicycles in sight, and no other objects, it is safe to let go of the accelerator and maintain the speed of 40 km/h.\n"
     ]
    },
    {
     "name": "stderr",
     "output_type": "stream",
     "text": [
      "image 1/1 C:\\Users\\Martijn\\Desktop\\coding-projects\\BEP\\GPT-DT\\images\\vraag 16.jpg: 384x640 1 outside-view, 1 rear-view, 1 speed, 129.9ms\n",
      "Speed: 1.0ms preprocess, 129.9ms inference, 3.0ms postprocess per image at shape (1, 3, 640, 640)\n",
      "Results saved to \u001b[1mtri-crop\\predict\u001b[0m\n",
      "YOLOv5  2023-5-10 Python-3.9.16 torch-2.0.0 CPU\n",
      "\n"
     ]
    },
    {
     "name": "stdout",
     "output_type": "stream",
     "text": [
      "'utf-8' codec can't decode byte 0xff in position 0: invalid start byte\n"
     ]
    },
    {
     "name": "stderr",
     "output_type": "stream",
     "text": [
      "Fusing layers... \n",
      "Model summary: 476 layers, 76226352 parameters, 0 gradients, 110.1 GFLOPs\n",
      "Adding AutoShape... \n"
     ]
    },
    {
     "name": "stdout",
     "output_type": "stream",
     "text": [
      "1/1 [==============================] - 0s 217ms/step\n",
      "Bumpy road\n",
      "1/1 [==============================] - 0s 205ms/step\n",
      "Slippery road\n",
      "1/1 [==============================] - 0s 177ms/step\n",
      "No entry\n",
      "1/1 [==============================] - 0s 187ms/step\n",
      "Speed limit (30km/h)\n",
      "1/1 [==============================] - 0s 270ms/step\n",
      "Road narrows on the right\n"
     ]
    },
    {
     "name": "stderr",
     "output_type": "stream",
     "text": [
      "\n",
      "image 1/1 C:\\Users\\Martijn\\Desktop\\coding-projects\\BEP\\GPT-DT\\images\\vraag 17.jpg: 384x640 1 outside-view, 2 rear-views, 1 speed, 136.3ms\n"
     ]
    },
    {
     "name": "stdout",
     "output_type": "stream",
     "text": [
      "Choose to A) Brake B) Let go of the accelerator or C) Do Nothing based on the given context.\n",
      "\n",
      "        \"\"\"\n",
      "        Context: \n",
      "        Assume you are driving in The Netherlands. You are driving in a county road at 60 km/h. The weather condition is overcast weather.\n",
      "        This is your front view; You see the following cars: There are no cars in sight. You see the following traffic signs: A \"Bumpy road\" traffic sign, A \"Slippery road\" traffic sign, A \"No entry\" traffic sign, A \"Speed limit (30km/h)\" traffic sign, A \"Road narrows on the right\" traffic sign. You see the following traffic lights: There are no traffic lights in sight. You see the following pedestrians: There are no pedestrians in sight. You see the following bicyclist: There are no bicycles in sight. Additionally, you see: there are no more objects than the ones mentioned above.\n",
      "        This is your rear view: You see the following: A car closely behind you.\n",
      "        \"\"\"\n",
      "        Give your answer in one letter, after which you should provide thorough reasoning.\n",
      "        \n",
      "        Letter:\n",
      " A\n",
      "Reasoning: Since there is a car closely behind you, it is important to brake in order to maintain a safe distance between you and the car behind you. Additionally, the speed limit is 30 km/h, so it is important to reduce your speed to the speed limit.\n"
     ]
    },
    {
     "name": "stderr",
     "output_type": "stream",
     "text": [
      "Speed: 1.0ms preprocess, 136.3ms inference, 2.0ms postprocess per image at shape (1, 3, 640, 640)\n",
      "Results saved to \u001b[1mtri-crop\\predict\u001b[0m\n",
      "YOLOv5  2023-5-10 Python-3.9.16 torch-2.0.0 CPU\n",
      "\n"
     ]
    },
    {
     "name": "stdout",
     "output_type": "stream",
     "text": [
      "'utf-8' codec can't decode byte 0xff in position 0: invalid start byte\n"
     ]
    },
    {
     "name": "stderr",
     "output_type": "stream",
     "text": [
      "Fusing layers... \n",
      "Model summary: 476 layers, 76226352 parameters, 0 gradients, 110.1 GFLOPs\n",
      "Adding AutoShape... \n"
     ]
    },
    {
     "name": "stdout",
     "output_type": "stream",
     "text": [
      "1/1 [==============================] - 0s 264ms/step\n",
      "not braking\n",
      "1/1 [==============================] - 0s 153ms/step\n",
      "braking\n",
      "1/1 [==============================] - 0s 141ms/step\n",
      "not braking\n"
     ]
    },
    {
     "name": "stderr",
     "output_type": "stream",
     "text": [
      "\n",
      "image 1/1 C:\\Users\\Martijn\\Desktop\\coding-projects\\BEP\\GPT-DT\\images\\vraag 18.jpg: 384x640 1 outside-view, 1 rear-view, 1 speed, 130.3ms\n"
     ]
    },
    {
     "name": "stdout",
     "output_type": "stream",
     "text": [
      "Choose to A) Brake B) Let go of the accelerator or C) Do Nothing based on the given context.\n",
      "\n",
      "        \"\"\"\n",
      "        Context: \n",
      "        Assume you are driving in The Netherlands. You are driving in a highway at 90 km/h. The weather condition is rainy weather.\n",
      "        This is your front view; You see the following cars: A car 27.0 meters directly infront of you, A car 28.0 meters directly infront of you, A car 9.0 meters infront of you and to your right. You see the following traffic signs: There are no traffic signs in sight. You see the following traffic lights: There are no traffic lights in sight. You see the following pedestrians: There are no pedestrians in sight. You see the following bicyclist: There are no bicycles in sight. Additionally, you see: A bus 9.0 meters infront of you and to your right .\n",
      "        This is your rear view: You see the following: There are no significant objects behind you.\n",
      "        \"\"\"\n",
      "        Give your answer in one letter, after which you should provide thorough reasoning.\n",
      "        \n",
      "        Letter:\n",
      " B\n",
      "Reasoning: Since there are no traffic signs, traffic lights, pedestrians, or bicycles in sight, it is safe to let go of the accelerator and slow down to a safe speed. Additionally, the rainy weather conditions may make it difficult to brake quickly, so it is best to slow down gradually.\n"
     ]
    },
    {
     "name": "stderr",
     "output_type": "stream",
     "text": [
      "Speed: 3.0ms preprocess, 130.3ms inference, 2.2ms postprocess per image at shape (1, 3, 640, 640)\n",
      "Results saved to \u001b[1mtri-crop\\predict\u001b[0m\n",
      "YOLOv5  2023-5-10 Python-3.9.16 torch-2.0.0 CPU\n",
      "\n"
     ]
    },
    {
     "name": "stdout",
     "output_type": "stream",
     "text": [
      "'utf-8' codec can't decode byte 0xff in position 0: invalid start byte\n"
     ]
    },
    {
     "name": "stderr",
     "output_type": "stream",
     "text": [
      "Fusing layers... \n",
      "Model summary: 476 layers, 76226352 parameters, 0 gradients, 110.1 GFLOPs\n",
      "Adding AutoShape... \n"
     ]
    },
    {
     "name": "stdout",
     "output_type": "stream",
     "text": [
      "1/1 [==============================] - 0s 171ms/step\n",
      "not braking\n",
      "1/1 [==============================] - 0s 267ms/step\n",
      "not braking\n",
      "1/1 [==============================] - 0s 240ms/step\n",
      "braking\n",
      "1/1 [==============================] - 0s 344ms/step\n",
      "not braking\n",
      "1/1 [==============================] - 0s 208ms/step\n",
      "not braking\n"
     ]
    },
    {
     "name": "stderr",
     "output_type": "stream",
     "text": [
      "Using cache found in C:\\Users\\Martijn/.cache\\torch\\hub\\isl-org_ZoeDepth_main\n"
     ]
    },
    {
     "name": "stdout",
     "output_type": "stream",
     "text": [
      "img_size [384, 512]\n"
     ]
    },
    {
     "name": "stderr",
     "output_type": "stream",
     "text": [
      "Using cache found in C:\\Users\\Martijn/.cache\\torch\\hub\\intel-isl_MiDaS_master\n"
     ]
    },
    {
     "name": "stdout",
     "output_type": "stream",
     "text": [
      "Params passed to Resize transform:\n",
      "\twidth:  512\n",
      "\theight:  384\n",
      "\tresize_target:  True\n",
      "\tkeep_aspect_ratio:  True\n",
      "\tensure_multiple_of:  32\n",
      "\tresize_method:  minimal\n",
      "Using pretrained resource url::https://github.com/isl-org/ZoeDepth/releases/download/v1.0/ZoeD_M12_NK.pt\n",
      "Loaded successfully\n"
     ]
    },
    {
     "name": "stderr",
     "output_type": "stream",
     "text": [
      "\n"
     ]
    },
    {
     "name": "stdout",
     "output_type": "stream",
     "text": [
      "Choose to A) Brake B) Let go of the accelerator or C) Do Nothing based on the given context.\n",
      "\n",
      "        \"\"\"\n",
      "        Context: \n",
      "        Assume you are driving in The Netherlands. You are driving in a urban road at 40 km/h. The weather condition is sunny weather.\n",
      "        This is your front view; You see the following cars: A car 37.0 meters infront of you and to your left, A car 49.0 meters infront of you and to your left, A car 30.0 meters directly infront of you. You see the following traffic signs: There are no traffic signs in sight. You see the following traffic lights: There are no traffic lights in sight. You see the following pedestrians: There are no pedestrians in sight. You see the following bicyclist: There are no bicycles in sight. Additionally, you see: A bus 11.0 meters infront of you and to your right .\n",
      "        This is your rear view: You see the following: There are no significant objects behind you.\n",
      "        \"\"\"\n",
      "        Give your answer in one letter, after which you should provide thorough reasoning.\n",
      "        \n",
      "        Letter:\n",
      " B\n",
      "Reasoning: Since there are no traffic signs, traffic lights, pedestrians, or bicycles in sight, it is safe to assume that the road is clear and that it is safe to continue driving. Therefore, the best option is to let go of the accelerator and maintain the current speed of 40 km/h.\n"
     ]
    },
    {
     "name": "stderr",
     "output_type": "stream",
     "text": [
      "image 1/1 C:\\Users\\Martijn\\Desktop\\coding-projects\\BEP\\GPT-DT\\images\\vraag 19.jpg: 384x640 1 outside-view, 1 rear-view, 1 speed, 264.3ms\n",
      "Speed: 2.0ms preprocess, 264.3ms inference, 24.5ms postprocess per image at shape (1, 3, 640, 640)\n",
      "Results saved to \u001b[1mtri-crop\\predict\u001b[0m\n",
      "YOLOv5  2023-5-10 Python-3.9.16 torch-2.0.0 CPU\n",
      "\n"
     ]
    },
    {
     "name": "stdout",
     "output_type": "stream",
     "text": [
      "'utf-8' codec can't decode byte 0xff in position 0: invalid start byte\n"
     ]
    },
    {
     "name": "stderr",
     "output_type": "stream",
     "text": [
      "Fusing layers... \n",
      "Model summary: 476 layers, 76226352 parameters, 0 gradients, 110.1 GFLOPs\n",
      "Adding AutoShape... \n"
     ]
    },
    {
     "name": "stdout",
     "output_type": "stream",
     "text": [
      "1/1 [==============================] - 0s 435ms/step\n",
      "not braking\n",
      "1/1 [==============================] - 0s 340ms/step\n",
      "not braking\n",
      "1/1 [==============================] - 0s 344ms/step\n",
      "not braking\n"
     ]
    },
    {
     "name": "stderr",
     "output_type": "stream",
     "text": [
      "\n"
     ]
    },
    {
     "name": "stdout",
     "output_type": "stream",
     "text": [
      "Choose to A) Brake B) Let go of the accelerator or C) Do Nothing based on the given context.\n",
      "\n",
      "        \"\"\"\n",
      "        Context: \n",
      "        Assume you are driving in The Netherlands. You are driving in a highway at 10 km/h. The weather condition is sunny weather.\n",
      "        This is your front view; You see the following cars: A car 23.0 meters directly infront of you, A car 17.0 meters directly infront of you, A car approaching from 24.0 meters infront of you and to your left, A car approaching from 30.0 meters infront of you and to your left. You see the following traffic signs: There are no traffic signs in sight. You see the following traffic lights: There are no traffic lights in sight. You see the following pedestrians: There are no pedestrians in sight. You see the following bicyclist: There are no bicycles in sight. Additionally, you see: A truck 12.0 meters infront of you and to your right .\n",
      "        This is your rear view: You see the following: A car closely behind you, A car closely behind you.\n",
      "        \"\"\"\n",
      "        Give your answer in one letter, after which you should provide thorough reasoning.\n",
      "        \n",
      "        Letter:\n",
      " B\n",
      "Reasoning: Since there are no traffic signs, traffic lights, pedestrians, or bicycles in sight, it is safe to assume that the road is clear and that it is safe to accelerate. Therefore, the best option is to let go of the accelerator in order to maintain a safe speed.\n"
     ]
    },
    {
     "name": "stderr",
     "output_type": "stream",
     "text": [
      "image 1/1 C:\\Users\\Martijn\\Desktop\\coding-projects\\BEP\\GPT-DT\\images\\vraag 20.jpg: 384x640 1 outside-view, 1 rear-view, 1 speed, 192.3ms\n",
      "Speed: 0.0ms preprocess, 192.3ms inference, 4.0ms postprocess per image at shape (1, 3, 640, 640)\n",
      "Results saved to \u001b[1mtri-crop\\predict\u001b[0m\n",
      "YOLOv5  2023-5-10 Python-3.9.16 torch-2.0.0 CPU\n",
      "\n"
     ]
    },
    {
     "name": "stdout",
     "output_type": "stream",
     "text": [
      "'utf-8' codec can't decode byte 0xff in position 0: invalid start byte\n"
     ]
    },
    {
     "name": "stderr",
     "output_type": "stream",
     "text": [
      "Fusing layers... \n",
      "Model summary: 476 layers, 76226352 parameters, 0 gradients, 110.1 GFLOPs\n",
      "Adding AutoShape... \n"
     ]
    },
    {
     "name": "stdout",
     "output_type": "stream",
     "text": [
      "1/1 [==============================] - 0s 457ms/step\n",
      "not braking\n",
      "1/1 [==============================] - 0s 316ms/step\n",
      "not braking\n",
      "1/1 [==============================] - 0s 276ms/step\n",
      "Pedestrian crossing\n",
      "1/1 [==============================] - 0s 248ms/step\n",
      "Bicycle lane\n",
      "1/1 [==============================] - 0s 273ms/step\n",
      "Keep right\n"
     ]
    },
    {
     "name": "stderr",
     "output_type": "stream",
     "text": [
      "\n"
     ]
    },
    {
     "name": "stdout",
     "output_type": "stream",
     "text": [
      "Choose to A) Brake B) Let go of the accelerator or C) Do Nothing based on the given context.\n",
      "\n",
      "        \"\"\"\n",
      "        Context: \n",
      "        Assume you are driving in The Netherlands. You are driving in a urban road at 35 km/h. The weather condition is sunny weather.\n",
      "        This is your front view; You see the following cars: A car 56.0 meters directly infront of you, A car 51.0 meters directly infront of you. You see the following traffic signs: A \"Pedestrian crossing\" traffic sign, A \"Bicycle lane\" traffic sign, A \"Keep right\" traffic sign. You see the following traffic lights: There are no traffic lights in sight. You see the following pedestrians: A person 23.0 meters directly infront of you. You see the following bicyclist: There are no bicycles in sight. Additionally, you see: A truck 51.0 meters directly infront of you .\n",
      "        This is your rear view: You see the following: There are no significant objects behind you.\n",
      "        \"\"\"\n",
      "        Give your answer in one letter, after which you should provide thorough reasoning.\n",
      "        \n",
      "        Letter:\n",
      " A\n",
      "        Reasoning: Since there is a pedestrian crossing sign and a pedestrian 23 meters in front of you, it is important to brake in order to avoid an accident. Additionally, the truck in front of you is 51 meters away, which is too close to safely accelerate. Therefore, braking is the safest option.\n"
     ]
    },
    {
     "name": "stderr",
     "output_type": "stream",
     "text": [
      "image 1/1 C:\\Users\\Martijn\\Desktop\\coding-projects\\BEP\\GPT-DT\\images\\vraag 21.jpg: 384x640 1 outside-view, 1 rear-view, 1 speed, 220.1ms\n",
      "Speed: 0.0ms preprocess, 220.1ms inference, 4.0ms postprocess per image at shape (1, 3, 640, 640)\n",
      "Results saved to \u001b[1mtri-crop\\predict\u001b[0m\n",
      "YOLOv5  2023-5-10 Python-3.9.16 torch-2.0.0 CPU\n",
      "\n"
     ]
    },
    {
     "name": "stdout",
     "output_type": "stream",
     "text": [
      "'utf-8' codec can't decode byte 0xff in position 0: invalid start byte\n"
     ]
    },
    {
     "name": "stderr",
     "output_type": "stream",
     "text": [
      "Fusing layers... \n",
      "Model summary: 476 layers, 76226352 parameters, 0 gradients, 110.1 GFLOPs\n",
      "Adding AutoShape... \n"
     ]
    },
    {
     "name": "stdout",
     "output_type": "stream",
     "text": [
      "1/1 [==============================] - 0s 232ms/step\n",
      "not braking\n",
      "1/1 [==============================] - 0s 206ms/step\n",
      "not braking\n",
      "1/1 [==============================] - 0s 224ms/step\n",
      "Roundabout mandatory\n",
      "1/1 [==============================] - 0s 204ms/step\n",
      "Speed limit (70km/h)\n"
     ]
    },
    {
     "name": "stderr",
     "output_type": "stream",
     "text": [
      "\n"
     ]
    },
    {
     "name": "stdout",
     "output_type": "stream",
     "text": [
      "Choose to A) Brake B) Let go of the accelerator or C) Do Nothing based on the given context.\n",
      "\n",
      "        \"\"\"\n",
      "        Context: \n",
      "        Assume you are driving in The Netherlands. You are driving in a highway at 70 km/h. The weather condition is overcast weather.\n",
      "        This is your front view; You see the following cars: A car approaching from 44.0 meters infront of you and to your left, A car 49.0 meters directly infront of you, A car approaching from 27.0 meters infront of you and to your left, A car 55.0 meters directly infront of you. You see the following traffic signs: A \"Roundabout mandatory\" traffic sign, A \"Speed limit (70km/h)\" traffic sign. You see the following traffic lights: There are no traffic lights in sight. You see the following pedestrians: There are no pedestrians in sight. You see the following bicyclist: There are no bicycles in sight. Additionally, you see: there are no more objects than the ones mentioned above.\n",
      "        This is your rear view: You see the following: There are no significant objects behind you.\n",
      "        \"\"\"\n",
      "        Give your answer in one letter, after which you should provide thorough reasoning.\n",
      "        \n",
      "        Letter:\n",
      " B\n",
      "Reasoning: Since there are no traffic lights in sight, no pedestrians or bicyclists, and no other objects in sight, it is safe to let go of the accelerator and maintain the speed limit of 70 km/h.\n"
     ]
    },
    {
     "name": "stderr",
     "output_type": "stream",
     "text": [
      "image 1/1 C:\\Users\\Martijn\\Desktop\\coding-projects\\BEP\\GPT-DT\\images\\vraag 22.jpg: 384x640 1 outside-view, 1 rear-view, 1 speed, 304.3ms\n",
      "Speed: 4.0ms preprocess, 304.3ms inference, 4.0ms postprocess per image at shape (1, 3, 640, 640)\n",
      "Results saved to \u001b[1mtri-crop\\predict\u001b[0m\n",
      "YOLOv5  2023-5-10 Python-3.9.16 torch-2.0.0 CPU\n",
      "\n"
     ]
    },
    {
     "name": "stdout",
     "output_type": "stream",
     "text": [
      "'utf-8' codec can't decode byte 0xff in position 0: invalid start byte\n"
     ]
    },
    {
     "name": "stderr",
     "output_type": "stream",
     "text": [
      "Fusing layers... \n",
      "Model summary: 476 layers, 76226352 parameters, 0 gradients, 110.1 GFLOPs\n",
      "Adding AutoShape... \n",
      "Using cache found in C:\\Users\\Martijn/.cache\\torch\\hub\\isl-org_ZoeDepth_main\n"
     ]
    },
    {
     "name": "stdout",
     "output_type": "stream",
     "text": [
      "img_size [384, 512]\n"
     ]
    },
    {
     "name": "stderr",
     "output_type": "stream",
     "text": [
      "Using cache found in C:\\Users\\Martijn/.cache\\torch\\hub\\intel-isl_MiDaS_master\n"
     ]
    },
    {
     "name": "stdout",
     "output_type": "stream",
     "text": [
      "Params passed to Resize transform:\n",
      "\twidth:  512\n",
      "\theight:  384\n",
      "\tresize_target:  True\n",
      "\tkeep_aspect_ratio:  True\n",
      "\tensure_multiple_of:  32\n",
      "\tresize_method:  minimal\n",
      "Using pretrained resource url::https://github.com/isl-org/ZoeDepth/releases/download/v1.0/ZoeD_M12_NK.pt\n",
      "Loaded successfully\n"
     ]
    },
    {
     "name": "stderr",
     "output_type": "stream",
     "text": [
      "\n"
     ]
    },
    {
     "name": "stdout",
     "output_type": "stream",
     "text": [
      "Choose to A) Brake B) Let go of the accelerator or C) Do Nothing based on the given context.\n",
      "\n",
      "        \"\"\"\n",
      "        Context: \n",
      "        Assume you are driving in The Netherlands. You are driving in a residential road at 40 km/h. The weather condition is overcast weather.\n",
      "        This is your front view; You see the following cars: There are no cars in sight. You see the following traffic signs: There are no traffic signs in sight. You see the following traffic lights: There are no traffic lights in sight. You see the following pedestrians: There are no pedestrians in sight. You see the following bicyclist: There are no bicycles in sight. Additionally, you see: there are no more objects than the ones mentioned above.\n",
      "        This is your rear view: You see the following: There are no significant objects behind you.\n",
      "        \"\"\"\n",
      "        Give your answer in one letter, after which you should provide thorough reasoning.\n",
      "        \n",
      "        Letter:\n",
      " B\n",
      "Reasoning: Since there are no cars, traffic signs, traffic lights, pedestrians, or bicycles in sight, there is no need to brake. Letting go of the accelerator will allow the car to slow down naturally, and will help maintain the 40 km/h speed limit in the residential area.\n"
     ]
    },
    {
     "name": "stderr",
     "output_type": "stream",
     "text": [
      "image 1/1 C:\\Users\\Martijn\\Desktop\\coding-projects\\BEP\\GPT-DT\\images\\vraag 23.jpg: 384x640 1 outside-view, 1 rear-view, 1 speed, 170.2ms\n",
      "Speed: 9.0ms preprocess, 170.2ms inference, 13.0ms postprocess per image at shape (1, 3, 640, 640)\n",
      "Results saved to \u001b[1mtri-crop\\predict\u001b[0m\n",
      "YOLOv5  2023-5-10 Python-3.9.16 torch-2.0.0 CPU\n",
      "\n"
     ]
    },
    {
     "name": "stdout",
     "output_type": "stream",
     "text": [
      "'utf-8' codec can't decode byte 0xff in position 0: invalid start byte\n"
     ]
    },
    {
     "name": "stderr",
     "output_type": "stream",
     "text": [
      "Fusing layers... \n",
      "Model summary: 476 layers, 76226352 parameters, 0 gradients, 110.1 GFLOPs\n",
      "Adding AutoShape... \n"
     ]
    },
    {
     "name": "stdout",
     "output_type": "stream",
     "text": [
      "1/1 [==============================] - 0s 466ms/step\n",
      "not braking\n",
      "1/1 [==============================] - 0s 193ms/step\n",
      "not braking\n",
      "1/1 [==============================] - 0s 329ms/step\n",
      "not braking\n",
      "1/1 [==============================] - 0s 260ms/step\n",
      "not braking\n"
     ]
    },
    {
     "name": "stderr",
     "output_type": "stream",
     "text": [
      "\n"
     ]
    },
    {
     "name": "stdout",
     "output_type": "stream",
     "text": [
      "Choose to A) Brake B) Let go of the accelerator or C) Do Nothing based on the given context.\n",
      "\n",
      "        \"\"\"\n",
      "        Context: \n",
      "        Assume you are driving in The Netherlands. You are driving in a highway at 80 km/h. The weather condition is overcast weather.\n",
      "        This is your front view; You see the following cars: A car 16.0 meters infront of you and to your right, A car 56.0 meters infront of you and to your right, A car approaching from 34.0 meters infront of you and to your left, A car 61.0 meters infront of you and to your right, A car 65.0 meters infront of you and to your right. You see the following traffic signs: There are no traffic signs in sight. You see the following traffic lights: There are no traffic lights in sight. You see the following pedestrians: There are no pedestrians in sight. You see the following bicyclist: There are no bicycles in sight. Additionally, you see: there are no more objects than the ones mentioned above.\n",
      "        This is your rear view: You see the following: There are no significant objects behind you.\n",
      "        \"\"\"\n",
      "        Give your answer in one letter, after which you should provide thorough reasoning.\n",
      "        \n",
      "        Letter:\n",
      " B\n",
      "        Reasoning: Since there are no traffic signs, traffic lights, pedestrians, or bicycles in sight, it is safe to let go of the accelerator and maintain the current speed. This will ensure that you are driving safely and not exceeding the speed limit.\n"
     ]
    },
    {
     "name": "stderr",
     "output_type": "stream",
     "text": [
      "image 1/1 C:\\Users\\Martijn\\Desktop\\coding-projects\\BEP\\GPT-DT\\images\\vraag 24.jpg: 384x640 1 outside-view, 1 rear-view, 1 speed, 174.1ms\n",
      "Speed: 0.0ms preprocess, 174.1ms inference, 3.0ms postprocess per image at shape (1, 3, 640, 640)\n",
      "Results saved to \u001b[1mtri-crop\\predict\u001b[0m\n",
      "YOLOv5  2023-5-10 Python-3.9.16 torch-2.0.0 CPU\n",
      "\n"
     ]
    },
    {
     "name": "stdout",
     "output_type": "stream",
     "text": [
      "'utf-8' codec can't decode byte 0xff in position 0: invalid start byte\n"
     ]
    },
    {
     "name": "stderr",
     "output_type": "stream",
     "text": [
      "Fusing layers... \n",
      "Model summary: 476 layers, 76226352 parameters, 0 gradients, 110.1 GFLOPs\n",
      "Adding AutoShape... \n",
      "Using cache found in C:\\Users\\Martijn/.cache\\torch\\hub\\isl-org_ZoeDepth_main\n"
     ]
    },
    {
     "name": "stdout",
     "output_type": "stream",
     "text": [
      "img_size [384, 512]\n"
     ]
    },
    {
     "name": "stderr",
     "output_type": "stream",
     "text": [
      "Using cache found in C:\\Users\\Martijn/.cache\\torch\\hub\\intel-isl_MiDaS_master\n"
     ]
    },
    {
     "name": "stdout",
     "output_type": "stream",
     "text": [
      "Params passed to Resize transform:\n",
      "\twidth:  512\n",
      "\theight:  384\n",
      "\tresize_target:  True\n",
      "\tkeep_aspect_ratio:  True\n",
      "\tensure_multiple_of:  32\n",
      "\tresize_method:  minimal\n",
      "Using pretrained resource url::https://github.com/isl-org/ZoeDepth/releases/download/v1.0/ZoeD_M12_NK.pt\n",
      "Loaded successfully\n"
     ]
    },
    {
     "name": "stderr",
     "output_type": "stream",
     "text": [
      "\n",
      "image 1/1 C:\\Users\\Martijn\\Desktop\\coding-projects\\BEP\\GPT-DT\\images\\vraag 25.jpg: 384x640 1 outside-view, 1 rear-view, 1 speed, 141.5ms\n"
     ]
    },
    {
     "name": "stdout",
     "output_type": "stream",
     "text": [
      "Choose to A) Brake B) Let go of the accelerator or C) Do Nothing based on the given context.\n",
      "\n",
      "        \"\"\"\n",
      "        Context: \n",
      "        Assume you are driving in The Netherlands. You are driving in a residential road at 30 km/h. The weather condition is snowy weather.\n",
      "        This is your front view; You see the following cars: A car 31.0 meters infront of you and to your left, A car 16.0 meters infront of you and to your right. You see the following traffic signs: There are no traffic signs in sight. You see the following traffic lights: There are no traffic lights in sight. You see the following pedestrians: A person 17.0 meters infront of you and to your right, A person 17.0 meters infront of you and to your right, A person 17.0 meters infront of you and to your right, A person 15.0 meters directly infront of you, A person 16.0 meters infront of you and to your right, A person 13.0 meters infront of you and to your right. You see the following bicyclist: There are no bicycles in sight. Additionally, you see: there are no more objects than the ones mentioned above.\n",
      "        This is your rear view: You see the following: There are no significant objects behind you.\n",
      "        \"\"\"\n",
      "        Give your answer in one letter, after which you should provide thorough reasoning.\n",
      "        \n",
      "        Letter:\n",
      " A\n",
      "        Reasoning: Braking is the safest option in this situation, as there are multiple pedestrians and cars in front of you. Braking will help you maintain a safe distance from the other vehicles and pedestrians, and will help you avoid any potential collisions.\n"
     ]
    },
    {
     "name": "stderr",
     "output_type": "stream",
     "text": [
      "Speed: 3.0ms preprocess, 141.5ms inference, 0.0ms postprocess per image at shape (1, 3, 640, 640)\n",
      "Results saved to \u001b[1mtri-crop\\predict\u001b[0m\n",
      "YOLOv5  2023-5-10 Python-3.9.16 torch-2.0.0 CPU\n",
      "\n"
     ]
    },
    {
     "name": "stdout",
     "output_type": "stream",
     "text": [
      "'utf-8' codec can't decode byte 0xff in position 0: invalid start byte\n"
     ]
    },
    {
     "name": "stderr",
     "output_type": "stream",
     "text": [
      "Fusing layers... \n",
      "Model summary: 476 layers, 76226352 parameters, 0 gradients, 110.1 GFLOPs\n",
      "Adding AutoShape... \n"
     ]
    },
    {
     "name": "stdout",
     "output_type": "stream",
     "text": [
      "1/1 [==============================] - 0s 172ms/step\n",
      "not braking\n",
      "1/1 [==============================] - 0s 156ms/step\n",
      "not braking\n",
      "1/1 [==============================] - 0s 192ms/step\n",
      "not braking\n",
      "Green\n",
      "Green\n",
      "1/1 [==============================] - 0s 160ms/step\n",
      "Speed limit (100km/h)\n"
     ]
    },
    {
     "name": "stderr",
     "output_type": "stream",
     "text": [
      "Using cache found in C:\\Users\\Martijn/.cache\\torch\\hub\\isl-org_ZoeDepth_main\n"
     ]
    },
    {
     "name": "stdout",
     "output_type": "stream",
     "text": [
      "img_size [384, 512]\n"
     ]
    },
    {
     "name": "stderr",
     "output_type": "stream",
     "text": [
      "Using cache found in C:\\Users\\Martijn/.cache\\torch\\hub\\intel-isl_MiDaS_master\n"
     ]
    },
    {
     "name": "stdout",
     "output_type": "stream",
     "text": [
      "Params passed to Resize transform:\n",
      "\twidth:  512\n",
      "\theight:  384\n",
      "\tresize_target:  True\n",
      "\tkeep_aspect_ratio:  True\n",
      "\tensure_multiple_of:  32\n",
      "\tresize_method:  minimal\n",
      "Using pretrained resource url::https://github.com/isl-org/ZoeDepth/releases/download/v1.0/ZoeD_M12_NK.pt\n",
      "Loaded successfully\n"
     ]
    },
    {
     "name": "stderr",
     "output_type": "stream",
     "text": [
      "\n"
     ]
    },
    {
     "name": "stdout",
     "output_type": "stream",
     "text": [
      "Choose to A) Brake B) Let go of the accelerator or C) Do Nothing based on the given context.\n",
      "\n",
      "        \"\"\"\n",
      "        Context: \n",
      "        Assume you are driving in The Netherlands. You are driving in a highway at unknown km/h. The weather condition is overcast weather.\n",
      "        This is your front view; You see the following cars: A car 34.0 meters infront of you and to your left, A car 39.0 meters infront of you and to your left, A car 44.0 meters directly infront of you. You see the following traffic signs: A \"Speed limit (100km/h)\" traffic sign. You see the following traffic lights: A Green traffic light, A Green traffic light. You see the following pedestrians: There are no pedestrians in sight. You see the following bicyclist: There are no bicycles in sight. Additionally, you see: A truck 52.0 meters directly infront of you , A truck 10.0 meters infront of you and to your left , A digital traffic sign 9.0 meters infront of you and to your right , A digital traffic sign 52.0 meters directly infront of you , A digital traffic sign 48.0 meters directly infront of you .\n",
      "        This is your rear view: You see the following: There are no significant objects behind you.\n",
      "        \"\"\"\n",
      "        Give your answer in one letter, after which you should provide thorough reasoning.\n",
      "        \n",
      "        Letter:\n",
      " B\n",
      "        Reasoning: Since the speed limit is 100km/h, and there are no pedestrians or bicycles in sight, it is safe to let go of the accelerator and slow down to the speed limit. This will ensure that you do not exceed the speed limit and that you are driving safely.\n"
     ]
    },
    {
     "name": "stderr",
     "output_type": "stream",
     "text": [
      "image 1/1 C:\\Users\\Martijn\\Desktop\\coding-projects\\BEP\\GPT-DT\\images\\Vraag 26.jpg: 448x640 1 outside-view, 1 rear-view, 2 speeds, 456.4ms\n",
      "Speed: 2.5ms preprocess, 456.4ms inference, 8.0ms postprocess per image at shape (1, 3, 640, 640)\n",
      "Results saved to \u001b[1mtri-crop\\predict\u001b[0m\n",
      "YOLOv5  2023-5-10 Python-3.9.16 torch-2.0.0 CPU\n",
      "\n"
     ]
    },
    {
     "name": "stdout",
     "output_type": "stream",
     "text": [
      "'utf-8' codec can't decode byte 0xff in position 0: invalid start byte\n"
     ]
    },
    {
     "name": "stderr",
     "output_type": "stream",
     "text": [
      "Fusing layers... \n",
      "Model summary: 476 layers, 76226352 parameters, 0 gradients, 110.1 GFLOPs\n",
      "Adding AutoShape... \n"
     ]
    },
    {
     "name": "stdout",
     "output_type": "stream",
     "text": [
      "1/1 [==============================] - 0s 209ms/step\n",
      "not braking\n",
      "1/1 [==============================] - 0s 244ms/step\n",
      "not braking\n",
      "1/1 [==============================] - 0s 252ms/step\n",
      "not braking\n"
     ]
    },
    {
     "name": "stderr",
     "output_type": "stream",
     "text": [
      "Using cache found in C:\\Users\\Martijn/.cache\\torch\\hub\\isl-org_ZoeDepth_main\n"
     ]
    },
    {
     "name": "stdout",
     "output_type": "stream",
     "text": [
      "img_size [384, 512]\n"
     ]
    },
    {
     "name": "stderr",
     "output_type": "stream",
     "text": [
      "Using cache found in C:\\Users\\Martijn/.cache\\torch\\hub\\intel-isl_MiDaS_master\n"
     ]
    },
    {
     "name": "stdout",
     "output_type": "stream",
     "text": [
      "Params passed to Resize transform:\n",
      "\twidth:  512\n",
      "\theight:  384\n",
      "\tresize_target:  True\n",
      "\tkeep_aspect_ratio:  True\n",
      "\tensure_multiple_of:  32\n",
      "\tresize_method:  minimal\n",
      "Using pretrained resource url::https://github.com/isl-org/ZoeDepth/releases/download/v1.0/ZoeD_M12_NK.pt\n",
      "Loaded successfully\n"
     ]
    },
    {
     "name": "stderr",
     "output_type": "stream",
     "text": [
      "\n"
     ]
    },
    {
     "name": "stdout",
     "output_type": "stream",
     "text": [
      "Choose to A) Brake B) Let go of the accelerator or C) Do Nothing based on the given context.\n",
      "\n",
      "        \"\"\"\n",
      "        Context: \n",
      "        Assume you are driving in The Netherlands. You are driving in a highway at unknown km/h. The weather condition is overcast weather.\n",
      "        This is your front view; You see the following cars: A car 46.0 meters directly infront of you, A car 47.0 meters directly infront of you. You see the following traffic signs: There are no traffic signs in sight. You see the following traffic lights: There are no traffic lights in sight. You see the following pedestrians: There are no pedestrians in sight. You see the following bicyclist: There are no bicycles in sight. Additionally, you see: A truck 22.0 meters directly infront of you .\n",
      "        This is your rear view: You see the following: A car closely behind you.\n",
      "        \"\"\"\n",
      "        Give your answer in one letter, after which you should provide thorough reasoning.\n",
      "        \n",
      "        Letter:\n",
      " A\n",
      "        Reasoning: Since there are no traffic signs, traffic lights, pedestrians, or bicycles in sight, it is important to brake in order to maintain a safe distance from the truck and the cars in front of you. Braking will also help to reduce the speed of the car and ensure that you are driving at a safe speed.\n"
     ]
    },
    {
     "name": "stderr",
     "output_type": "stream",
     "text": [
      "image 1/1 C:\\Users\\Martijn\\Desktop\\coding-projects\\BEP\\GPT-DT\\images\\Vraag 27.jpg: 448x640 1 outside-view, 1 rear-view, 1 speed, 205.4ms\n",
      "Speed: 3.0ms preprocess, 205.4ms inference, 16.0ms postprocess per image at shape (1, 3, 640, 640)\n",
      "Results saved to \u001b[1mtri-crop\\predict\u001b[0m\n",
      "YOLOv5  2023-5-10 Python-3.9.16 torch-2.0.0 CPU\n",
      "\n"
     ]
    },
    {
     "name": "stdout",
     "output_type": "stream",
     "text": [
      "'utf-8' codec can't decode byte 0xff in position 0: invalid start byte\n"
     ]
    },
    {
     "name": "stderr",
     "output_type": "stream",
     "text": [
      "Fusing layers... \n",
      "Model summary: 476 layers, 76226352 parameters, 0 gradients, 110.1 GFLOPs\n",
      "Adding AutoShape... \n"
     ]
    },
    {
     "name": "stdout",
     "output_type": "stream",
     "text": [
      "1/1 [==============================] - 0s 185ms/step\n",
      "braking\n",
      "1/1 [==============================] - 0s 331ms/step\n",
      "not braking\n",
      "1/1 [==============================] - 0s 138ms/step\n",
      "not braking\n",
      "1/1 [==============================] - 0s 223ms/step\n",
      "not braking\n",
      "1/1 [==============================] - 0s 161ms/step\n",
      "not braking\n",
      "1/1 [==============================] - 0s 153ms/step\n",
      "not braking\n",
      "1/1 [==============================] - 0s 170ms/step\n",
      "not braking\n",
      "1/1 [==============================] - 0s 196ms/step\n",
      "not braking\n",
      "1/1 [==============================] - 0s 478ms/step\n",
      "not braking\n",
      "1/1 [==============================] - 0s 220ms/step\n",
      "not braking\n"
     ]
    },
    {
     "name": "stderr",
     "output_type": "stream",
     "text": [
      "Using cache found in C:\\Users\\Martijn/.cache\\torch\\hub\\isl-org_ZoeDepth_main\n"
     ]
    },
    {
     "name": "stdout",
     "output_type": "stream",
     "text": [
      "img_size [384, 512]\n"
     ]
    },
    {
     "name": "stderr",
     "output_type": "stream",
     "text": [
      "Using cache found in C:\\Users\\Martijn/.cache\\torch\\hub\\intel-isl_MiDaS_master\n"
     ]
    },
    {
     "name": "stdout",
     "output_type": "stream",
     "text": [
      "Params passed to Resize transform:\n",
      "\twidth:  512\n",
      "\theight:  384\n",
      "\tresize_target:  True\n",
      "\tkeep_aspect_ratio:  True\n",
      "\tensure_multiple_of:  32\n",
      "\tresize_method:  minimal\n",
      "Using pretrained resource url::https://github.com/isl-org/ZoeDepth/releases/download/v1.0/ZoeD_M12_NK.pt\n",
      "Loaded successfully\n"
     ]
    },
    {
     "name": "stderr",
     "output_type": "stream",
     "text": [
      "\n"
     ]
    },
    {
     "name": "stdout",
     "output_type": "stream",
     "text": [
      "Choose to A) Brake B) Let go of the accelerator or C) Do Nothing based on the given context.\n",
      "\n",
      "        \"\"\"\n",
      "        Context: \n",
      "        Assume you are driving in The Netherlands. You are driving in a residential road at 50 km/h. The weather condition is overcast weather.\n",
      "        This is your front view; You see the following cars: A car 19.0 meters infront of you and to your right, A car 13.0 meters infront of you and to your right, A car 46.0 meters directly infront of you, A car 24.0 meters infront of you and to your right, A car approaching from 32.0 meters directly infront of you, A car 56.0 meters infront of you and to your right, A car 22.0 meters directly infront of you, A car 46.0 meters infront of you and to your right, A car 34.0 meters infront of you and to your right, A car approaching from 64.0 meters directly infront of you, A car 64.0 meters directly infront of you. You see the following traffic signs: There are no traffic signs in sight. You see the following traffic lights: There are no traffic lights in sight. You see the following pedestrians: There are no pedestrians in sight. You see the following bicyclist: There are no bicycles in sight. Additionally, you see: there are no more objects than the ones mentioned above.\n",
      "        This is your rear view: You see the following: There are no significant objects behind you.\n",
      "        \"\"\"\n",
      "        Give your answer in one letter, after which you should provide thorough reasoning.\n",
      "        \n",
      "        Letter:\n",
      " B\n",
      "        Reasoning: Since there are no traffic signs, traffic lights, pedestrians, or bicycles in sight, it is safe to let go of the accelerator and slow down to a safe speed. This will help to ensure that you do not collide with any of the cars that are in front of you.\n"
     ]
    },
    {
     "name": "stderr",
     "output_type": "stream",
     "text": [
      "image 1/1 C:\\Users\\Martijn\\Desktop\\coding-projects\\BEP\\GPT-DT\\images\\Vraag 28.jpg: 448x640 1 outside-view, 1 rear-view, 1 speed, 159.9ms\n",
      "Speed: 2.0ms preprocess, 159.9ms inference, 15.0ms postprocess per image at shape (1, 3, 640, 640)\n",
      "Results saved to \u001b[1mtri-crop\\predict\u001b[0m\n",
      "YOLOv5  2023-5-10 Python-3.9.16 torch-2.0.0 CPU\n",
      "\n"
     ]
    },
    {
     "name": "stdout",
     "output_type": "stream",
     "text": [
      "'utf-8' codec can't decode byte 0xff in position 0: invalid start byte\n"
     ]
    },
    {
     "name": "stderr",
     "output_type": "stream",
     "text": [
      "Fusing layers... \n",
      "Model summary: 476 layers, 76226352 parameters, 0 gradients, 110.1 GFLOPs\n",
      "Adding AutoShape... \n"
     ]
    },
    {
     "name": "stdout",
     "output_type": "stream",
     "text": [
      "1/1 [==============================] - 1s 657ms/step\n",
      "not braking\n"
     ]
    },
    {
     "name": "stderr",
     "output_type": "stream",
     "text": [
      "Using cache found in C:\\Users\\Martijn/.cache\\torch\\hub\\isl-org_ZoeDepth_main\n"
     ]
    },
    {
     "name": "stdout",
     "output_type": "stream",
     "text": [
      "img_size [384, 512]\n"
     ]
    },
    {
     "name": "stderr",
     "output_type": "stream",
     "text": [
      "Using cache found in C:\\Users\\Martijn/.cache\\torch\\hub\\intel-isl_MiDaS_master\n"
     ]
    },
    {
     "name": "stdout",
     "output_type": "stream",
     "text": [
      "Params passed to Resize transform:\n",
      "\twidth:  512\n",
      "\theight:  384\n",
      "\tresize_target:  True\n",
      "\tkeep_aspect_ratio:  True\n",
      "\tensure_multiple_of:  32\n",
      "\tresize_method:  minimal\n",
      "Using pretrained resource url::https://github.com/isl-org/ZoeDepth/releases/download/v1.0/ZoeD_M12_NK.pt\n",
      "Loaded successfully\n"
     ]
    },
    {
     "name": "stderr",
     "output_type": "stream",
     "text": [
      "\n"
     ]
    },
    {
     "name": "stdout",
     "output_type": "stream",
     "text": [
      "Choose to A) Brake B) Let go of the accelerator or C) Do Nothing based on the given context.\n",
      "\n",
      "        \"\"\"\n",
      "        Context: \n",
      "        Assume you are driving in The Netherlands. You are driving in a residential road at 30 km/h. The weather condition is overcast weather.\n",
      "        This is your front view; You see the following cars: A car 57.0 meters directly infront of you, A car approaching from 57.0 meters directly infront of you. You see the following traffic signs: There are no traffic signs in sight. You see the following traffic lights: There are no traffic lights in sight. You see the following pedestrians: There are no pedestrians in sight. You see the following bicyclist: There are no bicycles in sight. Additionally, you see: A bus 19.0 meters infront of you and to your right , A truck 57.0 meters directly infront of you .\n",
      "        This is your rear view: You see the following: There are no significant objects behind you.\n",
      "        \"\"\"\n",
      "        Give your answer in one letter, after which you should provide thorough reasoning.\n",
      "        \n",
      "        Letter:\n",
      " A\n",
      "        Reasoning: Since there are no traffic signs, traffic lights, pedestrians, or bicycles in sight, it is safe to assume that the speed limit is 30 km/h. Since there is a bus and a truck in front of you, it is important to brake in order to maintain a safe distance and avoid a collision.\n"
     ]
    },
    {
     "name": "stderr",
     "output_type": "stream",
     "text": [
      "image 1/1 C:\\Users\\Martijn\\Desktop\\coding-projects\\BEP\\GPT-DT\\images\\Vraag 29.jpg: 448x640 1 outside-view, 1 rear-view, 1 speed, 131.3ms\n",
      "Speed: 1.0ms preprocess, 131.3ms inference, 2.0ms postprocess per image at shape (1, 3, 640, 640)\n",
      "Results saved to \u001b[1mtri-crop\\predict\u001b[0m\n",
      "YOLOv5  2023-5-10 Python-3.9.16 torch-2.0.0 CPU\n",
      "\n"
     ]
    },
    {
     "name": "stdout",
     "output_type": "stream",
     "text": [
      "'utf-8' codec can't decode byte 0xff in position 0: invalid start byte\n"
     ]
    },
    {
     "name": "stderr",
     "output_type": "stream",
     "text": [
      "Fusing layers... \n",
      "Model summary: 476 layers, 76226352 parameters, 0 gradients, 110.1 GFLOPs\n",
      "Adding AutoShape... \n"
     ]
    },
    {
     "name": "stdout",
     "output_type": "stream",
     "text": [
      "1/1 [==============================] - 0s 203ms/step\n",
      "not braking\n",
      "1/1 [==============================] - 0s 193ms/step\n",
      "not braking\n",
      "1/1 [==============================] - 0s 246ms/step\n",
      "not braking\n"
     ]
    },
    {
     "name": "stderr",
     "output_type": "stream",
     "text": [
      "Using cache found in C:\\Users\\Martijn/.cache\\torch\\hub\\isl-org_ZoeDepth_main\n"
     ]
    },
    {
     "name": "stdout",
     "output_type": "stream",
     "text": [
      "img_size [384, 512]\n"
     ]
    },
    {
     "name": "stderr",
     "output_type": "stream",
     "text": [
      "Using cache found in C:\\Users\\Martijn/.cache\\torch\\hub\\intel-isl_MiDaS_master\n"
     ]
    },
    {
     "name": "stdout",
     "output_type": "stream",
     "text": [
      "Params passed to Resize transform:\n",
      "\twidth:  512\n",
      "\theight:  384\n",
      "\tresize_target:  True\n",
      "\tkeep_aspect_ratio:  True\n",
      "\tensure_multiple_of:  32\n",
      "\tresize_method:  minimal\n",
      "Using pretrained resource url::https://github.com/isl-org/ZoeDepth/releases/download/v1.0/ZoeD_M12_NK.pt\n",
      "Loaded successfully\n"
     ]
    },
    {
     "name": "stderr",
     "output_type": "stream",
     "text": [
      "\n"
     ]
    },
    {
     "name": "stdout",
     "output_type": "stream",
     "text": [
      "Choose to A) Brake B) Let go of the accelerator or C) Do Nothing based on the given context.\n",
      "\n",
      "        \"\"\"\n",
      "        Context: \n",
      "        Assume you are driving in The Netherlands. You are driving in a residential road at 30 km/h. The weather condition is rainy weather.\n",
      "        This is your front view; You see the following cars: A car 23.0 meters infront of you and to your left, A car 14.0 meters infront of you and to your left, A car approaching from 55.0 meters directly infront of you, A car approaching from 55.0 meters directly infront of you, A car approaching from 50.0 meters directly infront of you, A car approaching from 62.0 meters directly infront of you. You see the following traffic signs: There are no traffic signs in sight. You see the following traffic lights: There are no traffic lights in sight. You see the following pedestrians: There are no pedestrians in sight. You see the following bicyclist: There are no bicycles in sight. Additionally, you see: there are no more objects than the ones mentioned above.\n",
      "        This is your rear view: You see the following: There are no significant objects behind you.\n",
      "        \"\"\"\n",
      "        Give your answer in one letter, after which you should provide thorough reasoning.\n",
      "        \n",
      "        Letter:\n",
      " B\n",
      "Reasoning: Since there are no traffic signs, traffic lights, pedestrians, or bicycles in sight, it is safe to let go of the accelerator and slow down to a safe speed. This will help to avoid any potential collisions with the cars that are approaching from the front.\n"
     ]
    },
    {
     "name": "stderr",
     "output_type": "stream",
     "text": [
      "image 1/1 C:\\Users\\Martijn\\Desktop\\coding-projects\\BEP\\GPT-DT\\images\\Vraag 30.jpg: 448x640 1 outside-view, 1 rear-view, 1 speed, 156.7ms\n",
      "Speed: 2.0ms preprocess, 156.7ms inference, 13.0ms postprocess per image at shape (1, 3, 640, 640)\n",
      "Results saved to \u001b[1mtri-crop\\predict\u001b[0m\n",
      "YOLOv5  2023-5-10 Python-3.9.16 torch-2.0.0 CPU\n",
      "\n"
     ]
    },
    {
     "name": "stdout",
     "output_type": "stream",
     "text": [
      "'utf-8' codec can't decode byte 0xff in position 0: invalid start byte\n"
     ]
    },
    {
     "name": "stderr",
     "output_type": "stream",
     "text": [
      "Fusing layers... \n",
      "Model summary: 476 layers, 76226352 parameters, 0 gradients, 110.1 GFLOPs\n",
      "Adding AutoShape... \n"
     ]
    },
    {
     "name": "stdout",
     "output_type": "stream",
     "text": [
      "1/1 [==============================] - 0s 143ms/step\n",
      "not braking\n"
     ]
    },
    {
     "name": "stderr",
     "output_type": "stream",
     "text": [
      "Using cache found in C:\\Users\\Martijn/.cache\\torch\\hub\\isl-org_ZoeDepth_main\n"
     ]
    },
    {
     "name": "stdout",
     "output_type": "stream",
     "text": [
      "img_size [384, 512]\n"
     ]
    },
    {
     "name": "stderr",
     "output_type": "stream",
     "text": [
      "Using cache found in C:\\Users\\Martijn/.cache\\torch\\hub\\intel-isl_MiDaS_master\n"
     ]
    },
    {
     "name": "stdout",
     "output_type": "stream",
     "text": [
      "Params passed to Resize transform:\n",
      "\twidth:  512\n",
      "\theight:  384\n",
      "\tresize_target:  True\n",
      "\tkeep_aspect_ratio:  True\n",
      "\tensure_multiple_of:  32\n",
      "\tresize_method:  minimal\n",
      "Using pretrained resource url::https://github.com/isl-org/ZoeDepth/releases/download/v1.0/ZoeD_M12_NK.pt\n",
      "Loaded successfully\n"
     ]
    },
    {
     "name": "stderr",
     "output_type": "stream",
     "text": [
      "\n"
     ]
    },
    {
     "name": "stdout",
     "output_type": "stream",
     "text": [
      "Choose to A) Brake B) Let go of the accelerator or C) Do Nothing based on the given context.\n",
      "\n",
      "        \"\"\"\n",
      "        Context: \n",
      "        Assume you are driving in The Netherlands. You are driving in a urban road at 45 km/h. The weather condition is sunny weather.\n",
      "        This is your front view; You see the following cars: A car approaching from 24.0 meters infront of you and to your right, A car approaching from 12.0 meters infront of you and to your right, A car 29.0 meters directly infront of you, A car approaching from 42.0 meters infront of you and to your right, A car approaching from 45.0 meters directly infront of you, A car approaching from 58.0 meters directly infront of you, A car approaching from 33.0 meters directly infront of you, A car approaching from 61.0 meters directly infront of you. You see the following traffic signs: There are no traffic signs in sight. You see the following traffic lights: There are no traffic lights in sight. You see the following pedestrians: There are no pedestrians in sight. You see the following bicyclist: There are no bicycles in sight. Additionally, you see: there are no more objects than the ones mentioned above.\n",
      "        This is your rear view: You see the following: A car closely behind you.\n",
      "        \"\"\"\n",
      "        Give your answer in one letter, after which you should provide thorough reasoning.\n",
      "        \n",
      "        Letter:\n",
      " B\n",
      "Reasoning: Since there are no traffic signs, traffic lights, or pedestrians in sight, it is safe to assume that the speed limit is 45 km/h. Therefore, the best option is to let go of the accelerator in order to maintain the speed limit and avoid any potential collisions with the cars approaching from the front.\n"
     ]
    },
    {
     "name": "stderr",
     "output_type": "stream",
     "text": [
      "image 1/1 C:\\Users\\Martijn\\Desktop\\coding-projects\\BEP\\GPT-DT\\images\\Vraag 31.jpg: 480x640 1 outside-view, 1 rear-view, 1 speed, 255.0ms\n",
      "Speed: 2.6ms preprocess, 255.0ms inference, 2.0ms postprocess per image at shape (1, 3, 640, 640)\n",
      "Results saved to \u001b[1mtri-crop\\predict\u001b[0m\n",
      "YOLOv5  2023-5-10 Python-3.9.16 torch-2.0.0 CPU\n",
      "\n"
     ]
    },
    {
     "name": "stdout",
     "output_type": "stream",
     "text": [
      "'utf-8' codec can't decode byte 0xff in position 0: invalid start byte\n"
     ]
    },
    {
     "name": "stderr",
     "output_type": "stream",
     "text": [
      "Fusing layers... \n",
      "Model summary: 476 layers, 76226352 parameters, 0 gradients, 110.1 GFLOPs\n",
      "Adding AutoShape... \n"
     ]
    },
    {
     "name": "stdout",
     "output_type": "stream",
     "text": [
      "1/1 [==============================] - 0s 129ms/step\n",
      "Pedestrian crossing\n"
     ]
    },
    {
     "name": "stderr",
     "output_type": "stream",
     "text": [
      "\n"
     ]
    },
    {
     "name": "stdout",
     "output_type": "stream",
     "text": [
      "Choose to A) Brake B) Let go of the accelerator or C) Do Nothing based on the given context.\n",
      "\n",
      "        \"\"\"\n",
      "        Context: \n",
      "        Assume you are driving in The Netherlands. You are driving in a urban road at 35 km/h. The weather condition is overcast weather.\n",
      "        This is your front view; You see the following cars: A car approaching from 57.0 meters directly infront of you. You see the following traffic signs: A \"Pedestrian crossing\" traffic sign. You see the following traffic lights: There are no traffic lights in sight. You see the following pedestrians: There are no pedestrians in sight. You see the following bicyclist: There are no bicycles in sight. Additionally, you see: there are no more objects than the ones mentioned above.\n",
      "        This is your rear view: You see the following: There are no significant objects behind you.\n",
      "        \"\"\"\n",
      "        Give your answer in one letter, after which you should provide thorough reasoning.\n",
      "        \n",
      "        Letter:\n",
      " A\n",
      "Reasoning: Braking is the safest option in this situation, as there is a pedestrian crossing sign and no traffic lights in sight. This indicates that pedestrians may be crossing the road, and it is important to slow down and be prepared to stop in order to avoid a potential accident.\n"
     ]
    },
    {
     "name": "stderr",
     "output_type": "stream",
     "text": [
      "image 1/1 C:\\Users\\Martijn\\Desktop\\coding-projects\\BEP\\GPT-DT\\images\\Vraag 32.jpg: 480x640 1 outside-view, 1 rear-view, 1 speed, 168.3ms\n",
      "Speed: 2.0ms preprocess, 168.3ms inference, 1.0ms postprocess per image at shape (1, 3, 640, 640)\n",
      "Results saved to \u001b[1mtri-crop\\predict\u001b[0m\n",
      "YOLOv5  2023-5-10 Python-3.9.16 torch-2.0.0 CPU\n",
      "\n"
     ]
    },
    {
     "name": "stdout",
     "output_type": "stream",
     "text": [
      "'utf-8' codec can't decode byte 0xff in position 0: invalid start byte\n"
     ]
    },
    {
     "name": "stderr",
     "output_type": "stream",
     "text": [
      "Fusing layers... \n",
      "Model summary: 476 layers, 76226352 parameters, 0 gradients, 110.1 GFLOPs\n",
      "Adding AutoShape... \n"
     ]
    },
    {
     "name": "stdout",
     "output_type": "stream",
     "text": [
      "1/1 [==============================] - 0s 125ms/step\n",
      "Dangerous curve right\n",
      "1/1 [==============================] - 0s 168ms/step\n",
      "Road work\n"
     ]
    },
    {
     "name": "stderr",
     "output_type": "stream",
     "text": [
      "\n"
     ]
    },
    {
     "name": "stdout",
     "output_type": "stream",
     "text": [
      "Choose to A) Brake B) Let go of the accelerator or C) Do Nothing based on the given context.\n",
      "\n",
      "        \"\"\"\n",
      "        Context: \n",
      "        Assume you are driving in The Netherlands. You are driving in a urban road at 35 km/h. The weather condition is rainy weather.\n",
      "        This is your front view; You see the following cars: A car approaching from 63.0 meters directly infront of you. You see the following traffic signs: A \"Dangerous curve right\" traffic sign, A \"Road work\" traffic sign. You see the following traffic lights: There are no traffic lights in sight. You see the following pedestrians: There are no pedestrians in sight. You see the following bicyclist: There are no bicycles in sight. Additionally, you see: A digital traffic sign 38.0 meters infront of you and to your left , A digital traffic sign 57.0 meters directly infront of you .\n",
      "        This is your rear view: You see the following: There are no significant objects behind you.\n",
      "        \"\"\"\n",
      "        Give your answer in one letter, after which you should provide thorough reasoning.\n",
      "        \n",
      "        Letter:\n",
      " A\n",
      "Reasoning: The context indicates that the weather is rainy, which can reduce visibility and make it more difficult to navigate curves. Additionally, there is a \"Dangerous curve right\" traffic sign, which indicates that the road ahead is likely to be winding and difficult to navigate. Therefore, it is best to brake in order to reduce speed and increase safety.\n"
     ]
    },
    {
     "name": "stderr",
     "output_type": "stream",
     "text": [
      "image 1/1 C:\\Users\\Martijn\\Desktop\\coding-projects\\BEP\\GPT-DT\\images\\Vraag 33.jpg: 480x640 1 outside-view, 1 rear-view, 1 speed, 172.1ms\n",
      "Speed: 1.9ms preprocess, 172.1ms inference, 1.0ms postprocess per image at shape (1, 3, 640, 640)\n",
      "Results saved to \u001b[1mtri-crop\\predict\u001b[0m\n",
      "YOLOv5  2023-5-10 Python-3.9.16 torch-2.0.0 CPU\n",
      "\n"
     ]
    },
    {
     "name": "stdout",
     "output_type": "stream",
     "text": [
      "'utf-8' codec can't decode byte 0xff in position 0: invalid start byte\n"
     ]
    },
    {
     "name": "stderr",
     "output_type": "stream",
     "text": [
      "Fusing layers... \n",
      "Model summary: 476 layers, 76226352 parameters, 0 gradients, 110.1 GFLOPs\n",
      "Adding AutoShape... \n",
      "\n",
      "image 1/1 C:\\Users\\Martijn\\Desktop\\coding-projects\\BEP\\GPT-DT\\images\\Vraag 34.jpg: 480x640 1 outside-view, 1 rear-view, 1 speed, 159.2ms\n"
     ]
    },
    {
     "name": "stdout",
     "output_type": "stream",
     "text": [
      "Choose to A) Brake B) Let go of the accelerator or C) Do Nothing based on the given context.\n",
      "\n",
      "        \"\"\"\n",
      "        Context: \n",
      "        Assume you are driving in The Netherlands. You are driving in a urban road at 40 km/h. The weather condition is sunny weather.\n",
      "        This is your front view; You see the following cars: A car approaching from 6.0 meters directly infront of you. You see the following traffic signs: There are no traffic signs in sight. You see the following traffic lights: There are no traffic lights in sight. You see the following pedestrians: There are no pedestrians in sight. You see the following bicyclist: There are no bicycles in sight. Additionally, you see: A digital traffic sign 5.0 meters infront of you and to your right .\n",
      "        This is your rear view: You see the following: There are no significant objects behind you.\n",
      "        \"\"\"\n",
      "        Give your answer in one letter, after which you should provide thorough reasoning.\n",
      "        \n",
      "        Letter:\n",
      " A\n",
      "Reasoning: Since there are no traffic lights or signs in sight, the speed limit of 40 km/h should be maintained. Additionally, there is a car approaching from 6.0 meters directly in front of you, so it is important to brake in order to maintain a safe distance.\n"
     ]
    },
    {
     "name": "stderr",
     "output_type": "stream",
     "text": [
      "Speed: 1.0ms preprocess, 159.2ms inference, 2.0ms postprocess per image at shape (1, 3, 640, 640)\n",
      "Results saved to \u001b[1mtri-crop\\predict\u001b[0m\n",
      "YOLOv5  2023-5-10 Python-3.9.16 torch-2.0.0 CPU\n",
      "\n"
     ]
    },
    {
     "name": "stdout",
     "output_type": "stream",
     "text": [
      "'utf-8' codec can't decode byte 0xff in position 0: invalid start byte\n"
     ]
    },
    {
     "name": "stderr",
     "output_type": "stream",
     "text": [
      "Fusing layers... \n",
      "Model summary: 476 layers, 76226352 parameters, 0 gradients, 110.1 GFLOPs\n",
      "Adding AutoShape... \n"
     ]
    },
    {
     "name": "stdout",
     "output_type": "stream",
     "text": [
      "1/1 [==============================] - 0s 218ms/step\n",
      "not braking\n"
     ]
    },
    {
     "name": "stderr",
     "output_type": "stream",
     "text": [
      "\n"
     ]
    },
    {
     "name": "stdout",
     "output_type": "stream",
     "text": [
      "Choose to A) Brake B) Let go of the accelerator or C) Do Nothing based on the given context.\n",
      "\n",
      "        \"\"\"\n",
      "        Context: \n",
      "        Assume you are driving in The Netherlands. You are driving in a highway at 60 km/h. The weather condition is overcast weather.\n",
      "        This is your front view; You see the following cars: A car 32.0 meters directly infront of you. You see the following traffic signs: There are no traffic signs in sight. You see the following traffic lights: There are no traffic lights in sight. You see the following pedestrians: There are no pedestrians in sight. You see the following bicyclist: There are no bicycles in sight. Additionally, you see: A bus 32.0 meters directly infront of you .\n",
      "        This is your rear view: You see the following: There are no significant objects behind you.\n",
      "        \"\"\"\n",
      "        Give your answer in one letter, after which you should provide thorough reasoning.\n",
      "        \n",
      "        Letter:\n",
      " A\n",
      "Reasoning: Since there are no traffic signs, traffic lights, pedestrians, or bicycles in sight, it is safe to assume that the road is clear. However, since there is a bus 32.0 meters directly in front of you, it is important to brake in order to maintain a safe distance and avoid a collision.\n"
     ]
    },
    {
     "name": "stderr",
     "output_type": "stream",
     "text": [
      "image 1/1 C:\\Users\\Martijn\\Desktop\\coding-projects\\BEP\\GPT-DT\\images\\Vraag 35.jpg: 480x640 1 outside-view, 1 rear-view, 1 speed, 171.1ms\n",
      "Speed: 1.0ms preprocess, 171.1ms inference, 1.0ms postprocess per image at shape (1, 3, 640, 640)\n",
      "Results saved to \u001b[1mtri-crop\\predict\u001b[0m\n",
      "YOLOv5  2023-5-10 Python-3.9.16 torch-2.0.0 CPU\n",
      "\n"
     ]
    },
    {
     "name": "stdout",
     "output_type": "stream",
     "text": [
      "'utf-8' codec can't decode byte 0xff in position 0: invalid start byte\n"
     ]
    },
    {
     "name": "stderr",
     "output_type": "stream",
     "text": [
      "Fusing layers... \n",
      "Model summary: 476 layers, 76226352 parameters, 0 gradients, 110.1 GFLOPs\n",
      "Adding AutoShape... \n",
      "\n"
     ]
    },
    {
     "name": "stdout",
     "output_type": "stream",
     "text": [
      "Choose to A) Brake B) Let go of the accelerator or C) Do Nothing based on the given context.\n",
      "\n",
      "        \"\"\"\n",
      "        Context: \n",
      "        Assume you are driving in The Netherlands. You are driving in a urban road at 35 km/h. The weather condition is rainy weather.\n",
      "        This is your front view; You see the following cars: There are no cars in sight. You see the following traffic signs: There are no traffic signs in sight. You see the following traffic lights: There are no traffic lights in sight. You see the following pedestrians: There are no pedestrians in sight. You see the following bicyclist: There are no bicycles in sight. Additionally, you see: A digital traffic sign 35.0 meters directly infront of you .\n",
      "        This is your rear view: You see the following: There are no significant objects behind you.\n",
      "        \"\"\"\n",
      "        Give your answer in one letter, after which you should provide thorough reasoning.\n",
      "        \n",
      "        Letter:\n",
      " A\n",
      "Reasoning: Since there are no cars, traffic signs, traffic lights, pedestrians, or bicycles in sight, it is safe to assume that the road is clear. However, since the weather is rainy, it is important to be extra cautious and brake in order to maintain a safe speed. Additionally, the digital traffic sign 35.0 meters directly in front of you indicates that the speed limit is 35 km/h, so it is important to brake in order to stay within the speed limit.\n"
     ]
    },
    {
     "name": "stderr",
     "output_type": "stream",
     "text": [
      "image 1/1 C:\\Users\\Martijn\\Desktop\\coding-projects\\BEP\\GPT-DT\\images\\Vraag 36.jpg: 480x640 1 outside-view, 1 rear-view, 1 speed, 154.9ms\n",
      "Speed: 1.0ms preprocess, 154.9ms inference, 2.0ms postprocess per image at shape (1, 3, 640, 640)\n",
      "Results saved to \u001b[1mtri-crop\\predict\u001b[0m\n",
      "YOLOv5  2023-5-10 Python-3.9.16 torch-2.0.0 CPU\n",
      "\n"
     ]
    },
    {
     "name": "stdout",
     "output_type": "stream",
     "text": [
      "'utf-8' codec can't decode byte 0xff in position 0: invalid start byte\n"
     ]
    },
    {
     "name": "stderr",
     "output_type": "stream",
     "text": [
      "Fusing layers... \n",
      "Model summary: 476 layers, 76226352 parameters, 0 gradients, 110.1 GFLOPs\n",
      "Adding AutoShape... \n"
     ]
    },
    {
     "name": "stdout",
     "output_type": "stream",
     "text": [
      "1/1 [==============================] - 0s 235ms/step\n",
      "not braking\n",
      "1/1 [==============================] - 0s 144ms/step\n",
      "not braking\n",
      "Green\n",
      "Yellow\n",
      "Yellow\n",
      "Yellow\n"
     ]
    },
    {
     "name": "stderr",
     "output_type": "stream",
     "text": [
      "\n"
     ]
    },
    {
     "name": "stdout",
     "output_type": "stream",
     "text": [
      "Choose to A) Brake B) Let go of the accelerator or C) Do Nothing based on the given context.\n",
      "\n",
      "        \"\"\"\n",
      "        Context: \n",
      "        Assume you are driving in The Netherlands. You are driving in a urban road at 15 km/h. The weather condition is overcast weather.\n",
      "        This is your front view; You see the following cars: A car 3.0 meters directly infront of you, A car 6.0 meters infront of you and to your right, A car 6.0 meters infront of you and to your right, A car 5.0 meters infront of you and to your right, A car 5.0 meters directly infront of you. You see the following traffic signs: There are no traffic signs in sight. You see the following traffic lights: A Green traffic light, A Yellow traffic light, A Yellow traffic light, A Yellow traffic light. You see the following pedestrians: There are no pedestrians in sight. You see the following bicyclist: There are no bicycles in sight. Additionally, you see: A digital traffic sign 6.0 meters infront of you and to your left , A digital traffic sign 6.0 meters directly infront of you , A digital traffic sign 6.0 meters directly infront of you , A digital traffic sign 6.0 meters infront of you and to your right .\n",
      "        This is your rear view: You see the following: There are no significant objects behind you.\n",
      "        \"\"\"\n",
      "        Give your answer in one letter, after which you should provide thorough reasoning.\n",
      "        \n",
      "        Letter:\n",
      " B\n",
      "        Reasoning: Since there are no traffic signs, traffic lights, pedestrians, or bicycles in sight, it is safe to let go of the accelerator and maintain the current speed. This will ensure that the car is not accelerating too quickly and that the driver is able to maintain control of the vehicle.\n"
     ]
    },
    {
     "name": "stderr",
     "output_type": "stream",
     "text": [
      "image 1/1 C:\\Users\\Martijn\\Desktop\\coding-projects\\BEP\\GPT-DT\\images\\Vraag 37.jpg: 480x640 1 outside-view, 1 speed, 171.1ms\n",
      "Speed: 1.0ms preprocess, 171.1ms inference, 1.0ms postprocess per image at shape (1, 3, 640, 640)\n",
      "Results saved to \u001b[1mtri-crop\\predict\u001b[0m\n",
      "YOLOv5  2023-5-10 Python-3.9.16 torch-2.0.0 CPU\n",
      "\n"
     ]
    },
    {
     "name": "stdout",
     "output_type": "stream",
     "text": [
      "'utf-8' codec can't decode byte 0xff in position 0: invalid start byte\n"
     ]
    },
    {
     "name": "stderr",
     "output_type": "stream",
     "text": [
      "Fusing layers... \n",
      "Model summary: 476 layers, 76226352 parameters, 0 gradients, 110.1 GFLOPs\n",
      "Adding AutoShape... \n"
     ]
    },
    {
     "name": "stdout",
     "output_type": "stream",
     "text": [
      "1/1 [==============================] - 0s 224ms/step\n",
      "not braking\n",
      "1/1 [==============================] - 0s 146ms/step\n",
      "not braking\n"
     ]
    },
    {
     "name": "stderr",
     "output_type": "stream",
     "text": [
      "Using cache found in C:\\Users\\Martijn/.cache\\torch\\hub\\isl-org_ZoeDepth_main\n"
     ]
    },
    {
     "name": "stdout",
     "output_type": "stream",
     "text": [
      "img_size [384, 512]\n"
     ]
    },
    {
     "name": "stderr",
     "output_type": "stream",
     "text": [
      "Using cache found in C:\\Users\\Martijn/.cache\\torch\\hub\\intel-isl_MiDaS_master\n"
     ]
    },
    {
     "name": "stdout",
     "output_type": "stream",
     "text": [
      "Params passed to Resize transform:\n",
      "\twidth:  512\n",
      "\theight:  384\n",
      "\tresize_target:  True\n",
      "\tkeep_aspect_ratio:  True\n",
      "\tensure_multiple_of:  32\n",
      "\tresize_method:  minimal\n",
      "Using pretrained resource url::https://github.com/isl-org/ZoeDepth/releases/download/v1.0/ZoeD_M12_NK.pt\n",
      "Loaded successfully\n"
     ]
    },
    {
     "name": "stderr",
     "output_type": "stream",
     "text": [
      "\n"
     ]
    },
    {
     "name": "stdout",
     "output_type": "stream",
     "text": [
      "Choose to A) Brake B) Let go of the accelerator or C) Do Nothing based on the given context.\n",
      "\n",
      "        \"\"\"\n",
      "        Context: \n",
      "        Assume you are driving in The Netherlands. You are driving in a residential road at 30 km/h. The weather condition is rainy weather.\n",
      "        This is your front view; You see the following cars: A car 44.0 meters infront of you and to your right, A car 43.0 meters infront of you and to your right. You see the following traffic signs: There are no traffic signs in sight. You see the following traffic lights: There are no traffic lights in sight. You see the following pedestrians: There are no pedestrians in sight. You see the following bicyclist: There are no bicycles in sight. Additionally, you see: there are no more objects than the ones mentioned above.\n",
      "        This is your rear view: You see the following: There are no significant objects behind you.\n",
      "        \"\"\"\n",
      "        Give your answer in one letter, after which you should provide thorough reasoning.\n",
      "        \n",
      "        Letter:\n",
      " A\n",
      "Reasoning: Since there are no traffic signs, traffic lights, pedestrians, or bicycles in sight, it is safe to assume that the speed limit is 30 km/h. Since the car in front of you is 44.0 meters away, it is best to brake in order to maintain a safe distance and avoid any potential collisions.\n"
     ]
    },
    {
     "name": "stderr",
     "output_type": "stream",
     "text": [
      "image 1/1 C:\\Users\\Martijn\\Desktop\\coding-projects\\BEP\\GPT-DT\\images\\Vraag 38.jpg: 480x640 1 outside-view, 1 speed, 278.3ms\n",
      "Speed: 2.0ms preprocess, 278.3ms inference, 9.0ms postprocess per image at shape (1, 3, 640, 640)\n",
      "Results saved to \u001b[1mtri-crop\\predict\u001b[0m\n",
      "YOLOv5  2023-5-10 Python-3.9.16 torch-2.0.0 CPU\n",
      "\n"
     ]
    },
    {
     "name": "stdout",
     "output_type": "stream",
     "text": [
      "'utf-8' codec can't decode byte 0xff in position 0: invalid start byte\n"
     ]
    },
    {
     "name": "stderr",
     "output_type": "stream",
     "text": [
      "Fusing layers... \n",
      "Model summary: 476 layers, 76226352 parameters, 0 gradients, 110.1 GFLOPs\n",
      "Adding AutoShape... \n"
     ]
    },
    {
     "name": "stdout",
     "output_type": "stream",
     "text": [
      "1/1 [==============================] - 0s 305ms/step\n",
      "not braking\n"
     ]
    },
    {
     "ename": "MemoryError",
     "evalue": "bad allocation",
     "output_type": "error",
     "traceback": [
      "\u001b[1;31m---------------------------------------------------------------------------\u001b[0m",
      "\u001b[1;31mMemoryError\u001b[0m                               Traceback (most recent call last)",
      "Cell \u001b[1;32mIn[4], line 8\u001b[0m\n\u001b[0;32m      5\u001b[0m res_row \u001b[39m=\u001b[39m results\u001b[39m.\u001b[39mloc[row]\n\u001b[0;32m      7\u001b[0m image \u001b[39m=\u001b[39m tru_row[\u001b[39m\"\u001b[39m\u001b[39mFilename\u001b[39m\u001b[39m\"\u001b[39m]\n\u001b[1;32m----> 8\u001b[0m prompt, response, car_speed \u001b[39m=\u001b[39m run_program(image)\n\u001b[0;32m      9\u001b[0m resp_char \u001b[39m=\u001b[39m response\u001b[39m.\u001b[39mstrip(\u001b[39m'\u001b[39m\u001b[39m \u001b[39m\u001b[39m\\n\u001b[39;00m\u001b[39m\\t\u001b[39;00m\u001b[39m'\u001b[39m)[\u001b[39m0\u001b[39m]\n\u001b[0;32m     11\u001b[0m \u001b[39mif\u001b[39;00m resp_char \u001b[39m==\u001b[39m \u001b[39m'\u001b[39m\u001b[39mA\u001b[39m\u001b[39m'\u001b[39m:\n",
      "File \u001b[1;32mc:\\Users\\Martijn\\Desktop\\coding-projects\\BEP\\GPT-DT\\main.py:152\u001b[0m, in \u001b[0;36mrun_program\u001b[1;34m(image)\u001b[0m\n\u001b[0;32m    146\u001b[0m         Traffic_light(row, df)\n\u001b[0;32m    148\u001b[0m     \u001b[39melif\u001b[39;00m (\n\u001b[0;32m    149\u001b[0m         \u001b[39mstr\u001b[39m(df\u001b[39m.\u001b[39miloc[row][\u001b[39m\"\u001b[39m\u001b[39mstate\u001b[39m\u001b[39m\"\u001b[39m]) \u001b[39m==\u001b[39m \u001b[39m\"\u001b[39m\u001b[39mback\u001b[39m\u001b[39m\"\u001b[39m\n\u001b[0;32m    150\u001b[0m         \u001b[39mand\u001b[39;00m \u001b[39mstr\u001b[39m(df\u001b[39m.\u001b[39miloc[row][\u001b[39m\"\u001b[39m\u001b[39mclass_naam\u001b[39m\u001b[39m\"\u001b[39m]) \u001b[39m==\u001b[39m \u001b[39m\"\u001b[39m\u001b[39mcar\u001b[39m\u001b[39m\"\u001b[39m\n\u001b[0;32m    151\u001b[0m     ):\n\u001b[1;32m--> 152\u001b[0m         Braking(row, df)\n\u001b[0;32m    154\u001b[0m     \u001b[39m# change extention from jpg to png for depth estimation\u001b[39;00m\n\u001b[0;32m    155\u001b[0m filename, extension \u001b[39m=\u001b[39m os\u001b[39m.\u001b[39mpath\u001b[39m.\u001b[39msplitext(image)\n",
      "File \u001b[1;32mc:\\Users\\Martijn\\Desktop\\coding-projects\\BEP\\GPT-DT\\state_detection.py:209\u001b[0m, in \u001b[0;36mBraking\u001b[1;34m(row, df)\u001b[0m\n\u001b[0;32m    207\u001b[0m \u001b[39mdef\u001b[39;00m \u001b[39mBraking\u001b[39m(row, df):\n\u001b[0;32m    208\u001b[0m     brake_crop \u001b[39m=\u001b[39m df\u001b[39m.\u001b[39miloc[row][\u001b[39m\"\u001b[39m\u001b[39mfoto_naam\u001b[39m\u001b[39m\"\u001b[39m]\n\u001b[1;32m--> 209\u001b[0m     model \u001b[39m=\u001b[39m keras\u001b[39m.\u001b[39;49mmodels\u001b[39m.\u001b[39;49mload_model(\u001b[39m\"\u001b[39;49m\u001b[39mmodel_remv1.keras\u001b[39;49m\u001b[39m\"\u001b[39;49m)\n\u001b[0;32m    211\u001b[0m     data \u001b[39m=\u001b[39m []\n\u001b[0;32m    213\u001b[0m     image \u001b[39m=\u001b[39m cv2\u001b[39m.\u001b[39mimread(brake_crop)\n",
      "File \u001b[1;32mc:\\Users\\Martijn\\miniconda3\\envs\\BEP\\lib\\site-packages\\keras\\saving\\saving_api.py:212\u001b[0m, in \u001b[0;36mload_model\u001b[1;34m(filepath, custom_objects, compile, safe_mode, **kwargs)\u001b[0m\n\u001b[0;32m    204\u001b[0m     \u001b[39mreturn\u001b[39;00m saving_lib\u001b[39m.\u001b[39mload_model(\n\u001b[0;32m    205\u001b[0m         filepath,\n\u001b[0;32m    206\u001b[0m         custom_objects\u001b[39m=\u001b[39mcustom_objects,\n\u001b[0;32m    207\u001b[0m         \u001b[39mcompile\u001b[39m\u001b[39m=\u001b[39m\u001b[39mcompile\u001b[39m,\n\u001b[0;32m    208\u001b[0m         safe_mode\u001b[39m=\u001b[39msafe_mode,\n\u001b[0;32m    209\u001b[0m     )\n\u001b[0;32m    211\u001b[0m \u001b[39m# Legacy case.\u001b[39;00m\n\u001b[1;32m--> 212\u001b[0m \u001b[39mreturn\u001b[39;00m legacy_sm_saving_lib\u001b[39m.\u001b[39mload_model(\n\u001b[0;32m    213\u001b[0m     filepath, custom_objects\u001b[39m=\u001b[39mcustom_objects, \u001b[39mcompile\u001b[39m\u001b[39m=\u001b[39m\u001b[39mcompile\u001b[39m, \u001b[39m*\u001b[39m\u001b[39m*\u001b[39mkwargs\n\u001b[0;32m    214\u001b[0m )\n",
      "File \u001b[1;32mc:\\Users\\Martijn\\miniconda3\\envs\\BEP\\lib\\site-packages\\keras\\utils\\traceback_utils.py:70\u001b[0m, in \u001b[0;36mfilter_traceback.<locals>.error_handler\u001b[1;34m(*args, **kwargs)\u001b[0m\n\u001b[0;32m     67\u001b[0m     filtered_tb \u001b[39m=\u001b[39m _process_traceback_frames(e\u001b[39m.\u001b[39m__traceback__)\n\u001b[0;32m     68\u001b[0m     \u001b[39m# To get the full stack trace, call:\u001b[39;00m\n\u001b[0;32m     69\u001b[0m     \u001b[39m# `tf.debugging.disable_traceback_filtering()`\u001b[39;00m\n\u001b[1;32m---> 70\u001b[0m     \u001b[39mraise\u001b[39;00m e\u001b[39m.\u001b[39mwith_traceback(filtered_tb) \u001b[39mfrom\u001b[39;00m \u001b[39mNone\u001b[39m\n\u001b[0;32m     71\u001b[0m \u001b[39mfinally\u001b[39;00m:\n\u001b[0;32m     72\u001b[0m     \u001b[39mdel\u001b[39;00m filtered_tb\n",
      "File \u001b[1;32mh5py\\_objects.pyx:54\u001b[0m, in \u001b[0;36mh5py._objects.with_phil.wrapper\u001b[1;34m()\u001b[0m\n",
      "File \u001b[1;32mh5py\\_objects.pyx:55\u001b[0m, in \u001b[0;36mh5py._objects.with_phil.wrapper\u001b[1;34m()\u001b[0m\n",
      "File \u001b[1;32mc:\\Users\\Martijn\\miniconda3\\envs\\BEP\\lib\\site-packages\\h5py\\_hl\\dataset.py:1073\u001b[0m, in \u001b[0;36mDataset.__array__\u001b[1;34m(self, dtype)\u001b[0m\n\u001b[0;32m   1070\u001b[0m \u001b[39mif\u001b[39;00m numpy\u001b[39m.\u001b[39mproduct(\u001b[39mself\u001b[39m\u001b[39m.\u001b[39mshape, dtype\u001b[39m=\u001b[39mnumpy\u001b[39m.\u001b[39mulonglong) \u001b[39m==\u001b[39m \u001b[39m0\u001b[39m:\n\u001b[0;32m   1071\u001b[0m     \u001b[39mreturn\u001b[39;00m arr\n\u001b[1;32m-> 1073\u001b[0m \u001b[39mself\u001b[39;49m\u001b[39m.\u001b[39;49mread_direct(arr)\n\u001b[0;32m   1074\u001b[0m \u001b[39mreturn\u001b[39;00m arr\n",
      "File \u001b[1;32mc:\\Users\\Martijn\\miniconda3\\envs\\BEP\\lib\\site-packages\\h5py\\_hl\\dataset.py:1034\u001b[0m, in \u001b[0;36mDataset.read_direct\u001b[1;34m(self, dest, source_sel, dest_sel)\u001b[0m\n\u001b[0;32m   1031\u001b[0m     dest_sel \u001b[39m=\u001b[39m sel\u001b[39m.\u001b[39mselect(dest\u001b[39m.\u001b[39mshape, dest_sel)\n\u001b[0;32m   1033\u001b[0m \u001b[39mfor\u001b[39;00m mspace \u001b[39min\u001b[39;00m dest_sel\u001b[39m.\u001b[39mbroadcast(source_sel\u001b[39m.\u001b[39marray_shape):\n\u001b[1;32m-> 1034\u001b[0m     \u001b[39mself\u001b[39m\u001b[39m.\u001b[39mid\u001b[39m.\u001b[39mread(mspace, fspace, dest, dxpl\u001b[39m=\u001b[39m\u001b[39mself\u001b[39m\u001b[39m.\u001b[39m_dxpl)\n",
      "File \u001b[1;32mh5py\\_objects.pyx:54\u001b[0m, in \u001b[0;36mh5py._objects.with_phil.wrapper\u001b[1;34m()\u001b[0m\n",
      "File \u001b[1;32mh5py\\_objects.pyx:55\u001b[0m, in \u001b[0;36mh5py._objects.with_phil.wrapper\u001b[1;34m()\u001b[0m\n",
      "File \u001b[1;32mh5py\\h5d.pyx:240\u001b[0m, in \u001b[0;36mh5py.h5d.DatasetID.read\u001b[1;34m()\u001b[0m\n",
      "File \u001b[1;32mh5py\\_proxy.pyx:112\u001b[0m, in \u001b[0;36mh5py._proxy.dset_rw\u001b[1;34m()\u001b[0m\n",
      "File \u001b[1;32mh5py\\h5fd.pyx:165\u001b[0m, in \u001b[0;36mh5py.h5fd.H5FD_fileobj_read\u001b[1;34m()\u001b[0m\n",
      "\u001b[1;31mMemoryError\u001b[0m: bad allocation"
     ]
    }
   ],
   "source": [
    "# len(truth.index)\n",
    "\n",
    "for row in range(len(truth.index)):\n",
    "    tru_row = truth.loc[row]\n",
    "    res_row = results.loc[row]\n",
    "\n",
    "    image = tru_row[\"Filename\"]\n",
    "    prompt, response, car_speed = run_program(image)\n",
    "    resp_char = response.strip(' \\n\\t')[0]\n",
    "\n",
    "    if resp_char == 'A':\n",
    "        resp_word = \"Brake\"\n",
    "    elif resp_char == 'B':\n",
    "        resp_word = \"Release Accelerator\"\n",
    "    elif resp_char == 'C':\n",
    "        resp_word = \"Nothing\"\n",
    "    else:\n",
    "        resp_word = \"unknown\"\n",
    "\n",
    "    res_row[\"Answer(letter)\"] = resp_char\n",
    "    res_row[\"Speed\"] = car_speed\n",
    "    res_row[\"Answer(word)\"] = resp_word\n",
    "\n",
    "\n"
   ]
  },
  {
   "cell_type": "code",
   "execution_count": 25,
   "metadata": {},
   "outputs": [],
   "source": [
    "temp_result_copy = results.head(37).copy"
   ]
  },
  {
   "cell_type": "code",
   "execution_count": 29,
   "metadata": {},
   "outputs": [
    {
     "data": {
      "text/html": [
       "<div>\n",
       "<style scoped>\n",
       "    .dataframe tbody tr th:only-of-type {\n",
       "        vertical-align: middle;\n",
       "    }\n",
       "\n",
       "    .dataframe tbody tr th {\n",
       "        vertical-align: top;\n",
       "    }\n",
       "\n",
       "    .dataframe thead th {\n",
       "        text-align: right;\n",
       "    }\n",
       "</style>\n",
       "<table border=\"1\" class=\"dataframe\">\n",
       "  <thead>\n",
       "    <tr style=\"text-align: right;\">\n",
       "      <th></th>\n",
       "      <th>Filename</th>\n",
       "      <th>Answer(letter)</th>\n",
       "      <th>Answer(word)</th>\n",
       "      <th>Speed</th>\n",
       "    </tr>\n",
       "  </thead>\n",
       "  <tbody>\n",
       "    <tr>\n",
       "      <th>0</th>\n",
       "      <td>vraag 1.jpg</td>\n",
       "      <td>A</td>\n",
       "      <td>Brake</td>\n",
       "      <td>40</td>\n",
       "    </tr>\n",
       "    <tr>\n",
       "      <th>1</th>\n",
       "      <td>vraag 2.jpg</td>\n",
       "      <td>B</td>\n",
       "      <td>Release Accelerator</td>\n",
       "      <td>80</td>\n",
       "    </tr>\n",
       "    <tr>\n",
       "      <th>2</th>\n",
       "      <td>vraag 3.jpg</td>\n",
       "      <td>B</td>\n",
       "      <td>Release Accelerator</td>\n",
       "      <td>25</td>\n",
       "    </tr>\n",
       "    <tr>\n",
       "      <th>3</th>\n",
       "      <td>vraag 4.jpg</td>\n",
       "      <td>B</td>\n",
       "      <td>Release Accelerator</td>\n",
       "      <td>40</td>\n",
       "    </tr>\n",
       "    <tr>\n",
       "      <th>4</th>\n",
       "      <td>vraag 5.jpg</td>\n",
       "      <td>B</td>\n",
       "      <td>Release Accelerator</td>\n",
       "      <td>30</td>\n",
       "    </tr>\n",
       "    <tr>\n",
       "      <th>5</th>\n",
       "      <td>vraag 6.jpg</td>\n",
       "      <td>A</td>\n",
       "      <td>Brake</td>\n",
       "      <td>40</td>\n",
       "    </tr>\n",
       "    <tr>\n",
       "      <th>6</th>\n",
       "      <td>vraag 7.jpg</td>\n",
       "      <td>A</td>\n",
       "      <td>Brake</td>\n",
       "      <td>100</td>\n",
       "    </tr>\n",
       "    <tr>\n",
       "      <th>7</th>\n",
       "      <td>vraag 8.jpg</td>\n",
       "      <td>B</td>\n",
       "      <td>Release Accelerator</td>\n",
       "      <td>30</td>\n",
       "    </tr>\n",
       "    <tr>\n",
       "      <th>8</th>\n",
       "      <td>vraag 9.jpg</td>\n",
       "      <td>B</td>\n",
       "      <td>Release Accelerator</td>\n",
       "      <td>100</td>\n",
       "    </tr>\n",
       "    <tr>\n",
       "      <th>9</th>\n",
       "      <td>vraag 10.jpg</td>\n",
       "      <td>A</td>\n",
       "      <td>Brake</td>\n",
       "      <td>30</td>\n",
       "    </tr>\n",
       "    <tr>\n",
       "      <th>10</th>\n",
       "      <td>vraag 11.jpg</td>\n",
       "      <td>A</td>\n",
       "      <td>Brake</td>\n",
       "      <td>60</td>\n",
       "    </tr>\n",
       "    <tr>\n",
       "      <th>11</th>\n",
       "      <td>vraag 12.jpg</td>\n",
       "      <td>A</td>\n",
       "      <td>Brake</td>\n",
       "      <td>80</td>\n",
       "    </tr>\n",
       "    <tr>\n",
       "      <th>12</th>\n",
       "      <td>vraag 13.jpg</td>\n",
       "      <td>B</td>\n",
       "      <td>Release Accelerator</td>\n",
       "      <td>unknown</td>\n",
       "    </tr>\n",
       "    <tr>\n",
       "      <th>13</th>\n",
       "      <td>vraag 14.jpg</td>\n",
       "      <td>B</td>\n",
       "      <td>Release Accelerator</td>\n",
       "      <td>30</td>\n",
       "    </tr>\n",
       "    <tr>\n",
       "      <th>14</th>\n",
       "      <td>vraag 15.jpg</td>\n",
       "      <td>B</td>\n",
       "      <td>Release Accelerator</td>\n",
       "      <td>40</td>\n",
       "    </tr>\n",
       "    <tr>\n",
       "      <th>15</th>\n",
       "      <td>vraag 16.jpg</td>\n",
       "      <td>A</td>\n",
       "      <td>Brake</td>\n",
       "      <td>60</td>\n",
       "    </tr>\n",
       "    <tr>\n",
       "      <th>16</th>\n",
       "      <td>vraag 17.jpg</td>\n",
       "      <td>B</td>\n",
       "      <td>Release Accelerator</td>\n",
       "      <td>90</td>\n",
       "    </tr>\n",
       "    <tr>\n",
       "      <th>17</th>\n",
       "      <td>vraag 18.jpg</td>\n",
       "      <td>B</td>\n",
       "      <td>Release Accelerator</td>\n",
       "      <td>40</td>\n",
       "    </tr>\n",
       "    <tr>\n",
       "      <th>18</th>\n",
       "      <td>vraag 19.jpg</td>\n",
       "      <td>B</td>\n",
       "      <td>Release Accelerator</td>\n",
       "      <td>10</td>\n",
       "    </tr>\n",
       "    <tr>\n",
       "      <th>19</th>\n",
       "      <td>vraag 20.jpg</td>\n",
       "      <td>A</td>\n",
       "      <td>Brake</td>\n",
       "      <td>35</td>\n",
       "    </tr>\n",
       "    <tr>\n",
       "      <th>20</th>\n",
       "      <td>vraag 21.jpg</td>\n",
       "      <td>B</td>\n",
       "      <td>Release Accelerator</td>\n",
       "      <td>70</td>\n",
       "    </tr>\n",
       "    <tr>\n",
       "      <th>21</th>\n",
       "      <td>vraag 22.jpg</td>\n",
       "      <td>B</td>\n",
       "      <td>Release Accelerator</td>\n",
       "      <td>40</td>\n",
       "    </tr>\n",
       "    <tr>\n",
       "      <th>22</th>\n",
       "      <td>vraag 23.jpg</td>\n",
       "      <td>B</td>\n",
       "      <td>Release Accelerator</td>\n",
       "      <td>80</td>\n",
       "    </tr>\n",
       "    <tr>\n",
       "      <th>23</th>\n",
       "      <td>vraag 24.jpg</td>\n",
       "      <td>A</td>\n",
       "      <td>Brake</td>\n",
       "      <td>30</td>\n",
       "    </tr>\n",
       "    <tr>\n",
       "      <th>24</th>\n",
       "      <td>vraag 25.jpg</td>\n",
       "      <td>B</td>\n",
       "      <td>Release Accelerator</td>\n",
       "      <td>unknown</td>\n",
       "    </tr>\n",
       "    <tr>\n",
       "      <th>25</th>\n",
       "      <td>vraag 26.jpg</td>\n",
       "      <td>A</td>\n",
       "      <td>Brake</td>\n",
       "      <td>unknown</td>\n",
       "    </tr>\n",
       "    <tr>\n",
       "      <th>26</th>\n",
       "      <td>vraag 27.jpg</td>\n",
       "      <td>B</td>\n",
       "      <td>Release Accelerator</td>\n",
       "      <td>50</td>\n",
       "    </tr>\n",
       "    <tr>\n",
       "      <th>27</th>\n",
       "      <td>vraag 28.jpg</td>\n",
       "      <td>A</td>\n",
       "      <td>Brake</td>\n",
       "      <td>30</td>\n",
       "    </tr>\n",
       "    <tr>\n",
       "      <th>28</th>\n",
       "      <td>vraag 29.jpg</td>\n",
       "      <td>B</td>\n",
       "      <td>Release Accelerator</td>\n",
       "      <td>30</td>\n",
       "    </tr>\n",
       "    <tr>\n",
       "      <th>29</th>\n",
       "      <td>vraag 30.jpg</td>\n",
       "      <td>B</td>\n",
       "      <td>Release Accelerator</td>\n",
       "      <td>45</td>\n",
       "    </tr>\n",
       "    <tr>\n",
       "      <th>30</th>\n",
       "      <td>vraag 31.jpg</td>\n",
       "      <td>A</td>\n",
       "      <td>Brake</td>\n",
       "      <td>35</td>\n",
       "    </tr>\n",
       "    <tr>\n",
       "      <th>31</th>\n",
       "      <td>vraag 32.jpg</td>\n",
       "      <td>A</td>\n",
       "      <td>Brake</td>\n",
       "      <td>35</td>\n",
       "    </tr>\n",
       "    <tr>\n",
       "      <th>32</th>\n",
       "      <td>vraag 33.jpg</td>\n",
       "      <td>A</td>\n",
       "      <td>Brake</td>\n",
       "      <td>40</td>\n",
       "    </tr>\n",
       "    <tr>\n",
       "      <th>33</th>\n",
       "      <td>vraag 34.jpg</td>\n",
       "      <td>A</td>\n",
       "      <td>Brake</td>\n",
       "      <td>60</td>\n",
       "    </tr>\n",
       "    <tr>\n",
       "      <th>34</th>\n",
       "      <td>vraag 35.jpg</td>\n",
       "      <td>A</td>\n",
       "      <td>Brake</td>\n",
       "      <td>35</td>\n",
       "    </tr>\n",
       "    <tr>\n",
       "      <th>35</th>\n",
       "      <td>vraag 36.jpg</td>\n",
       "      <td>B</td>\n",
       "      <td>Release Accelerator</td>\n",
       "      <td>15</td>\n",
       "    </tr>\n",
       "    <tr>\n",
       "      <th>36</th>\n",
       "      <td>vraag 37.jpg</td>\n",
       "      <td>A</td>\n",
       "      <td>Brake</td>\n",
       "      <td>30</td>\n",
       "    </tr>\n",
       "  </tbody>\n",
       "</table>\n",
       "</div>"
      ],
      "text/plain": [
       "        Filename Answer(letter)         Answer(word)    Speed\n",
       "0    vraag 1.jpg              A                Brake       40\n",
       "1    vraag 2.jpg              B  Release Accelerator       80\n",
       "2    vraag 3.jpg              B  Release Accelerator       25\n",
       "3    vraag 4.jpg              B  Release Accelerator       40\n",
       "4    vraag 5.jpg              B  Release Accelerator       30\n",
       "5    vraag 6.jpg              A                Brake       40\n",
       "6    vraag 7.jpg              A                Brake      100\n",
       "7    vraag 8.jpg              B  Release Accelerator       30\n",
       "8    vraag 9.jpg              B  Release Accelerator      100\n",
       "9   vraag 10.jpg              A                Brake       30\n",
       "10  vraag 11.jpg              A                Brake       60\n",
       "11  vraag 12.jpg              A                Brake       80\n",
       "12  vraag 13.jpg              B  Release Accelerator  unknown\n",
       "13  vraag 14.jpg              B  Release Accelerator       30\n",
       "14  vraag 15.jpg              B  Release Accelerator       40\n",
       "15  vraag 16.jpg              A                Brake       60\n",
       "16  vraag 17.jpg              B  Release Accelerator       90\n",
       "17  vraag 18.jpg              B  Release Accelerator       40\n",
       "18  vraag 19.jpg              B  Release Accelerator       10\n",
       "19  vraag 20.jpg              A                Brake       35\n",
       "20  vraag 21.jpg              B  Release Accelerator       70\n",
       "21  vraag 22.jpg              B  Release Accelerator       40\n",
       "22  vraag 23.jpg              B  Release Accelerator       80\n",
       "23  vraag 24.jpg              A                Brake       30\n",
       "24  vraag 25.jpg              B  Release Accelerator  unknown\n",
       "25  vraag 26.jpg              A                Brake  unknown\n",
       "26  vraag 27.jpg              B  Release Accelerator       50\n",
       "27  vraag 28.jpg              A                Brake       30\n",
       "28  vraag 29.jpg              B  Release Accelerator       30\n",
       "29  vraag 30.jpg              B  Release Accelerator       45\n",
       "30  vraag 31.jpg              A                Brake       35\n",
       "31  vraag 32.jpg              A                Brake       35\n",
       "32  vraag 33.jpg              A                Brake       40\n",
       "33  vraag 34.jpg              A                Brake       60\n",
       "34  vraag 35.jpg              A                Brake       35\n",
       "35  vraag 36.jpg              B  Release Accelerator       15\n",
       "36  vraag 37.jpg              A                Brake       30"
      ]
     },
     "execution_count": 29,
     "metadata": {},
     "output_type": "execute_result"
    }
   ],
   "source": [
    "results.head(37)"
   ]
  },
  {
   "cell_type": "code",
   "execution_count": 15,
   "metadata": {},
   "outputs": [],
   "source": [
    "from sklearn.metrics import confusion_matrix"
   ]
  },
  {
   "cell_type": "code",
   "execution_count": 22,
   "metadata": {},
   "outputs": [
    {
     "ename": "AttributeError",
     "evalue": "'function' object has no attribute 'head'",
     "output_type": "error",
     "traceback": [
      "\u001b[1;31m---------------------------------------------------------------------------\u001b[0m",
      "\u001b[1;31mAttributeError\u001b[0m                            Traceback (most recent call last)",
      "Cell \u001b[1;32mIn[22], line 1\u001b[0m\n\u001b[1;32m----> 1\u001b[0m temp_truth_copy\u001b[39m.\u001b[39;49mhead()\n",
      "\u001b[1;31mAttributeError\u001b[0m: 'function' object has no attribute 'head'"
     ]
    }
   ],
   "source": [
    "results.head(37)[[\"\"]]"
   ]
  }
 ],
 "metadata": {
  "kernelspec": {
   "display_name": "BEP",
   "language": "python",
   "name": "python3"
  },
  "language_info": {
   "codemirror_mode": {
    "name": "ipython",
    "version": 3
   },
   "file_extension": ".py",
   "mimetype": "text/x-python",
   "name": "python",
   "nbconvert_exporter": "python",
   "pygments_lexer": "ipython3",
   "version": "3.9.16"
  },
  "orig_nbformat": 4
 },
 "nbformat": 4,
 "nbformat_minor": 2
}
