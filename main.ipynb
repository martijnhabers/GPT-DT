{
 "cells": [
  {
   "attachments": {},
   "cell_type": "markdown",
   "metadata": {},
   "source": [
    "### Notebook for running pipeline in Colab\n",
    "\n",
    "If you're running on colab: run these cells first!\n"
   ]
  },
  {
   "cell_type": "code",
   "execution_count": null,
   "metadata": {},
   "outputs": [],
   "source": [
    "from google.colab import drive\n",
    "drive.mount('/content/drive')"
   ]
  },
  {
   "cell_type": "code",
   "execution_count": null,
   "metadata": {},
   "outputs": [],
   "source": [
    "%cd /content/drive/MyDrive/BEP/git/GPT-DT\n",
    "!git status\n",
    "!git pull\n",
    "# Choose branch name here:\n",
    "!git checkout evaluation-loop"
   ]
  },
  {
   "cell_type": "code",
   "execution_count": null,
   "metadata": {},
   "outputs": [],
   "source": [
    "%pip install -r requirements-colab.txt"
   ]
  },
  {
   "cell_type": "code",
   "execution_count": null,
   "metadata": {},
   "outputs": [],
   "source": [
    "# CLICK RESTART RUNTIME AND THEN RUN THIS CELL\n",
    "%cd /content/drive/MyDrive/BEP/git/GPT-DT"
   ]
  },
  {
   "attachments": {},
   "cell_type": "markdown",
   "metadata": {},
   "source": [
    "### Main Code"
   ]
  },
  {
   "cell_type": "code",
   "execution_count": 1,
   "metadata": {},
   "outputs": [
    {
     "name": "stderr",
     "output_type": "stream",
     "text": [
      "CUDA not available - defaulting to CPU. Note: This module is much faster with a GPU.\n",
      "c:\\Users\\Martijn\\miniconda3\\envs\\BEP\\lib\\site-packages\\tqdm\\auto.py:21: TqdmWarning: IProgress not found. Please update jupyter and ipywidgets. See https://ipywidgets.readthedocs.io/en/stable/user_install.html\n",
      "  from .autonotebook import tqdm as notebook_tqdm\n",
      "YOLOv5  2023-5-10 Python-3.9.16 torch-2.0.0 CPU\n",
      "\n"
     ]
    },
    {
     "name": "stdout",
     "output_type": "stream",
     "text": [
      "'utf-8' codec can't decode byte 0xff in position 0: invalid start byte\n"
     ]
    },
    {
     "name": "stderr",
     "output_type": "stream",
     "text": [
      "Fusing layers... \n",
      "Model summary: 476 layers, 76226352 parameters, 0 gradients, 110.1 GFLOPs\n",
      "Adding AutoShape... \n",
      "Using cache found in C:\\Users\\Martijn/.cache\\torch\\hub\\isl-org_ZoeDepth_main\n"
     ]
    },
    {
     "name": "stdout",
     "output_type": "stream",
     "text": [
      "img_size [384, 512]\n"
     ]
    },
    {
     "name": "stderr",
     "output_type": "stream",
     "text": [
      "Using cache found in C:\\Users\\Martijn/.cache\\torch\\hub\\intel-isl_MiDaS_master\n"
     ]
    },
    {
     "name": "stdout",
     "output_type": "stream",
     "text": [
      "Params passed to Resize transform:\n",
      "\twidth:  512\n",
      "\theight:  384\n",
      "\tresize_target:  True\n",
      "\tkeep_aspect_ratio:  True\n",
      "\tensure_multiple_of:  32\n",
      "\tresize_method:  minimal\n",
      "Using pretrained resource url::https://github.com/isl-org/ZoeDepth/releases/download/v1.0/ZoeD_M12_NK.pt\n",
      "Loaded successfully\n"
     ]
    }
   ],
   "source": [
    "from sklearn.metrics import confusion_matrix\n",
    "from matplotlib import pyplot as plt\n",
    "%matplotlib inline\n",
    "import seaborn as sn\n",
    "from main import *"
   ]
  },
  {
   "cell_type": "code",
   "execution_count": null,
   "metadata": {},
   "outputs": [],
   "source": [
    "image = \"vraag 17.jpg\"\n",
    "prompt, response, car_speed = run_program(image)"
   ]
  },
  {
   "cell_type": "code",
   "execution_count": 3,
   "metadata": {},
   "outputs": [],
   "source": [
    "truth = pd.read_csv(\"ground-truth.csv\")\n",
    "results = truth.copy(deep = True)\n",
    "results[\"Answer(word)\"] = None\n",
    "results[\"Answer(letter)\"] = None\n",
    "results[\"Speed\"] = None"
   ]
  },
  {
   "cell_type": "code",
   "execution_count": 4,
   "metadata": {},
   "outputs": [
    {
     "data": {
      "text/html": [
       "<div>\n",
       "<style scoped>\n",
       "    .dataframe tbody tr th:only-of-type {\n",
       "        vertical-align: middle;\n",
       "    }\n",
       "\n",
       "    .dataframe tbody tr th {\n",
       "        vertical-align: top;\n",
       "    }\n",
       "\n",
       "    .dataframe thead th {\n",
       "        text-align: right;\n",
       "    }\n",
       "</style>\n",
       "<table border=\"1\" class=\"dataframe\">\n",
       "  <thead>\n",
       "    <tr style=\"text-align: right;\">\n",
       "      <th></th>\n",
       "      <th>Filename</th>\n",
       "      <th>Answer(letter)</th>\n",
       "      <th>Answer(word)</th>\n",
       "      <th>Speed</th>\n",
       "    </tr>\n",
       "  </thead>\n",
       "  <tbody>\n",
       "    <tr>\n",
       "      <th>0</th>\n",
       "      <td>vraag 1.jpg</td>\n",
       "      <td>A</td>\n",
       "      <td>Brake</td>\n",
       "      <td>40</td>\n",
       "    </tr>\n",
       "    <tr>\n",
       "      <th>1</th>\n",
       "      <td>vraag 2.jpg</td>\n",
       "      <td>A</td>\n",
       "      <td>Brake</td>\n",
       "      <td>80</td>\n",
       "    </tr>\n",
       "    <tr>\n",
       "      <th>2</th>\n",
       "      <td>vraag 3.jpg</td>\n",
       "      <td>B</td>\n",
       "      <td>Release Accelerator</td>\n",
       "      <td>25</td>\n",
       "    </tr>\n",
       "    <tr>\n",
       "      <th>3</th>\n",
       "      <td>vraag 4.jpg</td>\n",
       "      <td>A</td>\n",
       "      <td>Brake</td>\n",
       "      <td>40</td>\n",
       "    </tr>\n",
       "    <tr>\n",
       "      <th>4</th>\n",
       "      <td>vraag 5.jpg</td>\n",
       "      <td>C</td>\n",
       "      <td>Nothing</td>\n",
       "      <td>30</td>\n",
       "    </tr>\n",
       "  </tbody>\n",
       "</table>\n",
       "</div>"
      ],
      "text/plain": [
       "      Filename Answer(letter)         Answer(word)  Speed\n",
       "0  vraag 1.jpg              A                Brake     40\n",
       "1  vraag 2.jpg              A                Brake     80\n",
       "2  vraag 3.jpg              B  Release Accelerator     25\n",
       "3  vraag 4.jpg              A                Brake     40\n",
       "4  vraag 5.jpg              C              Nothing     30"
      ]
     },
     "execution_count": 4,
     "metadata": {},
     "output_type": "execute_result"
    }
   ],
   "source": [
    "truth.head()"
   ]
  },
  {
   "cell_type": "code",
   "execution_count": 5,
   "metadata": {},
   "outputs": [
    {
     "name": "stderr",
     "output_type": "stream",
     "text": [
      "\n",
      "image 1/1 C:\\Users\\Martijn\\Desktop\\coding-projects\\BEP\\GPT-DT\\images\\vraag 1.jpg: 384x640 1 outside-view, 1 rear-view, 1 speed, 138.1ms\n",
      "Speed: 3.0ms preprocess, 138.1ms inference, 13.4ms postprocess per image at shape (1, 3, 640, 640)\n",
      "Results saved to \u001b[1mtri-crop\\predict\u001b[0m\n"
     ]
    },
    {
     "name": "stdout",
     "output_type": "stream",
     "text": [
      "1/1 [==============================] - 0s 353ms/step\n",
      "braking\n",
      "1/1 [==============================] - 0s 132ms/step\n",
      "braking\n",
      "1/1 [==============================] - 0s 123ms/step\n",
      "not braking\n",
      "1/1 [==============================] - 0s 145ms/step\n",
      "not braking\n"
     ]
    },
    {
     "name": "stderr",
     "output_type": "stream",
     "text": [
      "\n",
      "image 1/1 C:\\Users\\Martijn\\Desktop\\coding-projects\\BEP\\GPT-DT\\images\\vraag 2.jpg: 384x640 1 outside-view, 1 rear-view, 1 speed, 102.9ms\n",
      "Speed: 1.0ms preprocess, 102.9ms inference, 2.0ms postprocess per image at shape (1, 3, 640, 640)\n",
      "Results saved to \u001b[1mtri-crop\\predict\u001b[0m\n"
     ]
    },
    {
     "name": "stdout",
     "output_type": "stream",
     "text": [
      "Choose to A) Brake B) Let go of the accelerator or C) Do Nothing based on the given context.\n",
      "\n",
      "        Context: \n",
      "        \"\"\"\n",
      "        Assume you are driving in The Netherlands. You are driving in a urban road at 40 km/h. The weather condition is sunny weather.\n",
      "        This is your front view; You see the following cars: A car approaching from 17.0 meters infront of you and to your left, A car 21.0 meters infront of you and to your left, A car approaching from 32.0 meters directly infront of you, A car approaching from 24.0 meters infront of you and to your left, A car approaching from 29.0 meters infront of you and to your left, A car approaching from 32.0 meters directly infront of you, A car approaching from 59.0 meters directly infront of you. You see the following traffic signs: There are no traffic signs in sight. You see the following traffic lights: There are no traffic lights in sight. You see the following pedestrians: A person 14.0 meters infront of you and to your left. You see the following bicyclist: A bicyclist 13.0 meters infront of you and to your right. Additionally, you see: A parked bicycle 14.0 meters infront of you and to your left .\n",
      "        This is your rear view: You see the following: There are no significant objects behind you.\n",
      "        \"\"\"\n",
      "        Give your answer in one letter, after which you should provide thorough reasoning.\n",
      "        \n",
      "        Letter:\n",
      " B\n",
      "Reasoning: Since there are no traffic signs or traffic lights in sight, and the cars and pedestrians are far enough away that they should not pose an immediate danger, the safest option is to let go of the accelerator and slow down gradually. This will allow you to maintain control of the vehicle and avoid any potential collisions.\n",
      "WARNING:tensorflow:5 out of the last 5 calls to <function Model.make_predict_function.<locals>.predict_function at 0x0000022FDFA82EE0> triggered tf.function retracing. Tracing is expensive and the excessive number of tracings could be due to (1) creating @tf.function repeatedly in a loop, (2) passing tensors with different shapes, (3) passing Python objects instead of tensors. For (1), please define your @tf.function outside of the loop. For (2), @tf.function has reduce_retracing=True option that can avoid unnecessary retracing. For (3), please refer to https://www.tensorflow.org/guide/function#controlling_retracing and https://www.tensorflow.org/api_docs/python/tf/function for  more details.\n",
      "1/1 [==============================] - 0s 309ms/step\n",
      "not braking\n",
      "WARNING:tensorflow:6 out of the last 6 calls to <function Model.make_predict_function.<locals>.predict_function at 0x0000022FE27F00D0> triggered tf.function retracing. Tracing is expensive and the excessive number of tracings could be due to (1) creating @tf.function repeatedly in a loop, (2) passing tensors with different shapes, (3) passing Python objects instead of tensors. For (1), please define your @tf.function outside of the loop. For (2), @tf.function has reduce_retracing=True option that can avoid unnecessary retracing. For (3), please refer to https://www.tensorflow.org/guide/function#controlling_retracing and https://www.tensorflow.org/api_docs/python/tf/function for  more details.\n",
      "1/1 [==============================] - 0s 233ms/step\n",
      "not braking\n"
     ]
    },
    {
     "name": "stderr",
     "output_type": "stream",
     "text": [
      "\n"
     ]
    },
    {
     "name": "stdout",
     "output_type": "stream",
     "text": [
      "Choose to A) Brake B) Let go of the accelerator or C) Do Nothing based on the given context.\n",
      "\n",
      "        Context: \n",
      "        \"\"\"\n",
      "        Assume you are driving in The Netherlands. You are driving in a highway at 80 km/h. The weather condition is sunny weather.\n",
      "        This is your front view; You see the following cars: A car 17.0 meters infront of you and to your left, A car 18.0 meters infront of you and to your left. You see the following traffic signs: There are no traffic signs in sight. You see the following traffic lights: There are no traffic lights in sight. You see the following pedestrians: There are no pedestrians in sight. You see the following bicyclist: There are no bicycles in sight. Additionally, you see: A truck 33.0 meters infront of you and to your left , A truck 14.0 meters infront of you and to your right .\n",
      "        This is your rear view: You see the following: A car closely behind you.\n",
      "        \"\"\"\n",
      "        Give your answer in one letter, after which you should provide thorough reasoning.\n",
      "        \n",
      "        Letter:\n",
      " B\n",
      "Reasoning: Since there are no traffic signs, traffic lights, pedestrians, or bicycles in sight, it is safe to assume that the road is clear and that it is safe to continue driving. Therefore, the best option is to let go of the accelerator and maintain the current speed.\n"
     ]
    },
    {
     "name": "stderr",
     "output_type": "stream",
     "text": [
      "image 1/1 C:\\Users\\Martijn\\Desktop\\coding-projects\\BEP\\GPT-DT\\images\\vraag 3.jpg: 384x640 1 outside-view, 1 rear-view, 1 speed, 203.8ms\n",
      "Speed: 29.3ms preprocess, 203.8ms inference, 21.7ms postprocess per image at shape (1, 3, 640, 640)\n",
      "Results saved to \u001b[1mtri-crop\\predict\u001b[0m\n",
      "\n"
     ]
    },
    {
     "name": "stdout",
     "output_type": "stream",
     "text": [
      "Choose to A) Brake B) Let go of the accelerator or C) Do Nothing based on the given context.\n",
      "\n",
      "        Context: \n",
      "        \"\"\"\n",
      "        Assume you are driving in The Netherlands. You are driving in a provincial road at 25 km/h. The weather condition is snowy weather.\n",
      "        This is your front view; You see the following cars: There are no cars in sight. You see the following traffic signs: There are no traffic signs in sight. You see the following traffic lights: There are no traffic lights in sight. You see the following pedestrians: There are no pedestrians in sight. You see the following bicyclist: There are no bicycles in sight. Additionally, you see: A truck 17.0 meters directly infront of you .\n",
      "        This is your rear view: You see the following: There are no significant objects behind you.\n",
      "        \"\"\"\n",
      "        Give your answer in one letter, after which you should provide thorough reasoning.\n",
      "        \n",
      "        Letter:\n",
      " B\n",
      "Reasoning: Since there are no cars, traffic signs, traffic lights, pedestrians, or bicycles in sight, and there is a truck 17.0 meters directly in front of you, it is safest to let go of the accelerator and slow down to avoid a collision.\n"
     ]
    },
    {
     "name": "stderr",
     "output_type": "stream",
     "text": [
      "image 1/1 C:\\Users\\Martijn\\Desktop\\coding-projects\\BEP\\GPT-DT\\images\\vraag 4.jpg: 384x640 1 outside-view, 1 rear-view, 1 speed, 156.4ms\n",
      "Speed: 1.0ms preprocess, 156.4ms inference, 1.0ms postprocess per image at shape (1, 3, 640, 640)\n",
      "Results saved to \u001b[1mtri-crop\\predict\u001b[0m\n"
     ]
    },
    {
     "name": "stdout",
     "output_type": "stream",
     "text": [
      "1/1 [==============================] - 0s 181ms/step\n",
      "not braking\n",
      "1/1 [==============================] - 0s 175ms/step\n",
      "not braking\n",
      "1/1 [==============================] - 0s 169ms/step\n",
      "braking\n",
      "1/1 [==============================] - 0s 180ms/step\n",
      "not braking\n",
      "1/1 [==============================] - 0s 141ms/step\n",
      "not braking\n",
      "1/1 [==============================] - 0s 129ms/step\n",
      "not braking\n",
      "1/1 [==============================] - 0s 157ms/step\n",
      "not braking\n",
      "1/1 [==============================] - 0s 122ms/step\n",
      "not braking\n",
      "1/1 [==============================] - 0s 137ms/step\n",
      "not braking\n"
     ]
    },
    {
     "name": "stderr",
     "output_type": "stream",
     "text": [
      "\n",
      "image 1/1 C:\\Users\\Martijn\\Desktop\\coding-projects\\BEP\\GPT-DT\\images\\vraag 5.jpg: 384x640 1 outside-view, 1 rear-view, 1 speed, 118.6ms\n",
      "Speed: 1.0ms preprocess, 118.6ms inference, 1.0ms postprocess per image at shape (1, 3, 640, 640)\n",
      "Results saved to \u001b[1mtri-crop\\predict\u001b[0m\n"
     ]
    },
    {
     "name": "stdout",
     "output_type": "stream",
     "text": [
      "Choose to A) Brake B) Let go of the accelerator or C) Do Nothing based on the given context.\n",
      "\n",
      "        Context: \n",
      "        \"\"\"\n",
      "        Assume you are driving in The Netherlands. You are driving in a urban road at 40 km/h. The weather condition is rainy weather.\n",
      "        This is your front view; You see the following cars: A car approaching from 20.0 meters infront of you and to your left, A car 41.0 meters directly infront of you, A car 32.0 meters directly infront of you, A car 15.0 meters infront of you and to your right, A car 24.0 meters directly infront of you, A car 6.0 meters infront of you and to your right, A car 61.0 meters directly infront of you, A car 19.0 meters directly infront of you, A car 49.0 meters directly infront of you, A car approaching from 20.0 meters infront of you and to your left. You see the following traffic signs: There are no traffic signs in sight. You see the following traffic lights: There are no traffic lights in sight. You see the following pedestrians: There are no pedestrians in sight. You see the following bicyclist: There are no bicycles in sight. Additionally, you see: A truck 69.0 meters directly infront of you , A truck 22.0 meters infront of you and to your left , A bus 22.0 meters infront of you and to your left .\n",
      "        This is your rear view: You see the following: There are no significant objects behind you.\n",
      "        \"\"\"\n",
      "        Give your answer in one letter, after which you should provide thorough reasoning.\n",
      "        \n",
      "        Letter:\n",
      " B\n",
      "        Reasoning: Since there are no traffic signs, traffic lights, pedestrians, or bicycles in sight, it is safe to assume that the road is clear. However, there are several cars and large vehicles in front of you, so it is important to slow down in order to maintain a safe distance. Therefore, the best option is to let go of the accelerator in order to reduce speed.\n",
      "1/1 [==============================] - 0s 150ms/step\n",
      "not braking\n",
      "1/1 [==============================] - 0s 144ms/step\n",
      "not braking\n",
      "1/1 [==============================] - 0s 130ms/step\n",
      "not braking\n",
      "1/1 [==============================] - 0s 146ms/step\n",
      "not braking\n",
      "1/1 [==============================] - 0s 148ms/step\n",
      "not braking\n",
      "1/1 [==============================] - 0s 181ms/step\n",
      "not braking\n",
      "1/1 [==============================] - 0s 140ms/step\n",
      "Priority road\n"
     ]
    },
    {
     "name": "stderr",
     "output_type": "stream",
     "text": [
      "\n",
      "image 1/1 C:\\Users\\Martijn\\Desktop\\coding-projects\\BEP\\GPT-DT\\images\\vraag 6.jpg: 384x640 1 outside-view, 1 rear-view, 1 speed, 119.2ms\n",
      "Speed: 1.0ms preprocess, 119.2ms inference, 1.0ms postprocess per image at shape (1, 3, 640, 640)\n",
      "Results saved to \u001b[1mtri-crop\\predict\u001b[0m\n"
     ]
    },
    {
     "name": "stdout",
     "output_type": "stream",
     "text": [
      "Choose to A) Brake B) Let go of the accelerator or C) Do Nothing based on the given context.\n",
      "\n",
      "        Context: \n",
      "        \"\"\"\n",
      "        Assume you are driving in The Netherlands. You are driving in a urban road at 30 km/h. The weather condition is rainy weather.\n",
      "        This is your front view; You see the following cars: A car 32.0 meters infront of you and to your left, A car approaching from 34.0 meters infront of you and to your left, A car approaching from 27.0 meters infront of you and to your left, A car approaching from 31.0 meters infront of you and to your left, A car 56.0 meters infront of you and to your left, A car approaching from 41.0 meters infront of you and to your left, A car 58.0 meters infront of you and to your left, A car approaching from 38.0 meters infront of you and to your left. You see the following traffic signs: A \"Priority road\" traffic sign. You see the following traffic lights: There are no traffic lights in sight. You see the following pedestrians: There are no pedestrians in sight. You see the following bicyclist: A bicyclist 16.0 meters directly infront of you. Additionally, you see: A digital traffic sign 62.0 meters infront of you and to your left .\n",
      "        This is your rear view: You see the following: There are no significant objects behind you.\n",
      "        \"\"\"\n",
      "        Give your answer in one letter, after which you should provide thorough reasoning.\n",
      "        \n",
      "        Letter:\n",
      " B\n",
      "Reasoning: In this situation, it is important to be aware of the bicyclist 16.0 meters directly in front of you. Since the weather is rainy, it is important to slow down and let go of the accelerator to ensure that you have enough time to stop if necessary.\n",
      "1/1 [==============================] - 0s 173ms/step\n",
      "not braking\n"
     ]
    },
    {
     "name": "stderr",
     "output_type": "stream",
     "text": [
      "\n"
     ]
    },
    {
     "name": "stdout",
     "output_type": "stream",
     "text": [
      "Choose to A) Brake B) Let go of the accelerator or C) Do Nothing based on the given context.\n",
      "\n",
      "        Context: \n",
      "        \"\"\"\n",
      "        Assume you are driving in The Netherlands. You are driving in a residential road at 40 km/h. The weather condition is overcast weather.\n",
      "        This is your front view; You see the following cars: A car 16.0 meters infront of you and to your right. You see the following traffic signs: There are no traffic signs in sight. You see the following traffic lights: There are no traffic lights in sight. You see the following pedestrians: There are no pedestrians in sight. You see the following bicyclist: There are no bicycles in sight. Additionally, you see: A truck 40.0 meters directly infront of you .\n",
      "        This is your rear view: You see the following: There are no significant objects behind you.\n",
      "        \"\"\"\n",
      "        Give your answer in one letter, after which you should provide thorough reasoning.\n",
      "        \n",
      "        Letter:\n",
      " A\n",
      "Reasoning: Since there are no traffic signs, traffic lights, pedestrians, or bicycles in sight, it is safe to assume that the speed limit is 40 km/h. Since the truck is 40.0 meters directly in front of you, it is important to brake in order to maintain a safe distance and avoid a collision.\n"
     ]
    },
    {
     "name": "stderr",
     "output_type": "stream",
     "text": [
      "image 1/1 C:\\Users\\Martijn\\Desktop\\coding-projects\\BEP\\GPT-DT\\images\\vraag 7.jpg: 384x640 1 outside-view, 1 speed, 183.6ms\n",
      "Speed: 2.0ms preprocess, 183.6ms inference, 1.0ms postprocess per image at shape (1, 3, 640, 640)\n",
      "Results saved to \u001b[1mtri-crop\\predict\u001b[0m\n"
     ]
    },
    {
     "name": "stdout",
     "output_type": "stream",
     "text": [
      "1/1 [==============================] - 0s 183ms/step\n",
      "not braking\n"
     ]
    },
    {
     "name": "stderr",
     "output_type": "stream",
     "text": [
      "\n",
      "image 1/1 C:\\Users\\Martijn\\Desktop\\coding-projects\\BEP\\GPT-DT\\images\\vraag 8.jpg: 384x640 1 outside-view, 1 rear-view, 1 speed, 148.8ms\n"
     ]
    },
    {
     "name": "stdout",
     "output_type": "stream",
     "text": [
      "Choose to A) Brake B) Let go of the accelerator or C) Do Nothing based on the given context.\n",
      "\n",
      "        Context: \n",
      "        \"\"\"\n",
      "        Assume you are driving in The Netherlands. You are driving in a highway at 100 km/h. The weather condition is rainy weather.\n",
      "        This is your front view; You see the following cars: A car 52.0 meters directly infront of you. You see the following traffic signs: There are no traffic signs in sight. You see the following traffic lights: There are no traffic lights in sight. You see the following pedestrians: There are no pedestrians in sight. You see the following bicyclist: There are no bicycles in sight. Additionally, you see: there are no more objects than the ones mentioned above.\n",
      "        This is your rear view: You see the following: There are no significant objects behind you.\n",
      "        \"\"\"\n",
      "        Give your answer in one letter, after which you should provide thorough reasoning.\n",
      "        \n",
      "        Letter:\n",
      " A\n",
      "Reasoning: Since there are no traffic signs, traffic lights, pedestrians, or bicycles in sight, it is safe to assume that the road is clear. However, since the weather is rainy, it is important to be extra cautious and reduce speed. Therefore, the best option is to brake in order to reduce speed and maintain a safe distance from the car in front of you.\n"
     ]
    },
    {
     "name": "stderr",
     "output_type": "stream",
     "text": [
      "Speed: 1.0ms preprocess, 148.8ms inference, 1.0ms postprocess per image at shape (1, 3, 640, 640)\n",
      "Results saved to \u001b[1mtri-crop\\predict\u001b[0m\n"
     ]
    },
    {
     "name": "stdout",
     "output_type": "stream",
     "text": [
      "1/1 [==============================] - 0s 253ms/step\n",
      "not braking\n"
     ]
    },
    {
     "name": "stderr",
     "output_type": "stream",
     "text": [
      "\n"
     ]
    },
    {
     "name": "stdout",
     "output_type": "stream",
     "text": [
      "Choose to A) Brake B) Let go of the accelerator or C) Do Nothing based on the given context.\n",
      "\n",
      "        Context: \n",
      "        \"\"\"\n",
      "        Assume you are driving in The Netherlands. You are driving in a urban road at 30 km/h. The weather condition is sunny weather.\n",
      "        This is your front view; You see the following cars: A car 28.0 meters infront of you and to your left, A car approaching from 23.0 meters infront of you and to your left, A car 27.0 meters infront of you and to your left, A car 30.0 meters infront of you and to your left, A car approaching from 41.0 meters infront of you and to your left, A car 24.0 meters infront of you and to your left, A car approaching from 30.0 meters infront of you and to your left, A car 29.0 meters directly infront of you. You see the following traffic signs: There are no traffic signs in sight. You see the following traffic lights: There are no traffic lights in sight. You see the following pedestrians: A person 24.0 meters directly infront of you, A person 16.0 meters infront of you and to your right. You see the following bicyclist: A bicyclist 18.0 meters infront of you and to your right. Additionally, you see: there are no more objects than the ones mentioned above.\n",
      "        This is your rear view: You see the following: There are no significant objects behind you.\n",
      "        \"\"\"\n",
      "        Give your answer in one letter, after which you should provide thorough reasoning.\n",
      "        \n",
      "        Letter:\n",
      " B\n",
      "Reasoning: Since there are no traffic signs or traffic lights in sight, and the speed limit is 30 km/h, it is safe to let go of the accelerator and maintain the speed. Additionally, there are no objects behind you, so it is safe to let go of the accelerator and maintain the speed.\n"
     ]
    },
    {
     "name": "stderr",
     "output_type": "stream",
     "text": [
      "image 1/1 C:\\Users\\Martijn\\Desktop\\coding-projects\\BEP\\GPT-DT\\images\\vraag 9.jpg: 384x640 1 outside-view, 1 rear-view, 1 speed, 159.6ms\n",
      "Speed: 5.0ms preprocess, 159.6ms inference, 4.0ms postprocess per image at shape (1, 3, 640, 640)\n",
      "Results saved to \u001b[1mtri-crop\\predict\u001b[0m\n"
     ]
    },
    {
     "name": "stdout",
     "output_type": "stream",
     "text": [
      "1/1 [==============================] - 0s 163ms/step\n",
      "not braking\n",
      "1/1 [==============================] - 0s 195ms/step\n",
      "not braking\n"
     ]
    },
    {
     "name": "stderr",
     "output_type": "stream",
     "text": [
      "\n",
      "image 1/1 C:\\Users\\Martijn\\Desktop\\coding-projects\\BEP\\GPT-DT\\images\\vraag 10.jpg: 384x640 1 outside-view, 1 rear-view, 1 speed, 117.0ms\n"
     ]
    },
    {
     "name": "stdout",
     "output_type": "stream",
     "text": [
      "Choose to A) Brake B) Let go of the accelerator or C) Do Nothing based on the given context.\n",
      "\n",
      "        Context: \n",
      "        \"\"\"\n",
      "        Assume you are driving in The Netherlands. You are driving in a highway at 100 km/h. The weather condition is rainy weather.\n",
      "        This is your front view; You see the following cars: A car 10.0 meters infront of you and to your left, A car 46.0 meters directly infront of you. You see the following traffic signs: There are no traffic signs in sight. You see the following traffic lights: There are no traffic lights in sight. You see the following pedestrians: There are no pedestrians in sight. You see the following bicyclist: There are no bicycles in sight. Additionally, you see: A truck 27.0 meters directly infront of you , A bus 18.0 meters infront of you and to your left , A truck 10.0 meters infront of you and to your left .\n",
      "        This is your rear view: You see the following: There are no significant objects behind you.\n",
      "        \"\"\"\n",
      "        Give your answer in one letter, after which you should provide thorough reasoning.\n",
      "        \n",
      "        Letter:\n",
      " B\n",
      "Reasoning: Since there are no traffic signs, traffic lights, pedestrians, or bicycles in sight, it is safe to assume that the road is clear. However, there are multiple vehicles in front of you, including a truck and a bus. In order to maintain a safe distance between you and the vehicles in front of you, it is best to let go of the accelerator and slow down.\n"
     ]
    },
    {
     "name": "stderr",
     "output_type": "stream",
     "text": [
      "Speed: 2.0ms preprocess, 117.0ms inference, 1.0ms postprocess per image at shape (1, 3, 640, 640)\n",
      "Results saved to \u001b[1mtri-crop\\predict\u001b[0m\n"
     ]
    },
    {
     "name": "stdout",
     "output_type": "stream",
     "text": [
      "Choose to A) Brake B) Let go of the accelerator or C) Do Nothing based on the given context.\n",
      "\n",
      "        Context: \n",
      "        \"\"\"\n",
      "        Assume you are driving in The Netherlands. You are driving in a residential road at 30 km/h. The weather condition is sunny weather.\n",
      "        This is your front view; You see the following cars: There are no cars in sight. You see the following traffic signs: There are no traffic signs in sight. You see the following traffic lights: There are no traffic lights in sight. You see the following pedestrians: A person 17.0 meters infront of you and to your left. You see the following bicyclist: There are no bicycles in sight. Additionally, you see: A motorcycle 17.0 meters infront of you and to your left .\n",
      "        This is your rear view: You see the following: There are no significant objects behind you.\n",
      "        \"\"\"\n",
      "        Give your answer in one letter, after which you should provide thorough reasoning.\n",
      "        \n",
      "        Letter:\n",
      " B\n",
      "Reasoning: Since there are no cars, traffic signs, traffic lights, or bicycles in sight, and the motorcycle is 17 meters in front of you, it is safe to let go of the accelerator and slow down.\n"
     ]
    }
   ],
   "source": [
    "# len(truth.index)\n",
    "\n",
    "for row in range(0,10):\n",
    "    tru_row = truth.loc[row]\n",
    "    res_row = results.loc[row]\n",
    "\n",
    "    image = tru_row[\"Filename\"]\n",
    "    prompt, response, car_speed = run_program(image)\n",
    "    resp_char = response.strip(' \\n\\t')[0]\n",
    "\n",
    "    if resp_char == 'A':\n",
    "        resp_word = \"Brake\"\n",
    "    elif resp_char == 'B':\n",
    "        resp_word = \"Release Accelerator\"\n",
    "    elif resp_char == 'C':\n",
    "        resp_word = \"Nothing\"\n",
    "    else:\n",
    "        resp_word = \"unknown\"\n",
    "\n",
    "    res_row[\"Answer(letter)\"] = resp_char\n",
    "    res_row[\"Speed\"] = car_speed\n",
    "    res_row[\"Answer(word)\"] = resp_word\n",
    "\n",
    "\n"
   ]
  },
  {
   "cell_type": "code",
   "execution_count": 4,
   "metadata": {},
   "outputs": [],
   "source": [
    "temp_result_copy = results.head(11).copy"
   ]
  },
  {
   "cell_type": "code",
   "execution_count": 8,
   "metadata": {},
   "outputs": [
    {
     "data": {
      "text/html": [
       "<div>\n",
       "<style scoped>\n",
       "    .dataframe tbody tr th:only-of-type {\n",
       "        vertical-align: middle;\n",
       "    }\n",
       "\n",
       "    .dataframe tbody tr th {\n",
       "        vertical-align: top;\n",
       "    }\n",
       "\n",
       "    .dataframe thead th {\n",
       "        text-align: right;\n",
       "    }\n",
       "</style>\n",
       "<table border=\"1\" class=\"dataframe\">\n",
       "  <thead>\n",
       "    <tr style=\"text-align: right;\">\n",
       "      <th></th>\n",
       "      <th>Filename</th>\n",
       "      <th>Answer(letter)</th>\n",
       "      <th>Answer(word)</th>\n",
       "      <th>Speed</th>\n",
       "    </tr>\n",
       "  </thead>\n",
       "  <tbody>\n",
       "    <tr>\n",
       "      <th>0</th>\n",
       "      <td>vraag 1.jpg</td>\n",
       "      <td>B</td>\n",
       "      <td>Release Accelerator</td>\n",
       "      <td>40</td>\n",
       "    </tr>\n",
       "    <tr>\n",
       "      <th>1</th>\n",
       "      <td>vraag 2.jpg</td>\n",
       "      <td>B</td>\n",
       "      <td>Release Accelerator</td>\n",
       "      <td>80</td>\n",
       "    </tr>\n",
       "    <tr>\n",
       "      <th>2</th>\n",
       "      <td>vraag 3.jpg</td>\n",
       "      <td>B</td>\n",
       "      <td>Release Accelerator</td>\n",
       "      <td>25</td>\n",
       "    </tr>\n",
       "    <tr>\n",
       "      <th>3</th>\n",
       "      <td>vraag 4.jpg</td>\n",
       "      <td>B</td>\n",
       "      <td>Release Accelerator</td>\n",
       "      <td>40</td>\n",
       "    </tr>\n",
       "    <tr>\n",
       "      <th>4</th>\n",
       "      <td>vraag 5.jpg</td>\n",
       "      <td>B</td>\n",
       "      <td>Release Accelerator</td>\n",
       "      <td>30</td>\n",
       "    </tr>\n",
       "    <tr>\n",
       "      <th>5</th>\n",
       "      <td>vraag 6.jpg</td>\n",
       "      <td>A</td>\n",
       "      <td>Brake</td>\n",
       "      <td>40</td>\n",
       "    </tr>\n",
       "    <tr>\n",
       "      <th>6</th>\n",
       "      <td>vraag 7.jpg</td>\n",
       "      <td>A</td>\n",
       "      <td>Brake</td>\n",
       "      <td>100</td>\n",
       "    </tr>\n",
       "    <tr>\n",
       "      <th>7</th>\n",
       "      <td>vraag 8.jpg</td>\n",
       "      <td>B</td>\n",
       "      <td>Release Accelerator</td>\n",
       "      <td>30</td>\n",
       "    </tr>\n",
       "    <tr>\n",
       "      <th>8</th>\n",
       "      <td>vraag 9.jpg</td>\n",
       "      <td>B</td>\n",
       "      <td>Release Accelerator</td>\n",
       "      <td>100</td>\n",
       "    </tr>\n",
       "    <tr>\n",
       "      <th>9</th>\n",
       "      <td>vraag 10.jpg</td>\n",
       "      <td>B</td>\n",
       "      <td>Release Accelerator</td>\n",
       "      <td>30</td>\n",
       "    </tr>\n",
       "  </tbody>\n",
       "</table>\n",
       "</div>"
      ],
      "text/plain": [
       "       Filename Answer(letter)         Answer(word) Speed\n",
       "0   vraag 1.jpg              B  Release Accelerator    40\n",
       "1   vraag 2.jpg              B  Release Accelerator    80\n",
       "2   vraag 3.jpg              B  Release Accelerator    25\n",
       "3   vraag 4.jpg              B  Release Accelerator    40\n",
       "4   vraag 5.jpg              B  Release Accelerator    30\n",
       "5   vraag 6.jpg              A                Brake    40\n",
       "6   vraag 7.jpg              A                Brake   100\n",
       "7   vraag 8.jpg              B  Release Accelerator    30\n",
       "8   vraag 9.jpg              B  Release Accelerator   100\n",
       "9  vraag 10.jpg              B  Release Accelerator    30"
      ]
     },
     "execution_count": 8,
     "metadata": {},
     "output_type": "execute_result"
    }
   ],
   "source": [
    "results.head(10)"
   ]
  },
  {
   "cell_type": "code",
   "execution_count": 12,
   "metadata": {},
   "outputs": [],
   "source": [
    "a = confusion_matrix(truth.head(10)[[\"Answer(letter)\"]],results.head(10)[[\"Answer(letter)\"]])\n",
    "sn.heatmap(a, annot=True, cmap=\"rocket\")\n",
    "plt.show()"
   ]
  },
  {
   "cell_type": "code",
   "execution_count": 13,
   "metadata": {},
   "outputs": [
    {
     "data": {
      "text/plain": [
       "array([[0, 4, 0],\n",
       "       [2, 2, 0],\n",
       "       [0, 2, 0]], dtype=int64)"
      ]
     },
     "execution_count": 13,
     "metadata": {},
     "output_type": "execute_result"
    }
   ],
   "source": [
    "a"
   ]
  }
 ],
 "metadata": {
  "kernelspec": {
   "display_name": "BEP",
   "language": "python",
   "name": "python3"
  },
  "language_info": {
   "codemirror_mode": {
    "name": "ipython",
    "version": 3
   },
   "file_extension": ".py",
   "mimetype": "text/x-python",
   "name": "python",
   "nbconvert_exporter": "python",
   "pygments_lexer": "ipython3",
   "version": "3.9.16"
  },
  "orig_nbformat": 4
 },
 "nbformat": 4,
 "nbformat_minor": 2
}
