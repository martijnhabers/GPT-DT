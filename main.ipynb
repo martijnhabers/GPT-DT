{
 "cells": [
  {
   "attachments": {},
   "cell_type": "markdown",
   "metadata": {},
   "source": [
    "### Notebook for running pipeline in Colab\n",
    "\n",
    "If you're running on colab: run these cells first!\n"
   ]
  },
  {
   "cell_type": "code",
   "execution_count": null,
   "metadata": {},
   "outputs": [],
   "source": [
    "from google.colab import drive\n",
    "drive.mount('/content/drive')"
   ]
  },
  {
   "cell_type": "code",
   "execution_count": null,
   "metadata": {},
   "outputs": [],
   "source": [
    "%cd /content/drive/MyDrive/BEP/git/GPT-DT\n",
    "!git status\n",
    "!git pull\n",
    "# Choose branch name here:\n",
    "!git checkout evaluation-loop"
   ]
  },
  {
   "cell_type": "code",
   "execution_count": null,
   "metadata": {},
   "outputs": [],
   "source": [
    "%pip install -r requirements-colab.txt"
   ]
  },
  {
   "cell_type": "code",
   "execution_count": null,
   "metadata": {},
   "outputs": [],
   "source": [
    "# CLICK RESTART RUNTIME AND THEN RUN THIS CELL\n",
    "%cd /content/drive/MyDrive/BEP/git/GPT-DT"
   ]
  },
  {
   "attachments": {},
   "cell_type": "markdown",
   "metadata": {},
   "source": [
    "### Main Code"
   ]
  },
  {
   "cell_type": "code",
   "execution_count": 1,
   "metadata": {},
   "outputs": [
    {
     "name": "stderr",
     "output_type": "stream",
     "text": [
      "CUDA not available - defaulting to CPU. Note: This module is much faster with a GPU.\n",
      "c:\\Users\\Martijn\\miniconda3\\envs\\BEP\\lib\\site-packages\\tqdm\\auto.py:21: TqdmWarning: IProgress not found. Please update jupyter and ipywidgets. See https://ipywidgets.readthedocs.io/en/stable/user_install.html\n",
      "  from .autonotebook import tqdm as notebook_tqdm\n",
      "YOLOv5  2023-5-25 Python-3.9.16 torch-2.0.0 CPU\n",
      "\n"
     ]
    },
    {
     "name": "stdout",
     "output_type": "stream",
     "text": [
      "'utf-8' codec can't decode byte 0xff in position 0: invalid start byte\n"
     ]
    },
    {
     "name": "stderr",
     "output_type": "stream",
     "text": [
      "Fusing layers... \n",
      "Model summary: 476 layers, 76226352 parameters, 0 gradients, 110.1 GFLOPs\n",
      "Adding AutoShape... \n",
      "Using cache found in C:\\Users\\Martijn/.cache\\torch\\hub\\isl-org_ZoeDepth_main\n"
     ]
    },
    {
     "name": "stdout",
     "output_type": "stream",
     "text": [
      "img_size [384, 512]\n"
     ]
    },
    {
     "name": "stderr",
     "output_type": "stream",
     "text": [
      "Using cache found in C:\\Users\\Martijn/.cache\\torch\\hub\\intel-isl_MiDaS_master\n"
     ]
    },
    {
     "name": "stdout",
     "output_type": "stream",
     "text": [
      "Params passed to Resize transform:\n",
      "\twidth:  512\n",
      "\theight:  384\n",
      "\tresize_target:  True\n",
      "\tkeep_aspect_ratio:  True\n",
      "\tensure_multiple_of:  32\n",
      "\tresize_method:  minimal\n",
      "Using pretrained resource url::https://github.com/isl-org/ZoeDepth/releases/download/v1.0/ZoeD_M12_NK.pt\n",
      "Loaded successfully\n"
     ]
    }
   ],
   "source": [
    "%matplotlib inline\n",
    "from main import *"
   ]
  },
  {
   "cell_type": "code",
   "execution_count": null,
   "metadata": {},
   "outputs": [],
   "source": [
    "image = \"vraag 42.jpg\"\n",
    "prompt, response, car_speed = run_program(image)"
   ]
  },
  {
   "cell_type": "code",
   "execution_count": null,
   "metadata": {},
   "outputs": [],
   "source": [
    "print(prompt)"
   ]
  },
  {
   "cell_type": "code",
   "execution_count": null,
   "metadata": {},
   "outputs": [],
   "source": [
    "print(response)"
   ]
  },
  {
   "cell_type": "code",
   "execution_count": 3,
   "metadata": {},
   "outputs": [],
   "source": [
    "truth = pd.read_csv(\"ground-truth.csv\")\n",
    "results = truth.copy(deep = True)\n",
    "results[\"Answer(word)\"] = None\n",
    "results[\"Answer(letter)\"] = None\n",
    "results[\"Speed\"] = None\n",
    "results.insert(3, \"Prompt\", \"\", True)"
   ]
  },
  {
   "cell_type": "code",
   "execution_count": 2,
   "metadata": {},
   "outputs": [],
   "source": [
    "from sklearn import metrics\n",
    "import pandas as pd\n",
    "from matplotlib import pyplot as plt\n",
    "import seaborn as sns\n",
    "import concurrent.futures\n",
    "%matplotlib inline"
   ]
  },
  {
   "cell_type": "code",
   "execution_count": 5,
   "metadata": {},
   "outputs": [
    {
     "data": {
      "text/html": [
       "<div>\n",
       "<style scoped>\n",
       "    .dataframe tbody tr th:only-of-type {\n",
       "        vertical-align: middle;\n",
       "    }\n",
       "\n",
       "    .dataframe tbody tr th {\n",
       "        vertical-align: top;\n",
       "    }\n",
       "\n",
       "    .dataframe thead th {\n",
       "        text-align: right;\n",
       "    }\n",
       "</style>\n",
       "<table border=\"1\" class=\"dataframe\">\n",
       "  <thead>\n",
       "    <tr style=\"text-align: right;\">\n",
       "      <th></th>\n",
       "      <th>Filename</th>\n",
       "      <th>Answer(letter)</th>\n",
       "      <th>Answer(word)</th>\n",
       "      <th>Prompt</th>\n",
       "      <th>Speed</th>\n",
       "    </tr>\n",
       "  </thead>\n",
       "  <tbody>\n",
       "    <tr>\n",
       "      <th>0</th>\n",
       "      <td>vraag 1.jpg</td>\n",
       "      <td>None</td>\n",
       "      <td>None</td>\n",
       "      <td></td>\n",
       "      <td>None</td>\n",
       "    </tr>\n",
       "    <tr>\n",
       "      <th>1</th>\n",
       "      <td>vraag 2.jpg</td>\n",
       "      <td>None</td>\n",
       "      <td>None</td>\n",
       "      <td></td>\n",
       "      <td>None</td>\n",
       "    </tr>\n",
       "    <tr>\n",
       "      <th>2</th>\n",
       "      <td>vraag 3.jpg</td>\n",
       "      <td>None</td>\n",
       "      <td>None</td>\n",
       "      <td></td>\n",
       "      <td>None</td>\n",
       "    </tr>\n",
       "    <tr>\n",
       "      <th>3</th>\n",
       "      <td>vraag 4.jpg</td>\n",
       "      <td>None</td>\n",
       "      <td>None</td>\n",
       "      <td></td>\n",
       "      <td>None</td>\n",
       "    </tr>\n",
       "    <tr>\n",
       "      <th>4</th>\n",
       "      <td>vraag 5.jpg</td>\n",
       "      <td>None</td>\n",
       "      <td>None</td>\n",
       "      <td></td>\n",
       "      <td>None</td>\n",
       "    </tr>\n",
       "  </tbody>\n",
       "</table>\n",
       "</div>"
      ],
      "text/plain": [
       "      Filename Answer(letter) Answer(word) Prompt Speed\n",
       "0  vraag 1.jpg           None         None         None\n",
       "1  vraag 2.jpg           None         None         None\n",
       "2  vraag 3.jpg           None         None         None\n",
       "3  vraag 4.jpg           None         None         None\n",
       "4  vraag 5.jpg           None         None         None"
      ]
     },
     "execution_count": 5,
     "metadata": {},
     "output_type": "execute_result"
    }
   ],
   "source": [
    "results.head()"
   ]
  },
  {
   "cell_type": "code",
   "execution_count": null,
   "metadata": {},
   "outputs": [],
   "source": [
    "%%capture\n",
    "# len(truth.index)\n",
    "\n",
    "for row in range(len(truth.index)):\n",
    "    tru_row = truth.loc[row]\n",
    "    res_row = results.loc[row]\n",
    "\n",
    "    image = tru_row[\"Filename\"]\n",
    "    prompt, response, car_speed = run_program(image)\n",
    "    resp_char = response.strip(' \\n\\t')[0]\n",
    "\n",
    "    if resp_char == 'A':\n",
    "        resp_word = \"Brake\"\n",
    "    elif resp_char == 'B':\n",
    "        resp_word = \"Release Accelerator\"\n",
    "    elif resp_char == 'C':\n",
    "        resp_word = \"Nothing\"\n",
    "    else:\n",
    "        resp_word = \"unknown\"\n",
    "\n",
    "    res_row[\"Answer(letter)\"] = resp_char\n",
    "    res_row[\"Speed\"] = car_speed\n",
    "    res_row[\"Answer(word)\"] = resp_word"
   ]
  },
  {
   "cell_type": "code",
   "execution_count": 4,
   "metadata": {},
   "outputs": [
    {
     "name": "stderr",
     "output_type": "stream",
     "text": [
      "\n",
      "image 1/1 C:\\Users\\Martijn\\Desktop\\coding-projects\\BEP\\GPT-DT\\images\\vraag 1.jpg: 384x640 1 outside-view, 1 rear-view, 1 speed, 131.5ms\n",
      "Speed: 1.0ms preprocess, 131.5ms inference, 3.0ms postprocess per image at shape (1, 3, 640, 640)\n",
      "Results saved to \u001b[1mtri-crop\\predict\u001b[0m\n"
     ]
    },
    {
     "name": "stdout",
     "output_type": "stream",
     "text": [
      "1/1 [==============================] - 0s 218ms/step\n",
      "braking\n",
      "1/1 [==============================] - 0s 48ms/step\n",
      "braking\n",
      "1/1 [==============================] - 0s 69ms/step\n",
      "not braking\n",
      "1/1 [==============================] - 0s 43ms/step\n",
      "not braking\n"
     ]
    },
    {
     "name": "stderr",
     "output_type": "stream",
     "text": [
      "\n",
      "image 1/1 C:\\Users\\Martijn\\Desktop\\coding-projects\\BEP\\GPT-DT\\images\\vraag 2.jpg: 384x640 1 outside-view, 1 rear-view, 1 speed, 148.5ms\n",
      "Speed: 1.0ms preprocess, 148.5ms inference, 1.0ms postprocess per image at shape (1, 3, 640, 640)\n",
      "Results saved to \u001b[1mtri-crop\\predict\u001b[0m\n"
     ]
    },
    {
     "name": "stdout",
     "output_type": "stream",
     "text": [
      "1/1 [==============================] - 0s 73ms/step\n",
      "not braking\n",
      "1/1 [==============================] - 0s 67ms/step\n",
      "not braking\n"
     ]
    },
    {
     "name": "stderr",
     "output_type": "stream",
     "text": [
      "\n",
      "image 1/1 C:\\Users\\Martijn\\Desktop\\coding-projects\\BEP\\GPT-DT\\images\\vraag 3.jpg: 384x640 1 outside-view, 1 rear-view, 1 speed, 119.6ms\n",
      "Speed: 1.0ms preprocess, 119.6ms inference, 1.0ms postprocess per image at shape (1, 3, 640, 640)\n",
      "Results saved to \u001b[1mtri-crop\\predict\u001b[0m\n",
      "\n",
      "image 1/1 C:\\Users\\Martijn\\Desktop\\coding-projects\\BEP\\GPT-DT\\images\\vraag 4.jpg: 384x640 1 outside-view, 1 rear-view, 1 speed, 119.2ms\n",
      "Speed: 0.0ms preprocess, 119.2ms inference, 1.0ms postprocess per image at shape (1, 3, 640, 640)\n",
      "Results saved to \u001b[1mtri-crop\\predict\u001b[0m\n"
     ]
    },
    {
     "name": "stdout",
     "output_type": "stream",
     "text": [
      "1/1 [==============================] - 0s 57ms/step\n",
      "not braking\n",
      "1/1 [==============================] - 0s 68ms/step\n",
      "not braking\n",
      "1/1 [==============================] - 0s 61ms/step\n",
      "braking\n",
      "1/1 [==============================] - 0s 48ms/step\n",
      "not braking\n",
      "1/1 [==============================] - 0s 53ms/step\n",
      "not braking\n",
      "1/1 [==============================] - 0s 52ms/step\n",
      "not braking\n",
      "1/1 [==============================] - 0s 53ms/step\n",
      "not braking\n",
      "1/1 [==============================] - 0s 50ms/step\n",
      "not braking\n",
      "1/1 [==============================] - 0s 67ms/step\n",
      "not braking\n"
     ]
    },
    {
     "name": "stderr",
     "output_type": "stream",
     "text": [
      "\n",
      "image 1/1 C:\\Users\\Martijn\\Desktop\\coding-projects\\BEP\\GPT-DT\\images\\vraag 5.jpg: 384x640 1 outside-view, 1 rear-view, 1 speed, 114.1ms\n",
      "Speed: 1.0ms preprocess, 114.1ms inference, 2.0ms postprocess per image at shape (1, 3, 640, 640)\n",
      "Results saved to \u001b[1mtri-crop\\predict\u001b[0m\n"
     ]
    },
    {
     "name": "stdout",
     "output_type": "stream",
     "text": [
      "1/1 [==============================] - 0s 51ms/step\n",
      "not braking\n",
      "1/1 [==============================] - 0s 48ms/step\n",
      "not braking\n",
      "1/1 [==============================] - 0s 46ms/step\n",
      "not braking\n",
      "1/1 [==============================] - 0s 51ms/step\n",
      "not braking\n",
      "1/1 [==============================] - 0s 52ms/step\n",
      "not braking\n",
      "1/1 [==============================] - 0s 48ms/step\n",
      "not braking\n",
      "1/1 [==============================] - 0s 122ms/step\n",
      "Priority road\n"
     ]
    },
    {
     "name": "stderr",
     "output_type": "stream",
     "text": [
      "\n",
      "image 1/1 C:\\Users\\Martijn\\Desktop\\coding-projects\\BEP\\GPT-DT\\images\\vraag 6.jpg: 384x640 1 outside-view, 1 rear-view, 1 speed, 107.5ms\n",
      "Speed: 1.0ms preprocess, 107.5ms inference, 1.0ms postprocess per image at shape (1, 3, 640, 640)\n",
      "Results saved to \u001b[1mtri-crop\\predict\u001b[0m\n"
     ]
    },
    {
     "name": "stdout",
     "output_type": "stream",
     "text": [
      "1/1 [==============================] - 0s 57ms/step\n",
      "not braking\n"
     ]
    },
    {
     "name": "stderr",
     "output_type": "stream",
     "text": [
      "\n",
      "image 1/1 C:\\Users\\Martijn\\Desktop\\coding-projects\\BEP\\GPT-DT\\images\\vraag 7.jpg: 384x640 1 outside-view, 1 speed, 105.6ms\n",
      "Speed: 1.0ms preprocess, 105.6ms inference, 2.0ms postprocess per image at shape (1, 3, 640, 640)\n",
      "Results saved to \u001b[1mtri-crop\\predict\u001b[0m\n"
     ]
    },
    {
     "name": "stdout",
     "output_type": "stream",
     "text": [
      "1/1 [==============================] - 0s 60ms/step\n",
      "not braking\n"
     ]
    },
    {
     "name": "stderr",
     "output_type": "stream",
     "text": [
      "\n",
      "image 1/1 C:\\Users\\Martijn\\Desktop\\coding-projects\\BEP\\GPT-DT\\images\\vraag 8.jpg: 384x640 1 outside-view, 1 rear-view, 1 speed, 123.2ms\n",
      "Speed: 1.0ms preprocess, 123.2ms inference, 1.0ms postprocess per image at shape (1, 3, 640, 640)\n",
      "Results saved to \u001b[1mtri-crop\\predict\u001b[0m\n"
     ]
    },
    {
     "name": "stdout",
     "output_type": "stream",
     "text": [
      "1/1 [==============================] - 0s 49ms/step\n",
      "not braking\n"
     ]
    },
    {
     "name": "stderr",
     "output_type": "stream",
     "text": [
      "\n",
      "image 1/1 C:\\Users\\Martijn\\Desktop\\coding-projects\\BEP\\GPT-DT\\images\\vraag 9.jpg: 384x640 1 outside-view, 1 rear-view, 1 speed, 107.6ms\n",
      "Speed: 1.0ms preprocess, 107.6ms inference, 1.0ms postprocess per image at shape (1, 3, 640, 640)\n",
      "Results saved to \u001b[1mtri-crop\\predict\u001b[0m\n"
     ]
    },
    {
     "name": "stdout",
     "output_type": "stream",
     "text": [
      "1/1 [==============================] - 0s 70ms/step\n",
      "not braking\n",
      "1/1 [==============================] - 0s 56ms/step\n",
      "not braking\n"
     ]
    },
    {
     "name": "stderr",
     "output_type": "stream",
     "text": [
      "\n",
      "image 1/1 C:\\Users\\Martijn\\Desktop\\coding-projects\\BEP\\GPT-DT\\images\\vraag 10.jpg: 384x640 1 outside-view, 1 rear-view, 1 speed, 113.2ms\n",
      "Speed: 1.0ms preprocess, 113.2ms inference, 1.0ms postprocess per image at shape (1, 3, 640, 640)\n",
      "Results saved to \u001b[1mtri-crop\\predict\u001b[0m\n",
      "\n",
      "image 1/1 C:\\Users\\Martijn\\Desktop\\coding-projects\\BEP\\GPT-DT\\images\\vraag 11.jpg: 384x640 1 outside-view, 1 rear-view, 1 speed, 114.5ms\n",
      "Speed: 0.0ms preprocess, 114.5ms inference, 1.0ms postprocess per image at shape (1, 3, 640, 640)\n",
      "Results saved to \u001b[1mtri-crop\\predict\u001b[0m\n",
      "\n",
      "image 1/1 C:\\Users\\Martijn\\Desktop\\coding-projects\\BEP\\GPT-DT\\images\\vraag 12.jpg: 384x640 1 outside-view, 1 rear-view, 1 speed, 125.6ms\n",
      "Speed: 2.0ms preprocess, 125.6ms inference, 1.0ms postprocess per image at shape (1, 3, 640, 640)\n",
      "Results saved to \u001b[1mtri-crop\\predict\u001b[0m\n"
     ]
    },
    {
     "name": "stdout",
     "output_type": "stream",
     "text": [
      "1/1 [==============================] - 0s 53ms/step\n",
      "not braking\n",
      "1/1 [==============================] - 0s 50ms/step\n",
      "not braking\n"
     ]
    },
    {
     "name": "stderr",
     "output_type": "stream",
     "text": [
      "\n",
      "image 1/1 C:\\Users\\Martijn\\Desktop\\coding-projects\\BEP\\GPT-DT\\images\\vraag 13.jpg: 384x640 1 outside-view, 1 rear-view, 1 speed, 117.5ms\n",
      "Speed: 1.0ms preprocess, 117.5ms inference, 2.0ms postprocess per image at shape (1, 3, 640, 640)\n",
      "Results saved to \u001b[1mtri-crop\\predict\u001b[0m\n"
     ]
    },
    {
     "name": "stdout",
     "output_type": "stream",
     "text": [
      "1/1 [==============================] - 0s 67ms/step\n",
      "not braking\n"
     ]
    },
    {
     "name": "stderr",
     "output_type": "stream",
     "text": [
      "\n",
      "image 1/1 C:\\Users\\Martijn\\Desktop\\coding-projects\\BEP\\GPT-DT\\images\\vraag 14.jpg: 384x640 1 outside-view, 1 rear-view, 1 speed, 151.5ms\n",
      "Speed: 1.0ms preprocess, 151.5ms inference, 1.0ms postprocess per image at shape (1, 3, 640, 640)\n",
      "Results saved to \u001b[1mtri-crop\\predict\u001b[0m\n",
      "\n",
      "image 1/1 C:\\Users\\Martijn\\Desktop\\coding-projects\\BEP\\GPT-DT\\images\\vraag 15.jpg: 384x640 1 outside-view, 1 rear-view, 1 speed, 148.3ms\n",
      "Speed: 1.0ms preprocess, 148.3ms inference, 2.0ms postprocess per image at shape (1, 3, 640, 640)\n",
      "Results saved to \u001b[1mtri-crop\\predict\u001b[0m\n"
     ]
    },
    {
     "ename": "Exception",
     "evalue": "Input image path images/vraag 16.jpg is not a file!",
     "output_type": "error",
     "traceback": [
      "\u001b[1;31m---------------------------------------------------------------------------\u001b[0m",
      "\u001b[1;31mException\u001b[0m                                 Traceback (most recent call last)",
      "Cell \u001b[1;32mIn[4], line 24\u001b[0m\n\u001b[0;32m     21\u001b[0m res_row \u001b[39m=\u001b[39m results\u001b[39m.\u001b[39mloc[row]\n\u001b[0;32m     23\u001b[0m image \u001b[39m=\u001b[39m tru_row[\u001b[39m\"\u001b[39m\u001b[39mFilename\u001b[39m\u001b[39m\"\u001b[39m]\n\u001b[1;32m---> 24\u001b[0m prompt, car_speed \u001b[39m=\u001b[39m run_program(image)\n\u001b[0;32m     25\u001b[0m res_row[\u001b[39m\"\u001b[39m\u001b[39mSpeed\u001b[39m\u001b[39m\"\u001b[39m] \u001b[39m=\u001b[39m car_speed\n\u001b[0;32m     26\u001b[0m res_row[\u001b[39m\"\u001b[39m\u001b[39mPrompt\u001b[39m\u001b[39m\"\u001b[39m] \u001b[39m=\u001b[39m prompt\n",
      "File \u001b[1;32mc:\\Users\\Martijn\\Desktop\\coding-projects\\BEP\\GPT-DT\\main.py:98\u001b[0m, in \u001b[0;36mrun_program\u001b[1;34m(image)\u001b[0m\n\u001b[0;32m     92\u001b[0m classes_owl \u001b[39m=\u001b[39m [x[\u001b[39m0\u001b[39m][\u001b[39m13\u001b[39m:] \u001b[39mfor\u001b[39;00m x \u001b[39min\u001b[39;00m text_weighted]\n\u001b[0;32m     94\u001b[0m \u001b[39m# splits image into 3 parts, outside-view, rear-view, and speed\u001b[39;00m\n\u001b[0;32m     95\u001b[0m \u001b[39m# saves to tri-crop/predict/crops/outside-view\u001b[39;00m\n\u001b[0;32m     96\u001b[0m \u001b[39m# saves to tri-crop/predict/crops/rear-view\u001b[39;00m\n\u001b[0;32m     97\u001b[0m \u001b[39m# saves to tri-crop/predict/crops/speed\u001b[39;00m\n\u001b[1;32m---> 98\u001b[0m tri_crop_results \u001b[39m=\u001b[39m yolo_tri_crop(\u001b[39m\"\u001b[39;49m\u001b[39mimages/\u001b[39;49m\u001b[39m\"\u001b[39;49m \u001b[39m+\u001b[39;49m image)\n\u001b[0;32m    100\u001b[0m \u001b[39m# detects number with OCR in file, specified by its path\u001b[39;00m\n\u001b[0;32m    101\u001b[0m car_speed \u001b[39m=\u001b[39m easyocr_detect(\n\u001b[0;32m    102\u001b[0m     os\u001b[39m.\u001b[39mpath\u001b[39m.\u001b[39mjoin(\u001b[39mdir\u001b[39m, \u001b[39m\"\u001b[39m\u001b[39mtri-crop/predict/crops/speed/\u001b[39m\u001b[39m\"\u001b[39m \u001b[39m+\u001b[39m image)\n\u001b[0;32m    103\u001b[0m )\n",
      "File \u001b[1;32mc:\\Users\\Martijn\\Desktop\\coding-projects\\BEP\\GPT-DT\\YoloSplit.py:9\u001b[0m, in \u001b[0;36myolo_tri_crop\u001b[1;34m(image)\u001b[0m\n\u001b[0;32m      7\u001b[0m \u001b[39mdef\u001b[39;00m \u001b[39myolo_tri_crop\u001b[39m(image):\n\u001b[0;32m      8\u001b[0m     \u001b[39mif\u001b[39;00m \u001b[39mnot\u001b[39;00m os\u001b[39m.\u001b[39mpath\u001b[39m.\u001b[39misfile(image):\n\u001b[1;32m----> 9\u001b[0m         \u001b[39mraise\u001b[39;00m \u001b[39mException\u001b[39;00m(\u001b[39mf\u001b[39m\u001b[39m\"\u001b[39m\u001b[39mInput image path \u001b[39m\u001b[39m{\u001b[39;00mimage\u001b[39m}\u001b[39;00m\u001b[39m is not a file!\u001b[39m\u001b[39m\"\u001b[39m)\n\u001b[0;32m     11\u001b[0m     results \u001b[39m=\u001b[39m model\u001b[39m.\u001b[39mpredict(image, save_crop\u001b[39m=\u001b[39m\u001b[39mTrue\u001b[39;00m, conf\u001b[39m=\u001b[39m\u001b[39m0.5\u001b[39m, project\u001b[39m=\u001b[39m\u001b[39m\"\u001b[39m\u001b[39mtri-crop\u001b[39m\u001b[39m\"\u001b[39m)\n\u001b[0;32m     12\u001b[0m     \u001b[39mreturn\u001b[39;00m results\n",
      "\u001b[1;31mException\u001b[0m: Input image path images/vraag 16.jpg is not a file!"
     ]
    },
    {
     "data": {
      "image/png": "[encoded data removed]",
      "text/plain": [
       "<Figure size 640x480 with 1 Axes>"
      ]
     },
     "metadata": {},
     "output_type": "display_data"
    }
   ],
   "source": [
    "def make_api_call(prompt):\n",
    "    completion = openai.ChatCompletion.create(\n",
    "        model=\"gpt-3.5-turbo\",\n",
    "        temperature=0,\n",
    "        stop=None,\n",
    "        max_tokens=1024,\n",
    "        n=1,\n",
    "        messages=[\n",
    "            {\n",
    "                \"role\": \"system\",\n",
    "                \"content\": \"You are ChatGPT, a large language model trained by OpenAI. You are taking the dutch driving exam and wil be presented with what you see around you. Answer as concisely as possible and only take the dutch traffic rules in to consideration.\",\n",
    "            },\n",
    "            {\"role\": \"user\", \"content\": prompt},\n",
    "        ],\n",
    "    )\n",
    "    response = completion[\"choices\"][0][\"message\"][\"content\"].strip()\n",
    "    return response\n",
    "\n",
    "for row in range(len(truth.index)):\n",
    "    tru_row = truth.loc[row]\n",
    "    res_row = results.loc[row]\n",
    "\n",
    "    image = tru_row[\"Filename\"]\n",
    "    prompt, car_speed = run_program(image)\n",
    "    res_row[\"Speed\"] = car_speed\n",
    "    res_row[\"Prompt\"] = prompt\n",
    "\n",
    "    # Create a ThreadPoolExecutor for concurrent API calls\n",
    "    with concurrent.futures.ThreadPoolExecutor() as executor:\n",
    "        # Submit the API calls as asynchronous tasks\n",
    "        api_calls = executor.submit(make_api_call, prompt)\n",
    "    \n",
    "\n",
    "# Retrieve the results as they become available\n",
    "for row, future in enumerate(concurrent.futures.as_completed(api_calls)):\n",
    "    generated_text = future.result()\n",
    "    results.loc[row, \"Answer(word)\"] = generated_text\n",
    "\n",
    "# resp_char = response.strip(' \\n\\t')[0]\n",
    "\n",
    "# if resp_char == 'A':\n",
    "#     resp_word = \"Brake\"\n",
    "# elif resp_char == 'B':\n",
    "#     resp_word = \"Release Accelerator\"\n",
    "# elif resp_char == 'C':\n",
    "#     resp_word = \"Nothing\"\n",
    "# else:\n",
    "#     resp_word = \"unknown\"\n",
    "\n",
    "# res_row[\"Answer(letter)\"] = resp_char\n",
    "# res_row[\"Speed\"] = car_speed\n",
    "# res_row[\"Answer(word)\"] = resp_word"
   ]
  },
  {
   "cell_type": "code",
   "execution_count": 15,
   "metadata": {},
   "outputs": [
    {
     "data": {
      "text/html": [
       "<div>\n",
       "<style scoped>\n",
       "    .dataframe tbody tr th:only-of-type {\n",
       "        vertical-align: middle;\n",
       "    }\n",
       "\n",
       "    .dataframe tbody tr th {\n",
       "        vertical-align: top;\n",
       "    }\n",
       "\n",
       "    .dataframe thead th {\n",
       "        text-align: right;\n",
       "    }\n",
       "</style>\n",
       "<table border=\"1\" class=\"dataframe\">\n",
       "  <thead>\n",
       "    <tr style=\"text-align: right;\">\n",
       "      <th></th>\n",
       "      <th>Filename</th>\n",
       "      <th>Answer(letter)</th>\n",
       "      <th>Answer(word)</th>\n",
       "      <th>Speed</th>\n",
       "    </tr>\n",
       "  </thead>\n",
       "  <tbody>\n",
       "    <tr>\n",
       "      <th>0</th>\n",
       "      <td>vraag 1.jpg</td>\n",
       "      <td>None</td>\n",
       "      <td>None</td>\n",
       "      <td>40</td>\n",
       "    </tr>\n",
       "    <tr>\n",
       "      <th>1</th>\n",
       "      <td>vraag 2.jpg</td>\n",
       "      <td>None</td>\n",
       "      <td>None</td>\n",
       "      <td>80</td>\n",
       "    </tr>\n",
       "    <tr>\n",
       "      <th>2</th>\n",
       "      <td>vraag 3.jpg</td>\n",
       "      <td>None</td>\n",
       "      <td>None</td>\n",
       "      <td>25</td>\n",
       "    </tr>\n",
       "    <tr>\n",
       "      <th>3</th>\n",
       "      <td>vraag 4.jpg</td>\n",
       "      <td>None</td>\n",
       "      <td>None</td>\n",
       "      <td>40</td>\n",
       "    </tr>\n",
       "    <tr>\n",
       "      <th>4</th>\n",
       "      <td>vraag 5.jpg</td>\n",
       "      <td>None</td>\n",
       "      <td>None</td>\n",
       "      <td>30</td>\n",
       "    </tr>\n",
       "    <tr>\n",
       "      <th>5</th>\n",
       "      <td>vraag 6.jpg</td>\n",
       "      <td>None</td>\n",
       "      <td>None</td>\n",
       "      <td>40</td>\n",
       "    </tr>\n",
       "    <tr>\n",
       "      <th>6</th>\n",
       "      <td>vraag 7.jpg</td>\n",
       "      <td>None</td>\n",
       "      <td>None</td>\n",
       "      <td>100</td>\n",
       "    </tr>\n",
       "    <tr>\n",
       "      <th>7</th>\n",
       "      <td>vraag 8.jpg</td>\n",
       "      <td>None</td>\n",
       "      <td>None</td>\n",
       "      <td>30</td>\n",
       "    </tr>\n",
       "    <tr>\n",
       "      <th>8</th>\n",
       "      <td>vraag 9.jpg</td>\n",
       "      <td>None</td>\n",
       "      <td>None</td>\n",
       "      <td>100</td>\n",
       "    </tr>\n",
       "    <tr>\n",
       "      <th>9</th>\n",
       "      <td>vraag 10.jpg</td>\n",
       "      <td>None</td>\n",
       "      <td>None</td>\n",
       "      <td>30</td>\n",
       "    </tr>\n",
       "    <tr>\n",
       "      <th>10</th>\n",
       "      <td>vraag 11.jpg</td>\n",
       "      <td>None</td>\n",
       "      <td>None</td>\n",
       "      <td>60</td>\n",
       "    </tr>\n",
       "    <tr>\n",
       "      <th>11</th>\n",
       "      <td>vraag 12.jpg</td>\n",
       "      <td>None</td>\n",
       "      <td>None</td>\n",
       "      <td>80</td>\n",
       "    </tr>\n",
       "    <tr>\n",
       "      <th>12</th>\n",
       "      <td>vraag 13.jpg</td>\n",
       "      <td>None</td>\n",
       "      <td>None</td>\n",
       "      <td>unknown</td>\n",
       "    </tr>\n",
       "    <tr>\n",
       "      <th>13</th>\n",
       "      <td>vraag 14.jpg</td>\n",
       "      <td>None</td>\n",
       "      <td>None</td>\n",
       "      <td>30</td>\n",
       "    </tr>\n",
       "    <tr>\n",
       "      <th>14</th>\n",
       "      <td>vraag 15.jpg</td>\n",
       "      <td>None</td>\n",
       "      <td>None</td>\n",
       "      <td>None</td>\n",
       "    </tr>\n",
       "  </tbody>\n",
       "</table>\n",
       "</div>"
      ],
      "text/plain": [
       "        Filename Answer(letter) Answer(word)    Speed\n",
       "0    vraag 1.jpg           None         None       40\n",
       "1    vraag 2.jpg           None         None       80\n",
       "2    vraag 3.jpg           None         None       25\n",
       "3    vraag 4.jpg           None         None       40\n",
       "4    vraag 5.jpg           None         None       30\n",
       "5    vraag 6.jpg           None         None       40\n",
       "6    vraag 7.jpg           None         None      100\n",
       "7    vraag 8.jpg           None         None       30\n",
       "8    vraag 9.jpg           None         None      100\n",
       "9   vraag 10.jpg           None         None       30\n",
       "10  vraag 11.jpg           None         None       60\n",
       "11  vraag 12.jpg           None         None       80\n",
       "12  vraag 13.jpg           None         None  unknown\n",
       "13  vraag 14.jpg           None         None       30\n",
       "14  vraag 15.jpg           None         None     None"
      ]
     },
     "execution_count": 15,
     "metadata": {},
     "output_type": "execute_result"
    }
   ],
   "source": [
    "res_row = results.loc[10]\n",
    "res_row[\"Prompt\"] = prompt\n",
    "results.head(15)"
   ]
  },
  {
   "cell_type": "code",
   "execution_count": 5,
   "metadata": {},
   "outputs": [],
   "source": [
    "confu = metrics.confusion_matrix(truth[[\"Answer(letter)\"]], results[[\"Answer(letter)\"]])\n",
    "score = metrics.accuracy_score(truth[[\"Answer(letter)\"]], results[[\"Answer(letter)\"]])\n"
   ]
  },
  {
   "cell_type": "code",
   "execution_count": null,
   "metadata": {},
   "outputs": [],
   "source": [
    "results"
   ]
  },
  {
   "cell_type": "code",
   "execution_count": 7,
   "metadata": {},
   "outputs": [
    {
     "name": "stdout",
     "output_type": "stream",
     "text": [
      "0.40350877192982454\n"
     ]
    },
    {
     "data": {
      "image/png": "[encoded data removed]",
      "text/plain": [
       "<Figure size 640x480 with 2 Axes>"
      ]
     },
     "metadata": {},
     "output_type": "display_data"
    }
   ],
   "source": [
    "sns.heatmap(confu, annot=True, cmap='magma')\n",
    "print(score)\n",
    "plt.show()"
   ]
  },
  {
   "cell_type": "code",
   "execution_count": 8,
   "metadata": {},
   "outputs": [
    {
     "name": "stdout",
     "output_type": "stream",
     "text": [
      "0.9298245614035088\n"
     ]
    }
   ],
   "source": [
    "df_speed_dif = results[[\"Speed\"]].replace('unknown', 0).astype(float) - truth[[\"Speed\"]].astype(float)\n",
    "accuracy = len(df_speed_dif[df_speed_dif['Speed'] != 0])/len(truth)\n",
    "print((1-accuracy))"
   ]
  },
  {
   "cell_type": "code",
   "execution_count": 9,
   "metadata": {},
   "outputs": [],
   "source": [
    "results.to_csv(\"results-gpt-3.5-2.csv\")"
   ]
  },
  {
   "cell_type": "code",
   "execution_count": null,
   "metadata": {},
   "outputs": [],
   "source": [
    "df_adjusted = pd.read_csv(\"results-gpt-3.5-adjusted.csv\")\n",
    "df_adjusted.head()"
   ]
  },
  {
   "cell_type": "code",
   "execution_count": null,
   "metadata": {},
   "outputs": [],
   "source": [
    "df_run_1 = pd.read_csv(\"results-gpt-3.5.csv\")\n",
    "df_run_2 = pd.read_csv(\"results-gpt-3.5-2.csv\")\n",
    "df_merged = pd.merge(df_run_1, df_run_2)\n",
    "df_merged = df_merged.drop_duplicates(keep=False)\n",
    "df_merged"
   ]
  }
 ],
 "metadata": {
  "kernelspec": {
   "display_name": "BEP",
   "language": "python",
   "name": "python3"
  },
  "language_info": {
   "codemirror_mode": {
    "name": "ipython",
    "version": 3
   },
   "file_extension": ".py",
   "mimetype": "text/x-python",
   "name": "python",
   "nbconvert_exporter": "python",
   "pygments_lexer": "ipython3",
   "version": "3.9.16"
  },
  "orig_nbformat": 4
 },
 "nbformat": 4,
 "nbformat_minor": 2
}
