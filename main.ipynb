{
 "cells": [
  {
   "attachments": {},
   "cell_type": "markdown",
   "metadata": {},
   "source": [
    "### Notebook for running pipeline in Colab\n",
    "\n",
    "If you're running on colab: run these cells first!\n"
   ]
  },
  {
   "cell_type": "code",
   "execution_count": null,
   "metadata": {},
   "outputs": [],
   "source": [
    "from google.colab import drive\n",
    "drive.mount('/content/drive')"
   ]
  },
  {
   "cell_type": "code",
   "execution_count": null,
   "metadata": {},
   "outputs": [],
   "source": [
    "%cd /content/drive/MyDrive/BEP/git/GPT-DT\n",
    "!git status\n",
    "!git pull\n",
    "# Choose branch name here:\n",
    "!git checkout evaluation-loop"
   ]
  },
  {
   "cell_type": "code",
   "execution_count": null,
   "metadata": {},
   "outputs": [],
   "source": [
    "%pip install -r requirements-colab.txt"
   ]
  },
  {
   "cell_type": "code",
   "execution_count": null,
   "metadata": {},
   "outputs": [],
   "source": [
    "# CLICK RESTART RUNTIME AND THEN RUN THIS CELL\n",
    "%cd /content/drive/MyDrive/BEP/git/GPT-DT"
   ]
  },
  {
   "attachments": {},
   "cell_type": "markdown",
   "metadata": {},
   "source": [
    "### Main Code"
   ]
  },
  {
   "cell_type": "code",
   "execution_count": 1,
   "metadata": {},
   "outputs": [
    {
     "name": "stderr",
     "output_type": "stream",
     "text": [
      "CUDA not available - defaulting to CPU. Note: This module is much faster with a GPU.\n",
      "c:\\Users\\Martijn\\miniconda3\\envs\\BEP\\lib\\site-packages\\tqdm\\auto.py:21: TqdmWarning: IProgress not found. Please update jupyter and ipywidgets. See https://ipywidgets.readthedocs.io/en/stable/user_install.html\n",
      "  from .autonotebook import tqdm as notebook_tqdm\n"
     ]
    },
    {
     "ename": "FileNotFoundError",
     "evalue": "[Errno 2] No such file or directory: 'yolov5\\\\hubconf.py'",
     "output_type": "error",
     "traceback": [
      "\u001b[1;31m---------------------------------------------------------------------------\u001b[0m",
      "\u001b[1;31mFileNotFoundError\u001b[0m                         Traceback (most recent call last)",
      "Cell \u001b[1;32mIn[1], line 5\u001b[0m\n\u001b[0;32m      3\u001b[0m get_ipython()\u001b[39m.\u001b[39mrun_line_magic(\u001b[39m'\u001b[39m\u001b[39mmatplotlib\u001b[39m\u001b[39m'\u001b[39m, \u001b[39m'\u001b[39m\u001b[39minline\u001b[39m\u001b[39m'\u001b[39m)\n\u001b[0;32m      4\u001b[0m \u001b[39mimport\u001b[39;00m \u001b[39mseaborn\u001b[39;00m \u001b[39mas\u001b[39;00m \u001b[39msn\u001b[39;00m\n\u001b[1;32m----> 5\u001b[0m \u001b[39mfrom\u001b[39;00m \u001b[39mmain\u001b[39;00m \u001b[39mimport\u001b[39;00m \u001b[39m*\u001b[39m\n",
      "File \u001b[1;32mc:\\Users\\Martijn\\Desktop\\coding-projects\\BEP\\GPT-DT\\main.py:7\u001b[0m\n\u001b[0;32m      5\u001b[0m \u001b[39mfrom\u001b[39;00m \u001b[39mstate_detection\u001b[39;00m \u001b[39mimport\u001b[39;00m \u001b[39m*\u001b[39m\n\u001b[0;32m      6\u001b[0m \u001b[39mfrom\u001b[39;00m \u001b[39mbreaking_state_function\u001b[39;00m \u001b[39mimport\u001b[39;00m \u001b[39m*\u001b[39m\n\u001b[1;32m----> 7\u001b[0m \u001b[39mfrom\u001b[39;00m \u001b[39mvehicle_detection\u001b[39;00m \u001b[39mimport\u001b[39;00m \u001b[39m*\u001b[39m\n\u001b[0;32m      8\u001b[0m \u001b[39mfrom\u001b[39;00m \u001b[39mchat\u001b[39;00m \u001b[39mimport\u001b[39;00m \u001b[39m*\u001b[39m\n\u001b[0;32m      9\u001b[0m \u001b[39mfrom\u001b[39;00m \u001b[39mcreate_depth_map\u001b[39;00m \u001b[39mimport\u001b[39;00m \u001b[39m*\u001b[39m\n",
      "File \u001b[1;32mc:\\Users\\Martijn\\Desktop\\coding-projects\\BEP\\GPT-DT\\vehicle_detection.py:3\u001b[0m\n\u001b[0;32m      1\u001b[0m \u001b[39mimport\u001b[39;00m \u001b[39mtorch\u001b[39;00m\n\u001b[1;32m----> 3\u001b[0m model \u001b[39m=\u001b[39m torch\u001b[39m.\u001b[39;49mhub\u001b[39m.\u001b[39;49mload(\n\u001b[0;32m      4\u001b[0m     \u001b[39m\"\u001b[39;49m\u001b[39myolov5\u001b[39;49m\u001b[39m\"\u001b[39;49m, \u001b[39m\"\u001b[39;49m\u001b[39mcustom\u001b[39;49m\u001b[39m\"\u001b[39;49m, path\u001b[39m=\u001b[39;49m\u001b[39m\"\u001b[39;49m\u001b[39mmodels/Yolov5_orientation\u001b[39;49m\u001b[39m\"\u001b[39;49m, source\u001b[39m=\u001b[39;49m\u001b[39m\"\u001b[39;49m\u001b[39mlocal\u001b[39;49m\u001b[39m\"\u001b[39;49m\n\u001b[0;32m      5\u001b[0m )\n\u001b[0;32m      8\u001b[0m \u001b[39mdef\u001b[39;00m \u001b[39mvehicle_detection\u001b[39m(image):\n\u001b[0;32m      9\u001b[0m     results \u001b[39m=\u001b[39m model(image)\n",
      "File \u001b[1;32mc:\\Users\\Martijn\\miniconda3\\envs\\BEP\\lib\\site-packages\\torch\\hub.py:558\u001b[0m, in \u001b[0;36mload\u001b[1;34m(repo_or_dir, model, source, trust_repo, force_reload, verbose, skip_validation, *args, **kwargs)\u001b[0m\n\u001b[0;32m    554\u001b[0m \u001b[39mif\u001b[39;00m source \u001b[39m==\u001b[39m \u001b[39m'\u001b[39m\u001b[39mgithub\u001b[39m\u001b[39m'\u001b[39m:\n\u001b[0;32m    555\u001b[0m     repo_or_dir \u001b[39m=\u001b[39m _get_cache_or_reload(repo_or_dir, force_reload, trust_repo, \u001b[39m\"\u001b[39m\u001b[39mload\u001b[39m\u001b[39m\"\u001b[39m,\n\u001b[0;32m    556\u001b[0m                                        verbose\u001b[39m=\u001b[39mverbose, skip_validation\u001b[39m=\u001b[39mskip_validation)\n\u001b[1;32m--> 558\u001b[0m model \u001b[39m=\u001b[39m _load_local(repo_or_dir, model, \u001b[39m*\u001b[39margs, \u001b[39m*\u001b[39m\u001b[39m*\u001b[39mkwargs)\n\u001b[0;32m    559\u001b[0m \u001b[39mreturn\u001b[39;00m model\n",
      "File \u001b[1;32mc:\\Users\\Martijn\\miniconda3\\envs\\BEP\\lib\\site-packages\\torch\\hub.py:584\u001b[0m, in \u001b[0;36m_load_local\u001b[1;34m(hubconf_dir, model, *args, **kwargs)\u001b[0m\n\u001b[0;32m    582\u001b[0m \u001b[39mwith\u001b[39;00m _add_to_sys_path(hubconf_dir):\n\u001b[0;32m    583\u001b[0m     hubconf_path \u001b[39m=\u001b[39m os\u001b[39m.\u001b[39mpath\u001b[39m.\u001b[39mjoin(hubconf_dir, MODULE_HUBCONF)\n\u001b[1;32m--> 584\u001b[0m     hub_module \u001b[39m=\u001b[39m _import_module(MODULE_HUBCONF, hubconf_path)\n\u001b[0;32m    586\u001b[0m     entry \u001b[39m=\u001b[39m _load_entry_from_hubconf(hub_module, model)\n\u001b[0;32m    587\u001b[0m     model \u001b[39m=\u001b[39m entry(\u001b[39m*\u001b[39margs, \u001b[39m*\u001b[39m\u001b[39m*\u001b[39mkwargs)\n",
      "File \u001b[1;32mc:\\Users\\Martijn\\miniconda3\\envs\\BEP\\lib\\site-packages\\torch\\hub.py:98\u001b[0m, in \u001b[0;36m_import_module\u001b[1;34m(name, path)\u001b[0m\n\u001b[0;32m     96\u001b[0m module \u001b[39m=\u001b[39m importlib\u001b[39m.\u001b[39mutil\u001b[39m.\u001b[39mmodule_from_spec(spec)\n\u001b[0;32m     97\u001b[0m \u001b[39massert\u001b[39;00m \u001b[39misinstance\u001b[39m(spec\u001b[39m.\u001b[39mloader, Loader)\n\u001b[1;32m---> 98\u001b[0m spec\u001b[39m.\u001b[39;49mloader\u001b[39m.\u001b[39;49mexec_module(module)\n\u001b[0;32m     99\u001b[0m \u001b[39mreturn\u001b[39;00m module\n",
      "File \u001b[1;32m<frozen importlib._bootstrap_external>:846\u001b[0m, in \u001b[0;36mexec_module\u001b[1;34m(self, module)\u001b[0m\n",
      "File \u001b[1;32m<frozen importlib._bootstrap_external>:982\u001b[0m, in \u001b[0;36mget_code\u001b[1;34m(self, fullname)\u001b[0m\n",
      "File \u001b[1;32m<frozen importlib._bootstrap_external>:1039\u001b[0m, in \u001b[0;36mget_data\u001b[1;34m(self, path)\u001b[0m\n",
      "\u001b[1;31mFileNotFoundError\u001b[0m: [Errno 2] No such file or directory: 'yolov5\\\\hubconf.py'"
     ]
    }
   ],
   "source": [
    "from sklearn.metrics import confusion_matrix\n",
    "from matplotlib import pyplot as plt\n",
    "%matplotlib inline\n",
    "import seaborn as sn\n",
    "from main import *"
   ]
  },
  {
   "cell_type": "code",
   "execution_count": 2,
   "metadata": {},
   "outputs": [
    {
     "name": "stderr",
     "output_type": "stream",
     "text": [
      "\n",
      "image 1/1 C:\\Users\\Martijn\\Desktop\\coding-projects\\BEP\\GPT-DT\\images\\vraag 4.jpg: 384x640 1 outside-view, 1 rear-view, 1 speed, 147.0ms\n",
      "Speed: 0.0ms preprocess, 147.0ms inference, 5.6ms postprocess per image at shape (1, 3, 640, 640)\n",
      "Results saved to \u001b[1mtri-crop\\predict\u001b[0m\n"
     ]
    },
    {
     "ename": "AttributeError",
     "evalue": "'list' object has no attribute 'numpy'",
     "output_type": "error",
     "traceback": [
      "\u001b[1;31m---------------------------------------------------------------------------\u001b[0m",
      "\u001b[1;31mAttributeError\u001b[0m                            Traceback (most recent call last)",
      "Cell \u001b[1;32mIn[2], line 2\u001b[0m\n\u001b[0;32m      1\u001b[0m image \u001b[39m=\u001b[39m \u001b[39m\"\u001b[39m\u001b[39mvraag 4.jpg\u001b[39m\u001b[39m\"\u001b[39m\n\u001b[1;32m----> 2\u001b[0m prompt, response, car_speed \u001b[39m=\u001b[39m run_program(image)\n",
      "File \u001b[1;32mc:\\Users\\Martijn\\Desktop\\coding-projects\\BEP\\GPT-DT\\main.py:123\u001b[0m, in \u001b[0;36mrun_program\u001b[1;34m(image)\u001b[0m\n\u001b[0;32m    120\u001b[0m vehicles_detected \u001b[39m=\u001b[39m [[]]\n\u001b[0;32m    122\u001b[0m \u001b[39m# maakt het dataframe\u001b[39;00m\n\u001b[1;32m--> 123\u001b[0m df \u001b[39m=\u001b[39m dataframe_bouwen(\n\u001b[0;32m    124\u001b[0m     owl_labels,\n\u001b[0;32m    125\u001b[0m     owl_boxes,\n\u001b[0;32m    126\u001b[0m     owl_scores,\n\u001b[0;32m    127\u001b[0m     classes_owl,\n\u001b[0;32m    128\u001b[0m     vehicles_detected,\n\u001b[0;32m    129\u001b[0m     classes_orientation,\n\u001b[0;32m    130\u001b[0m     tri_crop_results,\n\u001b[0;32m    131\u001b[0m     image,\n\u001b[0;32m    132\u001b[0m )\n\u001b[0;32m    134\u001b[0m \u001b[39m# Elke crop maken uit de tabel en foto naam aan tabel toevoegen\u001b[39;00m\n\u001b[0;32m    135\u001b[0m fotonaam \u001b[39m=\u001b[39m []\n",
      "File \u001b[1;32mc:\\Users\\Martijn\\Desktop\\coding-projects\\BEP\\GPT-DT\\state_detection.py:50\u001b[0m, in \u001b[0;36mdataframe_bouwen\u001b[1;34m(labels, boxes, scores, texts, vehicles_detected, classes_orientation, tri_crop_result, image)\u001b[0m\n\u001b[0;32m     47\u001b[0m \u001b[39mif\u001b[39;00m torch\u001b[39m.\u001b[39mcuda\u001b[39m.\u001b[39mis_available():\n\u001b[0;32m     48\u001b[0m     tri_crop_result[\u001b[39m0\u001b[39m]\u001b[39m.\u001b[39mboxes \u001b[39m=\u001b[39m tri_crop_result[\u001b[39m0\u001b[39m]\u001b[39m.\u001b[39mboxes\u001b[39m.\u001b[39mcpu()\n\u001b[1;32m---> 50\u001b[0m df1 \u001b[39m=\u001b[39m pd\u001b[39m.\u001b[39mDataFrame(vehicles_detected\u001b[39m.\u001b[39;49mnumpy(), columns\u001b[39m=\u001b[39mcolumns_df1)\n\u001b[0;32m     51\u001b[0m \u001b[39mif\u001b[39;00m \u001b[39mnot\u001b[39;00m df1\u001b[39m.\u001b[39mempty:\n\u001b[0;32m     52\u001b[0m     df1[\u001b[39m\"\u001b[39m\u001b[39mclass_naam\u001b[39m\u001b[39m\"\u001b[39m] \u001b[39m=\u001b[39m df1[\u001b[39m\"\u001b[39m\u001b[39mclass\u001b[39m\u001b[39m\"\u001b[39m]\n",
      "\u001b[1;31mAttributeError\u001b[0m: 'list' object has no attribute 'numpy'"
     ]
    }
   ],
   "source": [
    "image = \"vraag 4.jpg\"\n",
    "prompt, response, car_speed = run_program(image)"
   ]
  },
  {
   "cell_type": "code",
   "execution_count": 9,
   "metadata": {},
   "outputs": [
    {
     "data": {
      "text/plain": [
       "' B\\nReasoning: Since there are no traffic signs, traffic lights, pedestrians, or bicycles in sight, it is safe to let go of the accelerator and maintain the speed of 30 km/h. This will ensure that you are driving safely and not exceeding the speed limit.'"
      ]
     },
     "execution_count": 9,
     "metadata": {},
     "output_type": "execute_result"
    }
   ],
   "source": [
    "response"
   ]
  },
  {
   "cell_type": "code",
   "execution_count": 3,
   "metadata": {},
   "outputs": [],
   "source": [
    "truth = pd.read_csv(\"ground-truth.csv\")\n",
    "results = truth.copy(deep = True)\n",
    "results[\"Answer(word)\"] = None\n",
    "results[\"Answer(letter)\"] = None\n",
    "results[\"Speed\"] = None"
   ]
  },
  {
   "cell_type": "code",
   "execution_count": 4,
   "metadata": {},
   "outputs": [
    {
     "data": {
      "text/html": [
       "<div>\n",
       "<style scoped>\n",
       "    .dataframe tbody tr th:only-of-type {\n",
       "        vertical-align: middle;\n",
       "    }\n",
       "\n",
       "    .dataframe tbody tr th {\n",
       "        vertical-align: top;\n",
       "    }\n",
       "\n",
       "    .dataframe thead th {\n",
       "        text-align: right;\n",
       "    }\n",
       "</style>\n",
       "<table border=\"1\" class=\"dataframe\">\n",
       "  <thead>\n",
       "    <tr style=\"text-align: right;\">\n",
       "      <th></th>\n",
       "      <th>Filename</th>\n",
       "      <th>Answer(letter)</th>\n",
       "      <th>Answer(word)</th>\n",
       "      <th>Speed</th>\n",
       "    </tr>\n",
       "  </thead>\n",
       "  <tbody>\n",
       "    <tr>\n",
       "      <th>0</th>\n",
       "      <td>vraag 1.jpg</td>\n",
       "      <td>A</td>\n",
       "      <td>Brake</td>\n",
       "      <td>40</td>\n",
       "    </tr>\n",
       "    <tr>\n",
       "      <th>1</th>\n",
       "      <td>vraag 2.jpg</td>\n",
       "      <td>A</td>\n",
       "      <td>Brake</td>\n",
       "      <td>80</td>\n",
       "    </tr>\n",
       "    <tr>\n",
       "      <th>2</th>\n",
       "      <td>vraag 3.jpg</td>\n",
       "      <td>B</td>\n",
       "      <td>Release Accelerator</td>\n",
       "      <td>25</td>\n",
       "    </tr>\n",
       "    <tr>\n",
       "      <th>3</th>\n",
       "      <td>vraag 4.jpg</td>\n",
       "      <td>A</td>\n",
       "      <td>Brake</td>\n",
       "      <td>40</td>\n",
       "    </tr>\n",
       "    <tr>\n",
       "      <th>4</th>\n",
       "      <td>vraag 5.jpg</td>\n",
       "      <td>C</td>\n",
       "      <td>Nothing</td>\n",
       "      <td>30</td>\n",
       "    </tr>\n",
       "  </tbody>\n",
       "</table>\n",
       "</div>"
      ],
      "text/plain": [
       "      Filename Answer(letter)         Answer(word)  Speed\n",
       "0  vraag 1.jpg              A                Brake     40\n",
       "1  vraag 2.jpg              A                Brake     80\n",
       "2  vraag 3.jpg              B  Release Accelerator     25\n",
       "3  vraag 4.jpg              A                Brake     40\n",
       "4  vraag 5.jpg              C              Nothing     30"
      ]
     },
     "execution_count": 4,
     "metadata": {},
     "output_type": "execute_result"
    }
   ],
   "source": [
    "truth.head()"
   ]
  },
  {
   "cell_type": "code",
   "execution_count": null,
   "metadata": {},
   "outputs": [],
   "source": [
    "# len(truth.index)\n",
    "\n",
    "for row in range(0,10):\n",
    "    tru_row = truth.loc[row]\n",
    "    res_row = results.loc[row]\n",
    "\n",
    "    image = tru_row[\"Filename\"]\n",
    "    prompt, response, car_speed = run_program(image)\n",
    "    resp_char = response.strip(' \\n\\t')[0]\n",
    "\n",
    "    if resp_char == 'A':\n",
    "        resp_word = \"Brake\"\n",
    "    elif resp_char == 'B':\n",
    "        resp_word = \"Release Accelerator\"\n",
    "    elif resp_char == 'C':\n",
    "        resp_word = \"Nothing\"\n",
    "    else:\n",
    "        resp_word = \"unknown\"\n",
    "\n",
    "    res_row[\"Answer(letter)\"] = resp_char\n",
    "    res_row[\"Speed\"] = car_speed\n",
    "    res_row[\"Answer(word)\"] = resp_word\n",
    "\n",
    "\n"
   ]
  },
  {
   "cell_type": "code",
   "execution_count": 4,
   "metadata": {},
   "outputs": [],
   "source": [
    "temp_result_copy = results.head(11).copy"
   ]
  },
  {
   "cell_type": "code",
   "execution_count": 8,
   "metadata": {},
   "outputs": [
    {
     "data": {
      "text/html": [
       "<div>\n",
       "<style scoped>\n",
       "    .dataframe tbody tr th:only-of-type {\n",
       "        vertical-align: middle;\n",
       "    }\n",
       "\n",
       "    .dataframe tbody tr th {\n",
       "        vertical-align: top;\n",
       "    }\n",
       "\n",
       "    .dataframe thead th {\n",
       "        text-align: right;\n",
       "    }\n",
       "</style>\n",
       "<table border=\"1\" class=\"dataframe\">\n",
       "  <thead>\n",
       "    <tr style=\"text-align: right;\">\n",
       "      <th></th>\n",
       "      <th>Filename</th>\n",
       "      <th>Answer(letter)</th>\n",
       "      <th>Answer(word)</th>\n",
       "      <th>Speed</th>\n",
       "    </tr>\n",
       "  </thead>\n",
       "  <tbody>\n",
       "    <tr>\n",
       "      <th>0</th>\n",
       "      <td>vraag 1.jpg</td>\n",
       "      <td>B</td>\n",
       "      <td>Release Accelerator</td>\n",
       "      <td>40</td>\n",
       "    </tr>\n",
       "    <tr>\n",
       "      <th>1</th>\n",
       "      <td>vraag 2.jpg</td>\n",
       "      <td>B</td>\n",
       "      <td>Release Accelerator</td>\n",
       "      <td>80</td>\n",
       "    </tr>\n",
       "    <tr>\n",
       "      <th>2</th>\n",
       "      <td>vraag 3.jpg</td>\n",
       "      <td>B</td>\n",
       "      <td>Release Accelerator</td>\n",
       "      <td>25</td>\n",
       "    </tr>\n",
       "    <tr>\n",
       "      <th>3</th>\n",
       "      <td>vraag 4.jpg</td>\n",
       "      <td>B</td>\n",
       "      <td>Release Accelerator</td>\n",
       "      <td>40</td>\n",
       "    </tr>\n",
       "    <tr>\n",
       "      <th>4</th>\n",
       "      <td>vraag 5.jpg</td>\n",
       "      <td>B</td>\n",
       "      <td>Release Accelerator</td>\n",
       "      <td>30</td>\n",
       "    </tr>\n",
       "    <tr>\n",
       "      <th>5</th>\n",
       "      <td>vraag 6.jpg</td>\n",
       "      <td>A</td>\n",
       "      <td>Brake</td>\n",
       "      <td>40</td>\n",
       "    </tr>\n",
       "    <tr>\n",
       "      <th>6</th>\n",
       "      <td>vraag 7.jpg</td>\n",
       "      <td>A</td>\n",
       "      <td>Brake</td>\n",
       "      <td>100</td>\n",
       "    </tr>\n",
       "    <tr>\n",
       "      <th>7</th>\n",
       "      <td>vraag 8.jpg</td>\n",
       "      <td>B</td>\n",
       "      <td>Release Accelerator</td>\n",
       "      <td>30</td>\n",
       "    </tr>\n",
       "    <tr>\n",
       "      <th>8</th>\n",
       "      <td>vraag 9.jpg</td>\n",
       "      <td>B</td>\n",
       "      <td>Release Accelerator</td>\n",
       "      <td>100</td>\n",
       "    </tr>\n",
       "    <tr>\n",
       "      <th>9</th>\n",
       "      <td>vraag 10.jpg</td>\n",
       "      <td>B</td>\n",
       "      <td>Release Accelerator</td>\n",
       "      <td>30</td>\n",
       "    </tr>\n",
       "  </tbody>\n",
       "</table>\n",
       "</div>"
      ],
      "text/plain": [
       "       Filename Answer(letter)         Answer(word) Speed\n",
       "0   vraag 1.jpg              B  Release Accelerator    40\n",
       "1   vraag 2.jpg              B  Release Accelerator    80\n",
       "2   vraag 3.jpg              B  Release Accelerator    25\n",
       "3   vraag 4.jpg              B  Release Accelerator    40\n",
       "4   vraag 5.jpg              B  Release Accelerator    30\n",
       "5   vraag 6.jpg              A                Brake    40\n",
       "6   vraag 7.jpg              A                Brake   100\n",
       "7   vraag 8.jpg              B  Release Accelerator    30\n",
       "8   vraag 9.jpg              B  Release Accelerator   100\n",
       "9  vraag 10.jpg              B  Release Accelerator    30"
      ]
     },
     "execution_count": 8,
     "metadata": {},
     "output_type": "execute_result"
    }
   ],
   "source": [
    "results.head(10)"
   ]
  },
  {
   "cell_type": "code",
   "execution_count": 12,
   "metadata": {},
   "outputs": [],
   "source": [
    "a = confusion_matrix(truth.head(10)[[\"Answer(letter)\"]],results.head(10)[[\"Answer(letter)\"]])\n",
    "sn.heatmap(a, annot=True, cmap=\"rocket\")\n",
    "plt.show()"
   ]
  },
  {
   "cell_type": "code",
   "execution_count": 13,
   "metadata": {},
   "outputs": [
    {
     "data": {
      "text/plain": [
       "array([[0, 4, 0],\n",
       "       [2, 2, 0],\n",
       "       [0, 2, 0]], dtype=int64)"
      ]
     },
     "execution_count": 13,
     "metadata": {},
     "output_type": "execute_result"
    }
   ],
   "source": [
    "a"
   ]
  }
 ],
 "metadata": {
  "kernelspec": {
   "display_name": "BEP",
   "language": "python",
   "name": "python3"
  },
  "language_info": {
   "codemirror_mode": {
    "name": "ipython",
    "version": 3
   },
   "file_extension": ".py",
   "mimetype": "text/x-python",
   "name": "python",
   "nbconvert_exporter": "python",
   "pygments_lexer": "ipython3",
   "version": "3.9.16"
  },
  "orig_nbformat": 4
 },
 "nbformat": 4,
 "nbformat_minor": 2
}
