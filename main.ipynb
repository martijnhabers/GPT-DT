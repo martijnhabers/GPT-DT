{
 "cells": [
  {
   "attachments": {},
   "cell_type": "markdown",
   "metadata": {},
   "source": [
    "### Notebook for running pipeline in Colab\n",
    "\n",
    "If you're running on colab: run these cells first!\n"
   ]
  },
  {
   "cell_type": "code",
   "execution_count": null,
   "metadata": {},
   "outputs": [],
   "source": [
    "from google.colab import drive\n",
    "drive.mount('/content/drive')"
   ]
  },
  {
   "cell_type": "code",
   "execution_count": null,
   "metadata": {},
   "outputs": [],
   "source": [
    "%cd /content/drive/MyDrive/BEP/git/GPT-DT\n",
    "!git status\n",
    "!git pull\n",
    "# Choose branch name here:\n",
    "!git checkout evaluation-loop"
   ]
  },
  {
   "cell_type": "code",
   "execution_count": null,
   "metadata": {},
   "outputs": [],
   "source": [
    "%pip install -r requirements-colab.txt"
   ]
  },
  {
   "cell_type": "code",
   "execution_count": null,
   "metadata": {},
   "outputs": [],
   "source": [
    "# CLICK RESTART RUNTIME AND THEN RUN THIS CELL\n",
    "%cd /content/drive/MyDrive/BEP/git/GPT-DT"
   ]
  },
  {
   "attachments": {},
   "cell_type": "markdown",
   "metadata": {},
   "source": [
    "### Main Code"
   ]
  },
  {
   "cell_type": "code",
   "execution_count": 1,
   "metadata": {},
   "outputs": [
    {
     "name": "stderr",
     "output_type": "stream",
     "text": [
      "CUDA not available - defaulting to CPU. Note: This module is much faster with a GPU.\n",
      "c:\\Users\\Martijn\\miniconda3\\envs\\BEP\\lib\\site-packages\\tqdm\\auto.py:21: TqdmWarning: IProgress not found. Please update jupyter and ipywidgets. See https://ipywidgets.readthedocs.io/en/stable/user_install.html\n",
      "  from .autonotebook import tqdm as notebook_tqdm\n",
      "YOLOv5  2023-5-25 Python-3.9.16 torch-2.0.0 CPU\n",
      "\n"
     ]
    },
    {
     "name": "stdout",
     "output_type": "stream",
     "text": [
      "'utf-8' codec can't decode byte 0xff in position 0: invalid start byte\n"
     ]
    },
    {
     "name": "stderr",
     "output_type": "stream",
     "text": [
      "Fusing layers... \n",
      "Model summary: 476 layers, 76226352 parameters, 0 gradients, 110.1 GFLOPs\n",
      "Adding AutoShape... \n",
      "Using cache found in C:\\Users\\Martijn/.cache\\torch\\hub\\isl-org_ZoeDepth_main\n"
     ]
    },
    {
     "name": "stdout",
     "output_type": "stream",
     "text": [
      "img_size [384, 512]\n"
     ]
    },
    {
     "name": "stderr",
     "output_type": "stream",
     "text": [
      "Using cache found in C:\\Users\\Martijn/.cache\\torch\\hub\\intel-isl_MiDaS_master\n"
     ]
    },
    {
     "name": "stdout",
     "output_type": "stream",
     "text": [
      "Params passed to Resize transform:\n",
      "\twidth:  512\n",
      "\theight:  384\n",
      "\tresize_target:  True\n",
      "\tkeep_aspect_ratio:  True\n",
      "\tensure_multiple_of:  32\n",
      "\tresize_method:  minimal\n",
      "Using pretrained resource url::https://github.com/isl-org/ZoeDepth/releases/download/v1.0/ZoeD_M12_NK.pt\n",
      "Loaded successfully\n"
     ]
    }
   ],
   "source": [
    "%matplotlib inline\n",
    "from main import *"
   ]
  },
  {
   "cell_type": "code",
   "execution_count": 2,
   "metadata": {},
   "outputs": [],
   "source": [
    "from sklearn import metrics\n",
    "import pandas as pd\n",
    "from matplotlib import pyplot as plt\n",
    "import seaborn as sns\n",
    "import concurrent.futures\n",
    "%matplotlib inline"
   ]
  },
  {
   "cell_type": "code",
   "execution_count": 10,
   "metadata": {},
   "outputs": [
    {
     "name": "stderr",
     "output_type": "stream",
     "text": [
      "\n",
      "image 1/1 C:\\Users\\Martijn\\Desktop\\coding-projects\\BEP\\GPT-DT\\images\\Vraag 2.jpeg: 480x640 1 outside-view, 1 rear-view, 1 speed, 173.0ms\n",
      "Speed: 2.0ms preprocess, 173.0ms inference, 2.0ms postprocess per image at shape (1, 3, 640, 640)\n",
      "Results saved to \u001b[1mtri-crop\\predict\u001b[0m\n"
     ]
    },
    {
     "name": "stdout",
     "output_type": "stream",
     "text": [
      "1/1 [==============================] - 0s 46ms/step\n",
      "Not braking\n",
      "1/1 [==============================] - 0s 58ms/step\n",
      "Not braking\n",
      "1/1 [==============================] - 0s 52ms/step\n",
      "Not braking\n",
      "1/1 [==============================] - 0s 25ms/step\n",
      "Bicycle lane\n",
      "1/1 [==============================] - 0s 25ms/step\n",
      "Priority road\n"
     ]
    },
    {
     "data": {
      "image/png": "[encoded data removed]",
      "text/plain": [
       "<Figure size 640x480 with 1 Axes>"
      ]
     },
     "metadata": {},
     "output_type": "display_data"
    }
   ],
   "source": [
    "# test to see if code runs with one question\n",
    "image = \"vraag 2.jpeg\"\n",
    "prompt, response, car_speed, df, location, weather = run_program(image)"
   ]
  },
  {
   "cell_type": "code",
   "execution_count": 11,
   "metadata": {},
   "outputs": [
    {
     "data": {
      "text/plain": [
       "'B\\n\\nReasoning:\\nBased on the given context, there are no immediate hazards or obstacles that require braking. However, there are pedestrians and bicyclists in close proximity, which require the driver to reduce speed and exercise caution. Letting go of the accelerator is the appropriate response in this situation, as it allows the driver to maintain control of the vehicle while reducing speed and being prepared to react to any unexpected situations. Additionally, the driver should be aware of the \"Bicycle lane\" traffic sign and give priority to any bicyclists on the road.'"
      ]
     },
     "execution_count": 11,
     "metadata": {},
     "output_type": "execute_result"
    }
   ],
   "source": [
    "response"
   ]
  },
  {
   "cell_type": "code",
   "execution_count": 3,
   "metadata": {},
   "outputs": [],
   "source": [
    "# load in ground truth data\n",
    "truth = pd.read_csv(\"ground-truth/ground-truth-validation.csv\")\n",
    "results = truth.copy(deep = True)\n",
    "results[\"Answer(word)\"] = None\n",
    "results[\"Answer(letter)\"] = None\n",
    "results[\"Speed\"] = None\n",
    "results.insert(4, \"Location\", \"\", True)\n",
    "results.insert(5, \"Weather\", \"\", True)"
   ]
  },
  {
   "cell_type": "code",
   "execution_count": 4,
   "metadata": {},
   "outputs": [
    {
     "name": "stderr",
     "output_type": "stream",
     "text": [
      "UsageError: Line magic function `%%capture` not found.\n"
     ]
    }
   ],
   "source": [
    "# loop over all images, capture output to not clutter notebook\n",
    "for row in range(len(truth.index)):\n",
    "    tru_row = truth.loc[row]\n",
    "    res_row = results.loc[row]\n",
    "\n",
    "    image = tru_row[\"Filename\"]\n",
    "    prompt, response, car_speed, df, location, weather = run_program(image)\n",
    "    resp_char = response.strip(' \\n\\t')[0]\n",
    "\n",
    "    if resp_char == 'A':\n",
    "        resp_word = \"Brake\"\n",
    "    elif resp_char == 'B':\n",
    "        resp_word = \"Release Accelerator\"\n",
    "    elif resp_char == 'C':\n",
    "        resp_word = \"Nothing\"\n",
    "    else:\n",
    "        resp_word = \"unknown\"\n",
    "\n",
    "    res_row[\"Answer(letter)\"] = resp_char\n",
    "    res_row[\"Speed\"] = car_speed\n",
    "    res_row[\"Location\"] = location\n",
    "    res_row[\"Weather\"] = weather\n",
    "    res_row[\"Answer(word)\"] = resp_word"
   ]
  },
  {
   "cell_type": "code",
   "execution_count": 20,
   "metadata": {},
   "outputs": [
    {
     "data": {
      "text/plain": [
       "3"
      ]
     },
     "execution_count": 20,
     "metadata": {},
     "output_type": "execute_result"
    }
   ],
   "source": [
    "len(os.listdir(\"images\"))"
   ]
  },
  {
   "cell_type": "code",
   "execution_count": null,
   "metadata": {},
   "outputs": [],
   "source": [
    "confu = metrics.confusion_matrix(truth[[\"Answer(letter)\"]], results[[\"Answer(letter)\"]])\n",
    "score = metrics.accuracy_score(truth[[\"Answer(letter)\"]], results[[\"Answer(letter)\"]])\n"
   ]
  },
  {
   "cell_type": "code",
   "execution_count": null,
   "metadata": {},
   "outputs": [
    {
     "name": "stdout",
     "output_type": "stream",
     "text": [
      "0.36363636363636365\n"
     ]
    },
    {
     "data": {
      "image/png": "[encoded data removed]",
      "text/plain": [
       "<Figure size 640x480 with 2 Axes>"
      ]
     },
     "metadata": {},
     "output_type": "display_data"
    }
   ],
   "source": [
    "sns.heatmap(confu, annot=True, cmap='magma')\n",
    "print(score)\n",
    "plt.show()"
   ]
  },
  {
   "cell_type": "code",
   "execution_count": 12,
   "metadata": {},
   "outputs": [
    {
     "name": "stdout",
     "output_type": "stream",
     "text": [
      "0.9393939393939394\n"
     ]
    }
   ],
   "source": [
    "df_speed_dif = results[[\"Speed\"]].replace('unknown', 0).astype(float) - truth[[\"Speed\"]].astype(float)\n",
    "accuracy = len(df_speed_dif[df_speed_dif['Speed'] != 0])/len(truth)\n",
    "print((1-accuracy))"
   ]
  },
  {
   "cell_type": "code",
   "execution_count": 16,
   "metadata": {},
   "outputs": [],
   "source": [
    "from datetime import datetime\n",
    "import os\n",
    "from matplotlib import pyplot as plt\n",
    "import shutil\n",
    "import pandas as pd\n",
    "import numpy as np"
   ]
  },
  {
   "cell_type": "code",
   "execution_count": 17,
   "metadata": {},
   "outputs": [
    {
     "data": {
      "text/plain": [
       "[<matplotlib.lines.Line2D at 0x2351b2c8790>]"
      ]
     },
     "execution_count": 17,
     "metadata": {},
     "output_type": "execute_result"
    },
    {
     "data": {
      "image/png": "[encoded data removed]",
      "text/plain": [
       "<Figure size 640x480 with 1 Axes>"
      ]
     },
     "metadata": {},
     "output_type": "display_data"
    }
   ],
   "source": []
  },
  {
   "cell_type": "code",
   "execution_count": 12,
   "metadata": {},
   "outputs": [],
   "source": [
    "results = pd.DataFrame()\n",
    "df = pd.DataFrame()\n",
    "prompt = \"hi\"\n",
    "response = \"yo\"\n",
    "arr = np.array([1, 2, 3, 4, 5])"
   ]
  },
  {
   "cell_type": "code",
   "execution_count": 19,
   "metadata": {},
   "outputs": [
    {
     "data": {
      "image/png": "[encoded data removed]",
      "text/plain": [
       "<Figure size 640x480 with 1 Axes>"
      ]
     },
     "metadata": {},
     "output_type": "display_data"
    }
   ],
   "source": [
    "questions = [\"vraag 1\", \"vraag 2\", \"vraag 3\"]\n",
    "\n",
    "\n",
    "############ RUN ONCE AT BEGINNING ##################\n",
    "results_dir = datetime.now().strftime(\"%Y-%m-%d[%H.%M.%S]\")\n",
    "results_dir = os.path.join(\"results\", results_dir)\n",
    "\n",
    "subdirs = [\"crops\", \"tri-crop\", \"df\", \"texts\"]\n",
    "\n",
    "for name in subdirs:\n",
    "    subdirectory_path = os.path.join(results_dir, name)\n",
    "    os.makedirs(subdirectory_path)\n",
    "\n",
    "\n",
    "##########################################\n",
    "\n",
    "\n",
    "############# Loop per question #############\n",
    "for question_name in questions:\n",
    "    df.to_csv(os.path.join(results_dir, f\"df/{question_name}.csv\"))\n",
    "\n",
    "    shutil.copytree(\"tri-crop/predict/crops\", f\"{results_dir}/tri-crop/\" + question_name)\n",
    "    shutil.copytree(\"Crops\", f\"{results_dir}/crops/\" + question_name)\n",
    "    \n",
    "    with open(os.path.join(results_dir, f'texts/{question_name}.txt'), 'w') as file:\n",
    "        file.write(prompt)\n",
    "        file.write(\"\\n\")\n",
    "        file.write(response)\n",
    "\n",
    "############ RUN ONCE AT END ############\n",
    "# write some general information about run\n",
    "with open(os.path.join(results_dir, 'info.txt'), \"w\") as file:\n",
    "    file.write(\"Model: \")\n",
    "    file.write(\"\\n\")\n",
    "    file.write(\"Accuracy: \")\n",
    "    file.write(\"\\n\")\n",
    "    file.write(\"Runtime: \")\n",
    "    file.write(\"\\n\")\n",
    "\n",
    "plt.plot([1, 2, 3, 4, 5], [1, 4, 9, 16, 25])\n",
    "np.save(os.path.join(results_dir, 'confusion'), arr)\n",
    "plt.savefig(os.path.join(results_dir, 'confusion.png'))\n",
    "\n",
    "results.to_csv(os.path.join(results_dir, \"results.csv\"))"
   ]
  },
  {
   "cell_type": "code",
   "execution_count": 42,
   "metadata": {},
   "outputs": [
    {
     "data": {
      "text/plain": [
       "'results/2023-06-02/tri-crop/vraag z'"
      ]
     },
     "execution_count": 42,
     "metadata": {},
     "output_type": "execute_result"
    }
   ],
   "source": []
  },
  {
   "cell_type": "code",
   "execution_count": null,
   "metadata": {},
   "outputs": [],
   "source": [
    "cwd = os.path.getcwd()\n",
    "\n",
    "current_date = datetime.datetime.now()\n",
    "\n",
    "os.path.join(cwd,'results')"
   ]
  },
  {
   "cell_type": "code",
   "execution_count": 12,
   "metadata": {},
   "outputs": [
    {
     "data": {
      "text/html": [
       "<div>\n",
       "<style scoped>\n",
       "    .dataframe tbody tr th:only-of-type {\n",
       "        vertical-align: middle;\n",
       "    }\n",
       "\n",
       "    .dataframe tbody tr th {\n",
       "        vertical-align: top;\n",
       "    }\n",
       "\n",
       "    .dataframe thead th {\n",
       "        text-align: right;\n",
       "    }\n",
       "</style>\n",
       "<table border=\"1\" class=\"dataframe\">\n",
       "  <thead>\n",
       "    <tr style=\"text-align: right;\">\n",
       "      <th></th>\n",
       "      <th>Filename</th>\n",
       "      <th>Answer(letter)</th>\n",
       "      <th>Answer(word)</th>\n",
       "      <th>Speed</th>\n",
       "      <th>Location</th>\n",
       "      <th>Weather</th>\n",
       "      <th>Prompt</th>\n",
       "    </tr>\n",
       "  </thead>\n",
       "  <tbody>\n",
       "    <tr>\n",
       "      <th>0</th>\n",
       "      <td>Vraag 1.jpeg</td>\n",
       "      <td>None</td>\n",
       "      <td>None</td>\n",
       "      <td>None</td>\n",
       "      <td></td>\n",
       "      <td></td>\n",
       "      <td></td>\n",
       "    </tr>\n",
       "    <tr>\n",
       "      <th>1</th>\n",
       "      <td>Vraag 2.jpeg</td>\n",
       "      <td>None</td>\n",
       "      <td>None</td>\n",
       "      <td>None</td>\n",
       "      <td></td>\n",
       "      <td></td>\n",
       "      <td></td>\n",
       "    </tr>\n",
       "    <tr>\n",
       "      <th>2</th>\n",
       "      <td>Vraag 3.jpeg</td>\n",
       "      <td>None</td>\n",
       "      <td>None</td>\n",
       "      <td>None</td>\n",
       "      <td></td>\n",
       "      <td></td>\n",
       "      <td></td>\n",
       "    </tr>\n",
       "    <tr>\n",
       "      <th>3</th>\n",
       "      <td>Vraag 4.jpeg</td>\n",
       "      <td>None</td>\n",
       "      <td>None</td>\n",
       "      <td>None</td>\n",
       "      <td></td>\n",
       "      <td></td>\n",
       "      <td></td>\n",
       "    </tr>\n",
       "    <tr>\n",
       "      <th>4</th>\n",
       "      <td>Vraag 5.jpeg</td>\n",
       "      <td>None</td>\n",
       "      <td>None</td>\n",
       "      <td>None</td>\n",
       "      <td></td>\n",
       "      <td></td>\n",
       "      <td></td>\n",
       "    </tr>\n",
       "    <tr>\n",
       "      <th>5</th>\n",
       "      <td>Vraag 6.jpeg</td>\n",
       "      <td>None</td>\n",
       "      <td>None</td>\n",
       "      <td>None</td>\n",
       "      <td></td>\n",
       "      <td></td>\n",
       "      <td></td>\n",
       "    </tr>\n",
       "    <tr>\n",
       "      <th>6</th>\n",
       "      <td>Vraag 7.jpeg</td>\n",
       "      <td>None</td>\n",
       "      <td>None</td>\n",
       "      <td>None</td>\n",
       "      <td></td>\n",
       "      <td></td>\n",
       "      <td></td>\n",
       "    </tr>\n",
       "    <tr>\n",
       "      <th>7</th>\n",
       "      <td>Vraag 8.jpeg</td>\n",
       "      <td>None</td>\n",
       "      <td>None</td>\n",
       "      <td>None</td>\n",
       "      <td></td>\n",
       "      <td></td>\n",
       "      <td></td>\n",
       "    </tr>\n",
       "    <tr>\n",
       "      <th>8</th>\n",
       "      <td>Vraag 9.jpeg</td>\n",
       "      <td>None</td>\n",
       "      <td>None</td>\n",
       "      <td>None</td>\n",
       "      <td></td>\n",
       "      <td></td>\n",
       "      <td></td>\n",
       "    </tr>\n",
       "    <tr>\n",
       "      <th>9</th>\n",
       "      <td>Vraag 10.jpeg</td>\n",
       "      <td>None</td>\n",
       "      <td>None</td>\n",
       "      <td>None</td>\n",
       "      <td></td>\n",
       "      <td></td>\n",
       "      <td></td>\n",
       "    </tr>\n",
       "    <tr>\n",
       "      <th>10</th>\n",
       "      <td>Vraag 11.jpeg</td>\n",
       "      <td>None</td>\n",
       "      <td>None</td>\n",
       "      <td>None</td>\n",
       "      <td></td>\n",
       "      <td></td>\n",
       "      <td></td>\n",
       "    </tr>\n",
       "    <tr>\n",
       "      <th>11</th>\n",
       "      <td>Vraag 12.jpeg</td>\n",
       "      <td>None</td>\n",
       "      <td>None</td>\n",
       "      <td>None</td>\n",
       "      <td></td>\n",
       "      <td></td>\n",
       "      <td></td>\n",
       "    </tr>\n",
       "    <tr>\n",
       "      <th>12</th>\n",
       "      <td>Vraag 13.jpeg</td>\n",
       "      <td>None</td>\n",
       "      <td>None</td>\n",
       "      <td>None</td>\n",
       "      <td></td>\n",
       "      <td></td>\n",
       "      <td></td>\n",
       "    </tr>\n",
       "    <tr>\n",
       "      <th>13</th>\n",
       "      <td>Vraag 14.jpeg</td>\n",
       "      <td>None</td>\n",
       "      <td>None</td>\n",
       "      <td>None</td>\n",
       "      <td></td>\n",
       "      <td></td>\n",
       "      <td></td>\n",
       "    </tr>\n",
       "    <tr>\n",
       "      <th>14</th>\n",
       "      <td>Vraag 15.jpeg</td>\n",
       "      <td>None</td>\n",
       "      <td>None</td>\n",
       "      <td>None</td>\n",
       "      <td></td>\n",
       "      <td></td>\n",
       "      <td></td>\n",
       "    </tr>\n",
       "    <tr>\n",
       "      <th>15</th>\n",
       "      <td>Vraag 16.jpeg</td>\n",
       "      <td>None</td>\n",
       "      <td>None</td>\n",
       "      <td>None</td>\n",
       "      <td></td>\n",
       "      <td></td>\n",
       "      <td></td>\n",
       "    </tr>\n",
       "    <tr>\n",
       "      <th>16</th>\n",
       "      <td>Vraag 17.jpeg</td>\n",
       "      <td>None</td>\n",
       "      <td>None</td>\n",
       "      <td>None</td>\n",
       "      <td></td>\n",
       "      <td></td>\n",
       "      <td></td>\n",
       "    </tr>\n",
       "    <tr>\n",
       "      <th>17</th>\n",
       "      <td>Vraag 18.jpeg</td>\n",
       "      <td>None</td>\n",
       "      <td>None</td>\n",
       "      <td>None</td>\n",
       "      <td></td>\n",
       "      <td></td>\n",
       "      <td></td>\n",
       "    </tr>\n",
       "    <tr>\n",
       "      <th>18</th>\n",
       "      <td>Vraag 19.jpeg</td>\n",
       "      <td>None</td>\n",
       "      <td>None</td>\n",
       "      <td>None</td>\n",
       "      <td></td>\n",
       "      <td></td>\n",
       "      <td></td>\n",
       "    </tr>\n",
       "    <tr>\n",
       "      <th>19</th>\n",
       "      <td>Vraag 20.jpeg</td>\n",
       "      <td>None</td>\n",
       "      <td>None</td>\n",
       "      <td>None</td>\n",
       "      <td></td>\n",
       "      <td></td>\n",
       "      <td></td>\n",
       "    </tr>\n",
       "    <tr>\n",
       "      <th>20</th>\n",
       "      <td>Vraag 21.jpeg</td>\n",
       "      <td>None</td>\n",
       "      <td>None</td>\n",
       "      <td>None</td>\n",
       "      <td></td>\n",
       "      <td></td>\n",
       "      <td></td>\n",
       "    </tr>\n",
       "    <tr>\n",
       "      <th>21</th>\n",
       "      <td>Vraag 22.jpeg</td>\n",
       "      <td>None</td>\n",
       "      <td>None</td>\n",
       "      <td>None</td>\n",
       "      <td></td>\n",
       "      <td></td>\n",
       "      <td></td>\n",
       "    </tr>\n",
       "    <tr>\n",
       "      <th>22</th>\n",
       "      <td>Vraag 23.jpeg</td>\n",
       "      <td>None</td>\n",
       "      <td>None</td>\n",
       "      <td>None</td>\n",
       "      <td></td>\n",
       "      <td></td>\n",
       "      <td></td>\n",
       "    </tr>\n",
       "    <tr>\n",
       "      <th>23</th>\n",
       "      <td>Vraag 24.jpeg</td>\n",
       "      <td>None</td>\n",
       "      <td>None</td>\n",
       "      <td>None</td>\n",
       "      <td></td>\n",
       "      <td></td>\n",
       "      <td></td>\n",
       "    </tr>\n",
       "    <tr>\n",
       "      <th>24</th>\n",
       "      <td>Vraag 25.jpeg</td>\n",
       "      <td>None</td>\n",
       "      <td>None</td>\n",
       "      <td>None</td>\n",
       "      <td></td>\n",
       "      <td></td>\n",
       "      <td></td>\n",
       "    </tr>\n",
       "    <tr>\n",
       "      <th>25</th>\n",
       "      <td>Vraag 26.jpeg</td>\n",
       "      <td>None</td>\n",
       "      <td>None</td>\n",
       "      <td>None</td>\n",
       "      <td></td>\n",
       "      <td></td>\n",
       "      <td></td>\n",
       "    </tr>\n",
       "    <tr>\n",
       "      <th>26</th>\n",
       "      <td>Vraag 27.jpeg</td>\n",
       "      <td>None</td>\n",
       "      <td>None</td>\n",
       "      <td>None</td>\n",
       "      <td></td>\n",
       "      <td></td>\n",
       "      <td></td>\n",
       "    </tr>\n",
       "    <tr>\n",
       "      <th>27</th>\n",
       "      <td>Vraag 28.jpeg</td>\n",
       "      <td>None</td>\n",
       "      <td>None</td>\n",
       "      <td>None</td>\n",
       "      <td></td>\n",
       "      <td></td>\n",
       "      <td></td>\n",
       "    </tr>\n",
       "    <tr>\n",
       "      <th>28</th>\n",
       "      <td>Vraag 29.jpeg</td>\n",
       "      <td>None</td>\n",
       "      <td>None</td>\n",
       "      <td>None</td>\n",
       "      <td></td>\n",
       "      <td></td>\n",
       "      <td></td>\n",
       "    </tr>\n",
       "    <tr>\n",
       "      <th>29</th>\n",
       "      <td>Vraag 30.jpeg</td>\n",
       "      <td>None</td>\n",
       "      <td>None</td>\n",
       "      <td>None</td>\n",
       "      <td></td>\n",
       "      <td></td>\n",
       "      <td></td>\n",
       "    </tr>\n",
       "    <tr>\n",
       "      <th>30</th>\n",
       "      <td>Vraag 31.jpeg</td>\n",
       "      <td>None</td>\n",
       "      <td>None</td>\n",
       "      <td>None</td>\n",
       "      <td></td>\n",
       "      <td></td>\n",
       "      <td></td>\n",
       "    </tr>\n",
       "    <tr>\n",
       "      <th>31</th>\n",
       "      <td>Vraag 32.jpeg</td>\n",
       "      <td>None</td>\n",
       "      <td>None</td>\n",
       "      <td>None</td>\n",
       "      <td></td>\n",
       "      <td></td>\n",
       "      <td></td>\n",
       "    </tr>\n",
       "    <tr>\n",
       "      <th>32</th>\n",
       "      <td>Vraag 33.jpeg</td>\n",
       "      <td>None</td>\n",
       "      <td>None</td>\n",
       "      <td>None</td>\n",
       "      <td></td>\n",
       "      <td></td>\n",
       "      <td></td>\n",
       "    </tr>\n",
       "  </tbody>\n",
       "</table>\n",
       "</div>"
      ],
      "text/plain": [
       "         Filename Answer(letter) Answer(word) Speed Location Weather Prompt\n",
       "0   Vraag 1.jpeg            None         None  None                        \n",
       "1    Vraag 2.jpeg           None         None  None                        \n",
       "2    Vraag 3.jpeg           None         None  None                        \n",
       "3    Vraag 4.jpeg           None         None  None                        \n",
       "4    Vraag 5.jpeg           None         None  None                        \n",
       "5    Vraag 6.jpeg           None         None  None                        \n",
       "6    Vraag 7.jpeg           None         None  None                        \n",
       "7    Vraag 8.jpeg           None         None  None                        \n",
       "8    Vraag 9.jpeg           None         None  None                        \n",
       "9   Vraag 10.jpeg           None         None  None                        \n",
       "10  Vraag 11.jpeg           None         None  None                        \n",
       "11  Vraag 12.jpeg           None         None  None                        \n",
       "12  Vraag 13.jpeg           None         None  None                        \n",
       "13  Vraag 14.jpeg           None         None  None                        \n",
       "14  Vraag 15.jpeg           None         None  None                        \n",
       "15  Vraag 16.jpeg           None         None  None                        \n",
       "16  Vraag 17.jpeg           None         None  None                        \n",
       "17  Vraag 18.jpeg           None         None  None                        \n",
       "18  Vraag 19.jpeg           None         None  None                        \n",
       "19  Vraag 20.jpeg           None         None  None                        \n",
       "20  Vraag 21.jpeg           None         None  None                        \n",
       "21  Vraag 22.jpeg           None         None  None                        \n",
       "22  Vraag 23.jpeg           None         None  None                        \n",
       "23  Vraag 24.jpeg           None         None  None                        \n",
       "24  Vraag 25.jpeg           None         None  None                        \n",
       "25  Vraag 26.jpeg           None         None  None                        \n",
       "26  Vraag 27.jpeg           None         None  None                        \n",
       "27  Vraag 28.jpeg           None         None  None                        \n",
       "28  Vraag 29.jpeg           None         None  None                        \n",
       "29  Vraag 30.jpeg           None         None  None                        \n",
       "30  Vraag 31.jpeg           None         None  None                        \n",
       "31  Vraag 32.jpeg           None         None  None                        \n",
       "32  Vraag 33.jpeg           None         None  None                        "
      ]
     },
     "execution_count": 12,
     "metadata": {},
     "output_type": "execute_result"
    }
   ],
   "source": [
    "results"
   ]
  },
  {
   "cell_type": "code",
   "execution_count": 9,
   "metadata": {},
   "outputs": [],
   "source": [
    "results.to_csv(\"results-gpt-3.5-2.csv\")"
   ]
  },
  {
   "cell_type": "code",
   "execution_count": null,
   "metadata": {},
   "outputs": [],
   "source": [
    "df_adjusted = pd.read_csv(\"results-gpt-3.5-adjusted.csv\")\n",
    "df_adjusted.head()"
   ]
  },
  {
   "cell_type": "code",
   "execution_count": null,
   "metadata": {},
   "outputs": [],
   "source": [
    "df_run_1 = pd.read_csv(\"results-gpt-3.5.csv\")\n",
    "df_run_2 = pd.read_csv(\"results-gpt-3.5-2.csv\")\n",
    "df_merged = pd.merge(df_run_1, df_run_2)\n",
    "df_merged = df_merged.drop_duplicates(keep=False)\n",
    "df_merged"
   ]
  },
  {
   "cell_type": "code",
   "execution_count": null,
   "metadata": {},
   "outputs": [],
   "source": [
    "#TODO implement asynchronous API call\n",
    "\n",
    "def make_api_call(prompt):\n",
    "    completion = openai.ChatCompletion.create(\n",
    "        model=\"gpt-3.5-turbo\",\n",
    "        temperature=0,\n",
    "        stop=None,\n",
    "        max_tokens=1024,\n",
    "        n=1,\n",
    "        messages=[\n",
    "            {\n",
    "                \"role\": \"system\",\n",
    "                \"content\": \"You are ChatGPT, a large language model trained by OpenAI. You are taking the dutch driving exam and wil be presented with what you see around you. Answer as concisely as possible and only take the dutch traffic rules in to consideration.\",\n",
    "            },\n",
    "            {\"role\": \"user\", \"content\": prompt},\n",
    "        ],\n",
    "    )\n",
    "    response = completion[\"choices\"][0][\"message\"][\"content\"].strip()\n",
    "    return response\n",
    "\n",
    "for row in range(len(truth.index)):\n",
    "    tru_row = truth.loc[row]\n",
    "    res_row = results.loc[row]\n",
    "\n",
    "    image = tru_row[\"Filename\"]\n",
    "    prompt, car_speed = run_program(image)\n",
    "    res_row[\"Speed\"] = car_speed\n",
    "    res_row[\"Prompt\"] = prompt\n",
    "\n",
    "    # Create a ThreadPoolExecutor for concurrent API calls\n",
    "    with concurrent.futures.ThreadPoolExecutor() as executor:\n",
    "        # Submit the API calls as asynchronous tasks\n",
    "        api_calls = executor.submit(make_api_call, prompt)\n",
    "    \n",
    "\n",
    "# Retrieve the results as they become available\n",
    "for row, future in enumerate(concurrent.futures.as_completed(api_calls)):\n",
    "    generated_text = future.result()\n",
    "    results.loc[row, \"Answer(word)\"] = generated_text\n",
    "\n",
    "# resp_char = response.strip(' \\n\\t')[0]\n",
    "\n",
    "# if resp_char == 'A':\n",
    "#     resp_word = \"Brake\"\n",
    "# elif resp_char == 'B':\n",
    "#     resp_word = \"Release Accelerator\"\n",
    "# elif resp_char == 'C':\n",
    "#     resp_word = \"Nothing\"\n",
    "# else:\n",
    "#     resp_word = \"unknown\"\n",
    "\n",
    "# res_row[\"Answer(letter)\"] = resp_char\n",
    "# res_row[\"Speed\"] = car_speed\n",
    "# res_row[\"Answer(word)\"] = resp_word"
   ]
  }
 ],
 "metadata": {
  "kernelspec": {
   "display_name": "BEP",
   "language": "python",
   "name": "python3"
  },
  "language_info": {
   "codemirror_mode": {
    "name": "ipython",
    "version": 3
   },
   "file_extension": ".py",
   "mimetype": "text/x-python",
   "name": "python",
   "nbconvert_exporter": "python",
   "pygments_lexer": "ipython3",
   "version": "3.9.16"
  },
  "orig_nbformat": 4
 },
 "nbformat": 4,
 "nbformat_minor": 2
}
