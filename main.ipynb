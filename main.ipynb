{
 "cells": [
  {
   "attachments": {},
   "cell_type": "markdown",
   "metadata": {},
   "source": [
    "### Notebook for running pipeline in Colab\n",
    "\n",
    "If you're running on colab: run these cells first!\n"
   ]
  },
  {
   "cell_type": "code",
   "execution_count": null,
   "metadata": {},
   "outputs": [],
   "source": [
    "from google.colab import drive\n",
    "drive.mount('/content/drive')"
   ]
  },
  {
   "cell_type": "code",
   "execution_count": null,
   "metadata": {},
   "outputs": [],
   "source": [
    "%cd /content/drive/MyDrive/BEP/git/GPT-DT\n",
    "!git status\n",
    "!git pull\n",
    "# Choose branch name here:\n",
    "!git checkout evaluation-loop"
   ]
  },
  {
   "cell_type": "code",
   "execution_count": null,
   "metadata": {},
   "outputs": [],
   "source": [
    "%pip install -r requirements-colab.txt"
   ]
  },
  {
   "cell_type": "code",
   "execution_count": null,
   "metadata": {},
   "outputs": [],
   "source": [
    "# CLICK RESTART RUNTIME AND THEN RUN THIS CELL\n",
    "%cd /content/drive/MyDrive/BEP/git/GPT-DT"
   ]
  },
  {
   "attachments": {},
   "cell_type": "markdown",
   "metadata": {},
   "source": [
    "### Main Code"
   ]
  },
  {
   "cell_type": "code",
   "execution_count": null,
   "metadata": {},
   "outputs": [],
   "source": [
    "%matplotlib inline\n",
    "from main import *"
   ]
  },
  {
   "cell_type": "code",
   "execution_count": null,
   "metadata": {},
   "outputs": [],
   "source": [
    "image = \"vraag 4.jpg\"\n",
    "prompt, response, car_speed = run_program(image)"
   ]
  },
  {
   "cell_type": "code",
   "execution_count": null,
   "metadata": {},
   "outputs": [],
   "source": [
    "response"
   ]
  },
  {
   "cell_type": "code",
   "execution_count": 5,
   "metadata": {},
   "outputs": [],
   "source": [
    "truth = pd.read_csv(\"ground-truth.csv\")\n",
    "results = truth.copy(deep = True)\n",
    "results[\"Answer(word)\"] = None\n",
    "results[\"Answer(letter)\"] = None\n",
    "results[\"Speed\"] = None"
   ]
  },
  {
   "cell_type": "code",
   "execution_count": 10,
   "metadata": {},
   "outputs": [],
   "source": [
    "from sklearn import metrics\n",
    "import pandas as pd\n",
    "from matplotlib import pyplot as plt\n",
    "import seaborn as sns\n",
    "%matplotlib inline"
   ]
  },
  {
   "cell_type": "code",
   "execution_count": null,
   "metadata": {},
   "outputs": [],
   "source": [
    "# len(truth.index)\n",
    "\n",
    "for row in range(len(truth.index)):\n",
    "    tru_row = truth.loc[row]\n",
    "    res_row = results.loc[row]\n",
    "\n",
    "    image = tru_row[\"Filename\"]\n",
    "    prompt, response, car_speed = run_program(image)\n",
    "    resp_char = response.strip(' \\n\\t')[0]\n",
    "\n",
    "    if resp_char == 'A':\n",
    "        resp_word = \"Brake\"\n",
    "    elif resp_char == 'B':\n",
    "        resp_word = \"Release Accelerator\"\n",
    "    elif resp_char == 'C':\n",
    "        resp_word = \"Nothing\"\n",
    "    else:\n",
    "        resp_word = \"unknown\"\n",
    "\n",
    "    res_row[\"Answer(letter)\"] = resp_char\n",
    "    res_row[\"Speed\"] = car_speed\n",
    "    res_row[\"Answer(word)\"] = resp_word"
   ]
  },
  {
   "cell_type": "code",
   "execution_count": 13,
   "metadata": {},
   "outputs": [],
   "source": [
    "confu = metrics.confusion_matrix(truth.head(41)[[\"Answer(letter)\"]], results.head(41)[[\"Answer(letter)\"]])\n",
    "score = metrics.accuracy_score(truth.head(41)[[\"Answer(letter)\"]], results.head(41)[[\"Answer(letter)\"]])\n"
   ]
  },
  {
   "cell_type": "code",
   "execution_count": null,
   "metadata": {},
   "outputs": [],
   "source": [
    "sns.heatmap(confu, annot=True, cmap='magma')\n",
    "print(score)\n",
    "plt.show()"
   ]
  },
  {
   "cell_type": "code",
   "execution_count": null,
   "metadata": {},
   "outputs": [],
   "source": [
    "sns.heatmap(confu, annot=True, cmap='magma')\n",
    "print(score)\n",
    "plt.show()"
   ]
  }
 ],
 "metadata": {
  "kernelspec": {
   "display_name": "BEP",
   "language": "python",
   "name": "python3"
  },
  "language_info": {
   "codemirror_mode": {
    "name": "ipython",
    "version": 3
   },
   "file_extension": ".py",
   "mimetype": "text/x-python",
   "name": "python",
   "nbconvert_exporter": "python",
   "pygments_lexer": "ipython3",
   "version": "3.9.16"
  },
  "orig_nbformat": 4
 },
 "nbformat": 4,
 "nbformat_minor": 2
}
