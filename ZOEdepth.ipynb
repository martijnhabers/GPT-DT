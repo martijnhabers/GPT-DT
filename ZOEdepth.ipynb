{
  "nbformat": 4,
  "nbformat_minor": 0,
  "metadata": {
    "colab": {
      "provenance": [],
      "toc_visible": true
    },
    "kernelspec": {
      "name": "python3",
      "display_name": "Python 3"
    },
    "language_info": {
      "name": "python"
    },
    "accelerator": "GPU",
    "gpuClass": "standard"
  },
  "cells": [
    {
      "cell_type": "code",
      "source": [
        "%pip install timm"
      ],
      "metadata": {
        "colab": {
          "base_uri": "https://localhost:8080/"
        },
        "id": "B0bHuxpXpBdI",
        "outputId": "a9a54d75-c865-44a9-8374-a43ae87847e5"
      },
      "execution_count": null,
      "outputs": [
        {
          "output_type": "stream",
          "name": "stdout",
          "text": [
            "Looking in indexes: https://pypi.org/simple, https://us-python.pkg.dev/colab-wheels/public/simple/\n",
            "Collecting timm\n",
            "  Downloading timm-0.6.13-py3-none-any.whl (549 kB)\n",
            "\u001b[2K     \u001b[90m━━━━━━━━━━━━━━━━━━━━━━━━━━━━━━━━━━━━━━\u001b[0m \u001b[32m549.1/549.1 kB\u001b[0m \u001b[31m11.4 MB/s\u001b[0m eta \u001b[36m0:00:00\u001b[0m\n",
            "\u001b[?25hRequirement already satisfied: torchvision in /usr/local/lib/python3.10/dist-packages (from timm) (0.15.1+cu118)\n",
            "Requirement already satisfied: torch>=1.7 in /usr/local/lib/python3.10/dist-packages (from timm) (2.0.0+cu118)\n",
            "Collecting huggingface-hub\n",
            "  Downloading huggingface_hub-0.14.1-py3-none-any.whl (224 kB)\n",
            "\u001b[2K     \u001b[90m━━━━━━━━━━━━━━━━━━━━━━━━━━━━━━━━━━━━━━\u001b[0m \u001b[32m224.5/224.5 kB\u001b[0m \u001b[31m15.3 MB/s\u001b[0m eta \u001b[36m0:00:00\u001b[0m\n",
            "\u001b[?25hRequirement already satisfied: pyyaml in /usr/local/lib/python3.10/dist-packages (from timm) (6.0)\n",
            "Requirement already satisfied: jinja2 in /usr/local/lib/python3.10/dist-packages (from torch>=1.7->timm) (3.1.2)\n",
            "Requirement already satisfied: typing-extensions in /usr/local/lib/python3.10/dist-packages (from torch>=1.7->timm) (4.5.0)\n",
            "Requirement already satisfied: sympy in /usr/local/lib/python3.10/dist-packages (from torch>=1.7->timm) (1.11.1)\n",
            "Requirement already satisfied: triton==2.0.0 in /usr/local/lib/python3.10/dist-packages (from torch>=1.7->timm) (2.0.0)\n",
            "Requirement already satisfied: filelock in /usr/local/lib/python3.10/dist-packages (from torch>=1.7->timm) (3.12.0)\n",
            "Requirement already satisfied: networkx in /usr/local/lib/python3.10/dist-packages (from torch>=1.7->timm) (3.1)\n",
            "Requirement already satisfied: lit in /usr/local/lib/python3.10/dist-packages (from triton==2.0.0->torch>=1.7->timm) (16.0.2)\n",
            "Requirement already satisfied: cmake in /usr/local/lib/python3.10/dist-packages (from triton==2.0.0->torch>=1.7->timm) (3.25.2)\n",
            "Requirement already satisfied: fsspec in /usr/local/lib/python3.10/dist-packages (from huggingface-hub->timm) (2023.4.0)\n",
            "Requirement already satisfied: tqdm>=4.42.1 in /usr/local/lib/python3.10/dist-packages (from huggingface-hub->timm) (4.65.0)\n",
            "Requirement already satisfied: requests in /usr/local/lib/python3.10/dist-packages (from huggingface-hub->timm) (2.27.1)\n",
            "Requirement already satisfied: packaging>=20.9 in /usr/local/lib/python3.10/dist-packages (from huggingface-hub->timm) (23.1)\n",
            "Requirement already satisfied: pillow!=8.3.*,>=5.3.0 in /usr/local/lib/python3.10/dist-packages (from torchvision->timm) (8.4.0)\n",
            "Requirement already satisfied: numpy in /usr/local/lib/python3.10/dist-packages (from torchvision->timm) (1.22.4)\n",
            "Requirement already satisfied: MarkupSafe>=2.0 in /usr/local/lib/python3.10/dist-packages (from jinja2->torch>=1.7->timm) (2.1.2)\n",
            "Requirement already satisfied: certifi>=2017.4.17 in /usr/local/lib/python3.10/dist-packages (from requests->huggingface-hub->timm) (2022.12.7)\n",
            "Requirement already satisfied: idna<4,>=2.5 in /usr/local/lib/python3.10/dist-packages (from requests->huggingface-hub->timm) (3.4)\n",
            "Requirement already satisfied: charset-normalizer~=2.0.0 in /usr/local/lib/python3.10/dist-packages (from requests->huggingface-hub->timm) (2.0.12)\n",
            "Requirement already satisfied: urllib3<1.27,>=1.21.1 in /usr/local/lib/python3.10/dist-packages (from requests->huggingface-hub->timm) (1.26.15)\n",
            "Requirement already satisfied: mpmath>=0.19 in /usr/local/lib/python3.10/dist-packages (from sympy->torch>=1.7->timm) (1.3.0)\n",
            "Installing collected packages: huggingface-hub, timm\n",
            "Successfully installed huggingface-hub-0.14.1 timm-0.6.13\n"
          ]
        }
      ]
    },
    {
      "cell_type": "code",
      "execution_count": null,
      "metadata": {
        "colab": {
          "base_uri": "https://localhost:8080/",
          "height": 723
        },
        "id": "I59iFrpzl99n",
        "outputId": "8e16b529-ef33-44ce-b9de-c05e6ab471aa"
      },
      "outputs": [
        {
          "output_type": "stream",
          "name": "stderr",
          "text": [
            "/usr/local/lib/python3.10/dist-packages/torch/hub.py:286: UserWarning: You are about to download and run code from an untrusted repository. In a future release, this won't be allowed. To add the repository to your trusted list, change the command to {calling_fn}(..., trust_repo=False) and a command prompt will appear asking for an explicit confirmation of trust, or load(..., trust_repo=True), which will assume that the prompt is to be answered with 'yes'. You can also use load(..., trust_repo='check') which will only prompt for confirmation if the repo is not already trusted. This will eventually be the default behaviour\n",
            "  warnings.warn(\n",
            "Downloading: \"https://github.com/isl-org/ZoeDepth/zipball/main\" to /root/.cache/torch/hub/main.zip\n"
          ]
        },
        {
          "output_type": "stream",
          "name": "stdout",
          "text": [
            "img_size [384, 512]\n"
          ]
        },
        {
          "output_type": "stream",
          "name": "stderr",
          "text": [
            "/usr/local/lib/python3.10/dist-packages/torch/hub.py:286: UserWarning: You are about to download and run code from an untrusted repository. In a future release, this won't be allowed. To add the repository to your trusted list, change the command to {calling_fn}(..., trust_repo=False) and a command prompt will appear asking for an explicit confirmation of trust, or load(..., trust_repo=True), which will assume that the prompt is to be answered with 'yes'. You can also use load(..., trust_repo='check') which will only prompt for confirmation if the repo is not already trusted. This will eventually be the default behaviour\n",
            "  warnings.warn(\n",
            "Downloading: \"https://github.com/intel-isl/MiDaS/zipball/master\" to /root/.cache/torch/hub/master.zip\n",
            "/usr/local/lib/python3.10/dist-packages/torch/functional.py:504: UserWarning: torch.meshgrid: in an upcoming release, it will be required to pass the indexing argument. (Triggered internally at ../aten/src/ATen/native/TensorShape.cpp:3483.)\n",
            "  return _VF.meshgrid(tensors, **kwargs)  # type: ignore[attr-defined]\n"
          ]
        },
        {
          "output_type": "stream",
          "name": "stdout",
          "text": [
            "Params passed to Resize transform:\n",
            "\twidth:  512\n",
            "\theight:  384\n",
            "\tresize_target:  True\n",
            "\tkeep_aspect_ratio:  True\n",
            "\tensure_multiple_of:  32\n",
            "\tresize_method:  minimal\n",
            "Using pretrained resource url::https://github.com/isl-org/ZoeDepth/releases/download/v1.0/ZoeD_M12_NK.pt\n"
          ]
        },
        {
          "output_type": "stream",
          "name": "stderr",
          "text": [
            "Downloading: \"https://github.com/isl-org/ZoeDepth/releases/download/v1.0/ZoeD_M12_NK.pt\" to /root/.cache/torch/hub/checkpoints/ZoeD_M12_NK.pt\n",
            "100%|██████████| 1.35G/1.35G [00:17<00:00, 82.9MB/s]\n"
          ]
        },
        {
          "output_type": "stream",
          "name": "stdout",
          "text": [
            "Loaded successfully\n"
          ]
        },
        {
          "output_type": "error",
          "ename": "FileNotFoundError",
          "evalue": "ignored",
          "traceback": [
            "\u001b[0;31m---------------------------------------------------------------------------\u001b[0m",
            "\u001b[0;31mFileNotFoundError\u001b[0m                         Traceback (most recent call last)",
            "\u001b[0;32m<ipython-input-2-b27a69a0b20a>\u001b[0m in \u001b[0;36m<cell line: 22>\u001b[0;34m()\u001b[0m\n\u001b[1;32m     20\u001b[0m \u001b[0;34m\u001b[0m\u001b[0m\n\u001b[1;32m     21\u001b[0m \u001b[0;31m# Local file\u001b[0m\u001b[0;34m\u001b[0m\u001b[0;34m\u001b[0m\u001b[0m\n\u001b[0;32m---> 22\u001b[0;31m \u001b[0mimage\u001b[0m \u001b[0;34m=\u001b[0m \u001b[0mImage\u001b[0m\u001b[0;34m.\u001b[0m\u001b[0mopen\u001b[0m\u001b[0;34m(\u001b[0m\u001b[0;34m\"/content/drive/MyDrive/ZOE probeersels/Images/vraag 16.jpg\"\u001b[0m\u001b[0;34m)\u001b[0m\u001b[0;34m.\u001b[0m\u001b[0mconvert\u001b[0m\u001b[0;34m(\u001b[0m\u001b[0;34m\"RGB\"\u001b[0m\u001b[0;34m)\u001b[0m  \u001b[0;31m# load\u001b[0m\u001b[0;34m\u001b[0m\u001b[0;34m\u001b[0m\u001b[0m\n\u001b[0m\u001b[1;32m     23\u001b[0m \u001b[0mdepth_numpy\u001b[0m \u001b[0;34m=\u001b[0m \u001b[0mzoe\u001b[0m\u001b[0;34m.\u001b[0m\u001b[0minfer_pil\u001b[0m\u001b[0;34m(\u001b[0m\u001b[0mimage\u001b[0m\u001b[0;34m)\u001b[0m  \u001b[0;31m# as numpy\u001b[0m\u001b[0;34m\u001b[0m\u001b[0;34m\u001b[0m\u001b[0m\n\u001b[1;32m     24\u001b[0m \u001b[0mplt\u001b[0m\u001b[0;34m.\u001b[0m\u001b[0mimshow\u001b[0m\u001b[0;34m(\u001b[0m\u001b[0mimage\u001b[0m\u001b[0;34m)\u001b[0m\u001b[0;34m\u001b[0m\u001b[0;34m\u001b[0m\u001b[0m\n",
            "\u001b[0;32m/usr/local/lib/python3.10/dist-packages/PIL/Image.py\u001b[0m in \u001b[0;36mopen\u001b[0;34m(fp, mode, formats)\u001b[0m\n\u001b[1;32m   2973\u001b[0m \u001b[0;34m\u001b[0m\u001b[0m\n\u001b[1;32m   2974\u001b[0m     \u001b[0;32mif\u001b[0m \u001b[0mfilename\u001b[0m\u001b[0;34m:\u001b[0m\u001b[0;34m\u001b[0m\u001b[0;34m\u001b[0m\u001b[0m\n\u001b[0;32m-> 2975\u001b[0;31m         \u001b[0mfp\u001b[0m \u001b[0;34m=\u001b[0m \u001b[0mbuiltins\u001b[0m\u001b[0;34m.\u001b[0m\u001b[0mopen\u001b[0m\u001b[0;34m(\u001b[0m\u001b[0mfilename\u001b[0m\u001b[0;34m,\u001b[0m \u001b[0;34m\"rb\"\u001b[0m\u001b[0;34m)\u001b[0m\u001b[0;34m\u001b[0m\u001b[0;34m\u001b[0m\u001b[0m\n\u001b[0m\u001b[1;32m   2976\u001b[0m         \u001b[0mexclusive_fp\u001b[0m \u001b[0;34m=\u001b[0m \u001b[0;32mTrue\u001b[0m\u001b[0;34m\u001b[0m\u001b[0;34m\u001b[0m\u001b[0m\n\u001b[1;32m   2977\u001b[0m \u001b[0;34m\u001b[0m\u001b[0m\n",
            "\u001b[0;31mFileNotFoundError\u001b[0m: [Errno 2] No such file or directory: '/content/drive/MyDrive/ZOE probeersels/Images/vraag 16.jpg'"
          ]
        }
      ],
      "source": [
        "\n",
        "import torch\n",
        "import matplotlib.pyplot as plt\n",
        "from PIL import Image\n",
        "import pandas as pd\n",
        "import numpy as np\n",
        "import math\n",
        "\n",
        "repo = \"isl-org/ZoeDepth\"\n",
        "#torch.hub.help(\"intel-isl/MiDaS\", \"DPT_BEiT_L_384\", force_reload=True)\n",
        "\n",
        "# Zoe_K\n",
        "#model_zoe_k = torch.hub.load(repo, \"ZoeD_K\", pretrained=True)\n",
        "\n",
        "# Zoe_NK\n",
        "model_zoe_nk = torch.hub.load(repo, \"ZoeD_NK\", pretrained=True)\n",
        "\n",
        "##### sample prediction\n",
        "DEVICE = \"cuda\" if torch.cuda.is_available() else \"cpu\"\n",
        "zoe = model_zoe_nk.to(DEVICE)\n",
        "\n",
        "# Local file\n",
        "image = Image.open(\"/content/drive/MyDrive/ZOE probeersels/Images/vraag 16.jpg\").convert(\"RGB\")  # load \n",
        "depth_numpy = zoe.infer_pil(image)  # as numpy\n",
        "plt.imshow(image)\n",
        "plt.show()\n",
        "\n",
        "depth_pil = zoe.infer_pil(image, output_type=\"pil\")  # as 16-bit PIL Image\n",
        "\n",
        "depth_tensor = zoe.infer_pil(image, output_type=\"tensor\")  # as torch tensor\n",
        "\n",
        "# Tensor \n",
        "from zoedepth.utils.misc import pil_to_batched_tensor\n",
        "X = pil_to_batched_tensor(image).to(DEVICE)\n",
        "depth_tensor = zoe.infer(X)\n",
        "\n",
        "#image = get_image_from_url(URL)  # fetch\n",
        "depth = zoe.infer_pil(image)\n",
        "\n",
        "# Save raw\n",
        "from zoedepth.utils.misc import save_raw_16bit\n",
        "fpath = \"/content/drive/MyDrive/ZOE probeersels/Test.png\"\n",
        "save_raw_16bit(depth, fpath)\n",
        "\n",
        "# Colorize output\n",
        "from zoedepth.utils.misc import colorize\n",
        "\n",
        "colored = colorize(depth)\n",
        "\n",
        "# save colored output\n",
        "Image.fromarray(colored).save(\"/content/drive/MyDrive/ZOE probeersels/Test_colored.png\")\n",
        "\n",
        "# display image\n",
        "image = Image.open(\"/content/drive/MyDrive/ZOE probeersels/Test_colored.png\")\n",
        "plt.imshow(image)\n",
        "plt.show()\n",
        "\n",
        "from PIL import Image\n",
        "import csv\n",
        "\n",
        "# Load image\n",
        "img = Image.open(\"/content/drive/MyDrive/ZOE probeersels/Test_colored.png\")\n",
        "width, height = img.size\n",
        "\n",
        "# Open CSV file\n",
        "loc_sheet = \"/content/drive/MyDrive/ZOE probeersels/CSV/dataframe_voor_depth_16.csv\"\n",
        "df = pd.read_csv(r'%s' %(loc_sheet), index_col = 0) #df = pd.read_excel(r'...')\n",
        "\n",
        "#TABLE\n",
        "classnum_name = 'class'\n",
        "xmid_name = 'x_midden'\n",
        "ymid_name = 'y_midden'\n",
        "b_name = 'breedte'\n",
        "h_name = 'hoogte'\n",
        "pred_name = 'predictions'\n",
        "class_name = 'class_naam'\n",
        "state_name = 'state'\n",
        "foto_name = 'foto_naam'\n",
        "hp_name = 'height_position'\n",
        "wp_name = 'width_position'\n",
        "pos_name = 'position'\n",
        "\n",
        "        #Define distances\n",
        "     #   closeness = pixel_color[0]\n",
        "      #  if 151 > closeness > 100: \n",
        "    #      distance = \"medium far\"\n",
        "    #    elif 51 < closeness < 150:\n",
        "   #       distance = \"far\"\n",
        "       # elif closeness < 50:\n",
        "      #    continue\n",
        "     #  else: \n",
        "     #     distance = \"close\"\n",
        "\n",
        "Dist = pd.DataFrame(df.loc[:,'%s'%(class_name)])\n",
        "Dist['Dist'] = np.zeros(len(Dist.index))\n",
        "for r in range(0,len(df.index)):\n",
        "      x = df.loc[r,'%s'%xmid_name]\n",
        "      y = df.loc[r,'%s'%ymid_name]\n",
        "      R,G,B,O = img.getpixel((x, y))\n",
        "      Dist.loc[r,'RGB'] = R\n",
        "      Dist.loc[r,'x'] = x\n",
        "      Dist.loc[r,'y'] = y\n",
        "      if R <= 50:\n",
        "        Dist.loc[r,'Dist'] = 'in the distance'\n",
        "      elif 50 < R <= 80:\n",
        "        Dist.loc[r,'Dist'] = 'almost 100m away'\n",
        "      elif 80 < R <= 120:\n",
        "        Dist.loc[r,'Dist'] = 'a few tens of meters away'\n",
        "      else:\n",
        "        Dist.loc[r,'Dist'] = 'a few meters away'\n",
        "      \n",
        "print(Dist)\n",
        "\n",
        "      "
      ]
    },
    {
      "cell_type": "code",
      "source": [
        "from google.colab import drive\n",
        "drive.mount('/content/drive')"
      ],
      "metadata": {
        "id": "qq2wzu2XnyfO"
      },
      "execution_count": null,
      "outputs": []
    },
    {
      "cell_type": "code",
      "source": [],
      "metadata": {
        "id": "livGFXGEYxR9"
      },
      "execution_count": null,
      "outputs": []
    }
  ]
}